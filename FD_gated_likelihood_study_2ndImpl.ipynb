{
 "cells": [
  {
   "cell_type": "markdown",
   "id": "6e407799-f9bd-41d7-8f16-559594b7c0d8",
   "metadata": {},
   "source": [
    "# Compute and use FD gated likelihood"
   ]
  },
  {
   "cell_type": "code",
   "execution_count": 1,
   "id": "702a1888-f7d7-456d-afc5-5556af9e99e3",
   "metadata": {},
   "outputs": [],
   "source": [
    "import time\n",
    "import numpy as np\n",
    "import matplotlib.pyplot as plt\n",
    "import warnings\n",
    "import multiprocessing\n",
    "import os, datetime\n",
    "from tqdm import tqdm\n",
    "from numpy.fft import rfft, irfft\n",
    "\n",
    "from lisatools.diagnostic import *\n",
    "from lisatools.sensitivity import SensitivityMatrix, A1TDISens, E1TDISens, LISASens\n",
    "from lisatools.utils.constants import *\n",
    "from lisatools.detector import ESAOrbits, EqualArmlengthOrbits\n",
    "from lisatools.datacontainer import DataResidualArray \n",
    "from lisatools.analysiscontainer import AnalysisContainer\n",
    "\n",
    "from few.waveform import GenerateEMRIWaveform\n",
    "from few.utils.constants import *\n",
    "from few.trajectory.inspiral import EMRIInspiral\n",
    "from few.utils.utility import get_p_at_t\n",
    "from few.utils.fdutils import *\n",
    "traj_module = EMRIInspiral(func=\"KerrEccEqFlux\")\n",
    "\n",
    "from eryn.ensemble import EnsembleSampler\n",
    "from eryn.prior import ProbDistContainer, uniform_dist\n",
    "from eryn.state import State\n",
    "from scipy.signal.windows import tukey, hann, boxcar, nuttall, blackman\n",
    "from eryn.backends import HDFBackend\n",
    "\n",
    "from fastlisaresponse import pyResponseTDI, ResponseWrapper\n",
    "\n",
    "try:\n",
    "    import cupy as cp\n",
    "except Exception:\n",
    "    cp = None"
   ]
  },
  {
   "cell_type": "code",
   "execution_count": 2,
   "id": "5fc76363-94e1-4f5a-9332-31c6db268bd4",
   "metadata": {},
   "outputs": [],
   "source": [
    "# gpu\n",
    "use_gpu = False"
   ]
  },
  {
   "cell_type": "code",
   "execution_count": 3,
   "id": "3543994a-afcb-497e-8d28-a4f8be24f804",
   "metadata": {},
   "outputs": [],
   "source": [
    "# metric\n",
    "metric = \"FastKerrEccentricEquatorialFlux\"   # Kerr\n",
    "traj = \"KerrEccEqFlux\""
   ]
  },
  {
   "cell_type": "code",
   "execution_count": 4,
   "id": "cfb55870-885a-4e74-a3ce-51dcd41655d9",
   "metadata": {},
   "outputs": [],
   "source": [
    "# Observation parameters\n",
    "#Tobs = 1  # [years]\n",
    "#dt = 50.0  # [s]\n",
    "\n",
    "Tobs = 0.006 # almost 2 days [yrs]\n",
    "dt = 10.0  # [s]\n",
    "eps = 1e-5  # mode content\n",
    "\n",
    "emri_waveform_kwargs = dict(T=Tobs, dt=dt, eps=eps)"
   ]
  },
  {
   "cell_type": "code",
   "execution_count": 5,
   "id": "31af6830-19d6-4c28-a4ad-7e75ba558c1b",
   "metadata": {},
   "outputs": [],
   "source": [
    "# Waveform parameters\n",
    "M = 1e6  # central object mass\n",
    "mu = 10  # secondary object mass\n",
    "a = 0.5  # spin (will be ignored in Schwarzschild waveform)\n",
    "#p0 = 8.2  # initial semi-latus rectum\n",
    "p0 = 5.2  # initial semi-latus rectum\n",
    "e0 = 0.5  # eccentricity\n",
    "x0 = 1.0  # cosine of inclination \n",
    "dist = 1.0  # distance\n",
    "\n",
    "qK = np.pi / 6  # polar spin angle (theta)\n",
    "phiK = np.pi / 3  # azimuthal viewing angle\n",
    "qS = np.pi / 6  # polar sky angle\n",
    "phiS = np.pi / 3  # azimuthal viewing angle\n",
    "\n",
    "Phi_phi0 = np.pi / 3\n",
    "Phi_theta0 = np.pi / 6\n",
    "Phi_r0 = np.pi / 3\n",
    "\n",
    "\n",
    "\n",
    "emri_waveform_args = [\n",
    "    M,\n",
    "    mu,\n",
    "    a,\n",
    "    p0,\n",
    "    e0,\n",
    "    x0,\n",
    "    dist,\n",
    "    qS,\n",
    "    phiS,\n",
    "    qK,\n",
    "    phiK,\n",
    "    Phi_phi0,\n",
    "    Phi_theta0,\n",
    "    Phi_r0,\n",
    "]"
   ]
  },
  {
   "cell_type": "code",
   "execution_count": 6,
   "id": "d4f74014-a846-4036-ba13-b48b96683a96",
   "metadata": {},
   "outputs": [],
   "source": [
    "# TDI\n",
    "\n",
    "tdi_chan=\"AE\"\n",
    "tdi_labels=[\"A\", \"E\"]\n",
    "\n",
    "#tdi_chan=\"AET\"\n",
    "#tdi_labels=[\"A\", \"E\", \"T\"]\n",
    "\n",
    "order = 25 # order of the langrangian interpolation (for strain and orbits?)\n",
    "\n",
    "tdi_gen=\"1st generation\"\n",
    "#tdi_gen=\"2nd generation\"\n",
    "\n",
    "\n",
    "response_kwargs = dict(\n",
    "        Tobs=Tobs,\n",
    "        dt=dt,\n",
    "        #t0 = 10000.0,  # time at which signal starts (chops off data at start and end of waveform)\n",
    "        order = order, # order of the langrangian interpolation (for strain and orbits?)\n",
    "        index_beta = 7,   # Sky location parameters: theta --> qS\n",
    "        index_lambda = 8, #                          phi --> phiS\n",
    "        tdi=tdi_gen, \n",
    "        tdi_chan=tdi_chan,\n",
    "        orbits=EqualArmlengthOrbits(),\n",
    "    )"
   ]
  },
  {
   "cell_type": "markdown",
   "id": "cfd31245-3dcc-42b1-b950-8f820050e038",
   "metadata": {},
   "source": [
    "Generate TD data with detector response --> chans"
   ]
  },
  {
   "cell_type": "code",
   "execution_count": 7,
   "id": "9d0e2b4c-809e-4688-a1ba-e4f5976ceabc",
   "metadata": {},
   "outputs": [],
   "source": [
    "# Initialise generator\n",
    "td_gen = GenerateEMRIWaveform(\n",
    "        metric,\n",
    "        sum_kwargs=dict(pad_output=True, odd_len=True),\n",
    "        return_list=False,\n",
    "        use_gpu=use_gpu,\n",
    "    )\n",
    "\n",
    "\n",
    "\n",
    "lisa_response = ResponseWrapper(waveform_gen=td_gen,\n",
    "                                flip_hx=True,\n",
    "                                use_gpu=use_gpu,\n",
    "                                remove_sky_coords=False,\n",
    "                                is_ecliptic_latitude=False,\n",
    "                                remove_garbage=False,\n",
    "                                **response_kwargs)\n",
    "\n",
    "\n",
    "\n",
    "\n",
    "def fastlisaresponse(*params, emri_waveform_kwargs=None):\n",
    "    return lisa_response(*params, **(emri_waveform_kwargs or {}))"
   ]
  },
  {
   "cell_type": "markdown",
   "id": "e5ad6bae-418b-4887-96a5-b875ebb9a4c8",
   "metadata": {},
   "source": [
    "#### Generate TD waveform"
   ]
  },
  {
   "cell_type": "code",
   "execution_count": 8,
   "id": "b049fda8-28a1-4f89-83d2-d10d466ccfcb",
   "metadata": {},
   "outputs": [
    {
     "name": "stdout",
     "output_type": "stream",
     "text": [
      "Waveform generation took 10.66 s\n"
     ]
    }
   ],
   "source": [
    "# Generate a waveform\n",
    "start = time.time()\n",
    "chans = fastlisaresponse(\n",
    "    *emri_waveform_args,\n",
    "    emri_waveform_kwargs=emri_waveform_kwargs,\n",
    ")\n",
    "print(f\"Waveform generation took {time.time()-start:.2f} s\")"
   ]
  },
  {
   "cell_type": "code",
   "execution_count": 9,
   "id": "d1984e44-d342-4f5d-b111-3733c9b5d6c2",
   "metadata": {},
   "outputs": [
    {
     "data": {
      "image/png": "[encoded data removed]",
      "text/plain": [
       "<Figure size 800x300 with 1 Axes>"
      ]
     },
     "metadata": {},
     "output_type": "display_data"
    }
   ],
   "source": [
    "# Visualise the signal\n",
    "time_array = np.arange(0,len(chans[0]))*dt\n",
    "\n",
    "plt.figure(figsize=(8,3))\n",
    "plt.plot(time_array, chans[0], label='TD waveform')\n",
    "plt.ylabel(r'$h_{A}(t)$')\n",
    "plt.xlabel(r'$t$ [s]')\n",
    "#plt.xlim(1.7e5,1.9e5)\n",
    "plt.legend()\n",
    "plt.tight_layout()\n",
    "\n",
    "plt.show()"
   ]
  },
  {
   "cell_type": "markdown",
   "id": "86e7f9e4-ddfd-4f82-94eb-3d91eb3f1fc8",
   "metadata": {},
   "source": [
    "#### Transform in FD and cut the data above minimum frequency"
   ]
  },
  {
   "cell_type": "code",
   "execution_count": 10,
   "id": "26d0ebb3-8b13-4fe7-8dc3-31891669ad97",
   "metadata": {},
   "outputs": [],
   "source": [
    "# Compute f_min\n",
    "r_apo = p0 * M * MTSUN_SI / (1 - e0)  # meters\n",
    "r_per = p0 * M * MTSUN_SI / (1 + e0)  # meters\n",
    "r0 = (r_apo+r_per)/2\n",
    "\n",
    "f_orb_0 = np.sqrt(M * MTSUN_SI / r0**3) / (2 * np.pi)  # rad/s\n",
    "\n",
    "f_min = 2 * f_orb_0"
   ]
  },
  {
   "cell_type": "code",
   "execution_count": 11,
   "id": "3de9f6cc-867a-411d-bbc0-d5cd747ff82b",
   "metadata": {},
   "outputs": [],
   "source": [
    "N = len(chans[0])\n",
    "freqs = np.fft.rfftfreq(N, d=dt)       \n",
    "complete_data = np.fft.rfft(chans, axis=-1) * dt  # FD\n",
    "\n",
    "freq_threshold = f_min\n",
    "mask = freqs > freq_threshold\n",
    "\n",
    "data_filtered = complete_data[:,mask] # Cut above min freq\n",
    "freq_filtered = freqs[mask]"
   ]
  },
  {
   "cell_type": "raw",
   "id": "fd8c7e84-4cf8-47a3-a423-3d799fb1bd2c",
   "metadata": {},
   "source": [
    "plt.loglog(freq_filtered, 4*freq_filtered**2 * (np.abs(data_filtered[0])**2 + np.abs(data_filtered[1])**2) )\n",
    "\n",
    "plt.show()"
   ]
  },
  {
   "cell_type": "markdown",
   "id": "0acbdcf6-a257-4ebb-858a-e4eee391b6ab",
   "metadata": {},
   "source": [
    "#### Define w and W (gated function)"
   ]
  },
  {
   "cell_type": "markdown",
   "id": "52612dc2-13e6-4229-906f-4b9d97043e20",
   "metadata": {},
   "source": [
    "Choose positions of gaps: at 20%, 40%... of signal"
   ]
  },
  {
   "cell_type": "code",
   "execution_count": 12,
   "id": "38e7ec11-bebf-445e-8c43-75135ea8b3a4",
   "metadata": {},
   "outputs": [],
   "source": [
    "N_d = 2*int(60*60/dt)   # Length gap: 2 hrs\n",
    "#N_d = 2*int(60*60*24/dt)  # Length gap: 2 day\n",
    "\n",
    "N_tot = len(chans[0])   # Tot lenght of signal\n",
    "\n",
    "u = np.array([0.20, 0.40, 0.60, 0.80])  # position of gaps (after 20%, 40%... of signal)\n",
    "# u = np.array([0.20, 0.45, 0.70, 0.95]) \n",
    "\n",
    "idx = np.floor(u * (N_tot - N_d) - 1).astype(int) # obtain the indeces of such positions"
   ]
  },
  {
   "cell_type": "markdown",
   "id": "2c2d1179-93bc-4002-8332-6da8dde8187c",
   "metadata": {},
   "source": [
    "Create w: 0 where gaps, 1 where data"
   ]
  },
  {
   "cell_type": "code",
   "execution_count": 13,
   "id": "6ee432f5-447f-4acf-8edd-3592a5667c33",
   "metadata": {},
   "outputs": [],
   "source": [
    "w = np.ones(N_tot, dtype=int)  \n",
    "for i in idx: w[i:i+N_d] = 0     "
   ]
  },
  {
   "cell_type": "markdown",
   "id": "40223ad8-cbbb-4a0a-8de3-e098c958992b",
   "metadata": {},
   "source": [
    "Dataset with gaps obtained by multiplying the waveform by w (which sets the gap portions to zero)"
   ]
  },
  {
   "cell_type": "code",
   "execution_count": 14,
   "id": "9b5b9e84-f96d-4380-ba8e-f6e3950ab792",
   "metadata": {},
   "outputs": [],
   "source": [
    "chans_gap = chans * w"
   ]
  },
  {
   "cell_type": "markdown",
   "id": "ed61a687-0b45-42fd-bfc6-a174b020a27a",
   "metadata": {},
   "source": [
    "W diagonal matrix obtained by putting to zero the entries that correspond to gaps (= w as its diagonal)"
   ]
  },
  {
   "cell_type": "code",
   "execution_count": 15,
   "id": "b43063d1-da84-42ef-8878-b906540c4663",
   "metadata": {},
   "outputs": [],
   "source": [
    "W = np.diag(w)"
   ]
  },
  {
   "cell_type": "markdown",
   "id": "a5502da6-7f14-41de-9362-e2d341420b7e",
   "metadata": {},
   "source": [
    "Visualise signal with gaps"
   ]
  },
  {
   "cell_type": "code",
   "execution_count": 16,
   "id": "35fb482c-3a30-4d8c-ace8-6ec837c552aa",
   "metadata": {},
   "outputs": [
    {
     "data": {
      "image/png": "[encoded data removed]",
      "text/plain": [
       "<Figure size 800x300 with 1 Axes>"
      ]
     },
     "metadata": {},
     "output_type": "display_data"
    }
   ],
   "source": [
    "time_array = np.arange(0,len(chans_gap[0]))*dt\n",
    "\n",
    "plt.figure(figsize=(8,3))\n",
    "plt.plot(time_array, chans_gap[0], label='TD waveform')\n",
    "plt.axvline(idx[0]*dt, color='r', label='gap')\n",
    "plt.axvline(idx[1]*dt, color='r')\n",
    "plt.axvline(idx[2]*dt, color='r')\n",
    "plt.axvline(idx[3]*dt, color='r')\n",
    "plt.ylabel(r'$h_{+}(t)$')\n",
    "plt.xlabel(r'$t$ [s]')\n",
    "#plt.xlim(2.3e7,2.7e7)\n",
    "plt.legend()\n",
    "plt.tight_layout()\n",
    "\n",
    "plt.show()"
   ]
  },
  {
   "cell_type": "markdown",
   "id": "bfceca9d-9ccb-49b3-b360-e3e5c180d435",
   "metadata": {},
   "source": [
    "### Check FD plot"
   ]
  },
  {
   "cell_type": "code",
   "execution_count": 17,
   "id": "ca4bd57d-6b02-4f99-b1fd-24b6bac9a623",
   "metadata": {},
   "outputs": [],
   "source": [
    "fft_gated = np.fft.rfft(chans_gap[0]) * dt\n",
    "freq_gated = np.fft.rfftfreq(len(chans_gap[0]), dt)\n",
    "\n",
    "positive_frequency_mask_gated = (freq_gated > 0.0)"
   ]
  },
  {
   "cell_type": "code",
   "execution_count": 18,
   "id": "a8957cf4-ef79-4cfd-8b63-4a0d4680a7fc",
   "metadata": {},
   "outputs": [
    {
     "data": {
      "image/png": "[encoded data removed]",
      "text/plain": [
       "<Figure size 640x480 with 1 Axes>"
      ]
     },
     "metadata": {},
     "output_type": "display_data"
    }
   ],
   "source": [
    "extr_freq_a = 1e-5\n",
    "extr_freq_b = 5e-2\n",
    "freq_grid = np.linspace(extr_freq_a, extr_freq_b)\n",
    "\n",
    "plt.loglog(freq_gated[positive_frequency_mask_gated],\n",
    "                 4 * freq_gated[positive_frequency_mask_gated]**2 * np.abs(fft_gated[positive_frequency_mask_gated])**2)\n",
    "plt.loglog(freq_grid, get_sensitivity(freq_grid, sens_fn='A1TDISens', return_type='PSD')*freq_grid,\n",
    "             color='#272323', linestyle='--', linewidth=2,   label='A/E ch. sens')\n",
    "plt.axvline(f_min, c='r')\n",
    "plt.ylabel(r'$| \\tilde{h}_{+} (f)|^2$',fontsize=16)\n",
    "plt.grid()\n",
    "plt.xlabel(r'$f$ [Hz]',fontsize=16)\n",
    "plt.ylim([1e-54, 1e-39])\n",
    "plt.title('DFT of TDI signals')\n",
    "plt.show()"
   ]
  },
  {
   "cell_type": "markdown",
   "id": "7fec7272-6524-4d62-82b4-ee961634b7ed",
   "metadata": {},
   "source": [
    "# FD likelihood "
   ]
  },
  {
   "cell_type": "markdown",
   "id": "c55d5e9a-70d1-402e-938a-5000edf5f492",
   "metadata": {},
   "source": [
    "### Compute pseudoinverse of gated covariance in FD"
   ]
  },
  {
   "cell_type": "markdown",
   "id": "cf812699-9ba7-4ad2-b521-f65a5efd3280",
   "metadata": {},
   "source": [
    "I'm doing everything for one channel (A). If it works, then I'll add also the second channel in the computation of the likelihood."
   ]
  },
  {
   "cell_type": "markdown",
   "id": "00f4f96b-9351-487d-9c38-e60212bf32b4",
   "metadata": {},
   "source": [
    "First, I compute Sigma tilde."
   ]
  },
  {
   "cell_type": "code",
   "execution_count": 19,
   "id": "c983e580-e09a-4e4a-948b-a33662d5ae9a",
   "metadata": {},
   "outputs": [],
   "source": [
    "N = len(W)\n",
    "df = 1.0 / (N * dt)\n",
    "\n",
    "# Compute positive psd using lisatools 'get_sensitivity' (for channel A for now)\n",
    "freqs = np.fft.rfftfreq(N, d=dt)\n",
    "\n",
    "freq_threshold = f_min\n",
    "mask = freqs > freq_threshold\n",
    "\n",
    "freq_filt = freqs[mask]"
   ]
  },
  {
   "cell_type": "code",
   "execution_count": 20,
   "id": "fcb01834-2f9a-45c4-888a-a3e1ac7e810f",
   "metadata": {},
   "outputs": [
    {
     "name": "stdout",
     "output_type": "stream",
     "text": [
      "[[1.69948036e-37 0.00000000e+00 0.00000000e+00 ... 0.00000000e+00\n",
      "  0.00000000e+00 0.00000000e+00]\n",
      " [0.00000000e+00 1.70519975e-37 0.00000000e+00 ... 0.00000000e+00\n",
      "  0.00000000e+00 0.00000000e+00]\n",
      " [0.00000000e+00 0.00000000e+00 1.71094465e-37 ... 0.00000000e+00\n",
      "  0.00000000e+00 0.00000000e+00]\n",
      " ...\n",
      " [0.00000000e+00 0.00000000e+00 0.00000000e+00 ... 5.38003136e-35\n",
      "  0.00000000e+00 0.00000000e+00]\n",
      " [0.00000000e+00 0.00000000e+00 0.00000000e+00 ... 0.00000000e+00\n",
      "  5.37536515e-35 0.00000000e+00]\n",
      " [0.00000000e+00 0.00000000e+00 0.00000000e+00 ... 0.00000000e+00\n",
      "  0.00000000e+00 5.37069978e-35]]\n"
     ]
    }
   ],
   "source": [
    "Sn = get_sensitivity(freq_filt, sens_fn=\"A1TDISens\")\n",
    "Sigma_tilde_diag = Sn / (2 * df)  # Nota: divido per df, non moltiplico!\n",
    "Sigma_tilde_filt = np.diag(Sigma_tilde_diag)\n",
    "print(Sigma_tilde_filt)"
   ]
  },
  {
   "cell_type": "markdown",
   "id": "387dca6f-2392-4cd5-9885-82735c9a8823",
   "metadata": {},
   "source": [
    "Then, compute W_tilde"
   ]
  },
  {
   "cell_type": "code",
   "execution_count": 21,
   "id": "eed833b2-b8ca-4abe-816b-90919c2c7a0c",
   "metadata": {},
   "outputs": [
    {
     "name": "stdout",
     "output_type": "stream",
     "text": [
      "W_tilde_filt shape: (8797, 8797)\n",
      "Sigma_tilde_filt shape: (8797, 8797)\n"
     ]
    }
   ],
   "source": [
    "from scipy.linalg import circulant\n",
    "# Invece di fare FFT di W (matrice), fai FFT di w (vettore)\n",
    "w_tilde = np.fft.rfft(w) * dt  # FFT del vettore w\n",
    "\n",
    "W_tilde = circulant(w_tilde)\n",
    "\n",
    "# Filtra\n",
    "W_tilde_filt = W_tilde[np.ix_(mask, mask)]\n",
    "\n",
    "print(f\"W_tilde_filt shape: {W_tilde_filt.shape}\")\n",
    "print(f\"Sigma_tilde_filt shape: {Sigma_tilde_filt.shape}\")"
   ]
  },
  {
   "cell_type": "code",
   "execution_count": 22,
   "id": "236fefa6-79fe-481f-8cad-b67662bf6694",
   "metadata": {},
   "outputs": [
    {
     "name": "stdout",
     "output_type": "stream",
     "text": [
      "(8797,)\n",
      "(8797, 8797)\n",
      "(8797, 8797)\n"
     ]
    }
   ],
   "source": [
    "print(freq_filt.shape)\n",
    "print(W_tilde_filt.shape)\n",
    "print(Sigma_tilde_filt.shape)"
   ]
  },
  {
   "cell_type": "code",
   "execution_count": 23,
   "id": "15d1c489-8ff2-45f6-bf9f-6fc11ab86e29",
   "metadata": {},
   "outputs": [],
   "source": [
    "Sigma_tilde_gated = W_tilde_filt @ Sigma_tilde_filt @ W_tilde_filt.conj().T"
   ]
  },
  {
   "cell_type": "markdown",
   "id": "e340b1d1-f432-4258-a9b0-fe72fd72afc2",
   "metadata": {},
   "source": [
    "Now I compute the pseudoinverse (and save it in a file, because the computation is quite long)."
   ]
  },
  {
   "cell_type": "code",
   "execution_count": 24,
   "id": "89e0e0c9-2e5d-41f9-aad8-72eb812cd463",
   "metadata": {},
   "outputs": [
    {
     "name": "stdout",
     "output_type": "stream",
     "text": [
      "Loading pseudoinverse from pinv_Sigma_tilde_gated.npy\n",
      "Pseudoinverse loaded successfully\n"
     ]
    }
   ],
   "source": [
    "pinv_computation = False\n",
    "\n",
    "pinv_filename = \"pinv_Sigma_tilde_gated.npy\"\n",
    "\n",
    "if pinv_computation:\n",
    "    # Compute pseudoinverse\n",
    "    start = time.time()\n",
    "    pinv_Sigma_tilde_gated = np.linalg.pinv(Sigma_tilde_gated)\n",
    "    print(f\"Pseudoinverse computation took {time.time()-start:.2f} s\")\n",
    "    \n",
    "    # Save result\n",
    "    np.save(pinv_filename, pinv_Sigma_tilde_gated)\n",
    "    print(f\"Pseudoinverse saved to {pinv_filename}\")\n",
    "else:\n",
    "    # Load pseudoinverse from file\n",
    "    print(f\"Loading pseudoinverse from {pinv_filename}\")\n",
    "    pinv_Sigma_tilde_gated = np.load(pinv_filename)\n",
    "    print(f\"Pseudoinverse loaded successfully\")"
   ]
  },
  {
   "cell_type": "markdown",
   "id": "d72d1f3a-944f-48a1-8988-5d6bfc5b83bf",
   "metadata": {},
   "source": [
    "I see that pinv_Sigma_filt is complex. But is the imaginary part different from zero?"
   ]
  },
  {
   "cell_type": "code",
   "execution_count": 25,
   "id": "7a792853-ee97-4ec3-bf6f-0638ff683d07",
   "metadata": {},
   "outputs": [
    {
     "name": "stdout",
     "output_type": "stream",
     "text": [
      "Max imaginary part: 4.78306469536053e+23\n"
     ]
    }
   ],
   "source": [
    "max_imag = np.max(np.abs(np.imag(pinv_Sigma_tilde_gated)))\n",
    "print(\"Max imaginary part:\", max_imag)"
   ]
  },
  {
   "cell_type": "markdown",
   "id": "182f7aa3-7bfa-4d4c-9b02-9260ddab2e64",
   "metadata": {},
   "source": [
    "Yes it is. Is this a problem?"
   ]
  },
  {
   "cell_type": "markdown",
   "id": "8427929a-3754-495d-b03a-af57f2c30b81",
   "metadata": {},
   "source": [
    "### Define likelihood function in FD"
   ]
  },
  {
   "cell_type": "markdown",
   "id": "3923d63a-daef-4ab1-a6b3-c0b979379901",
   "metadata": {},
   "source": [
    "Define the function for h (template), which does everything I did to generate and cut my FD dataset (without gaps)."
   ]
  },
  {
   "cell_type": "code",
   "execution_count": 26,
   "id": "7e7a0b13-c2cd-4220-87f2-3795ee23fd95",
   "metadata": {},
   "outputs": [],
   "source": [
    "def signal_gen(*emri_waveform_args):\n",
    "    chans = fastlisaresponse(*emri_waveform_args, emri_waveform_kwargs=emri_waveform_kwargs)\n",
    "\n",
    "    nchan, N = np.shape(chans)\n",
    "    freqs = np.fft.rfftfreq(N, d=dt)       \n",
    "    complete_data = np.fft.rfft(chans, axis=-1) * dt \n",
    "\n",
    "    freq_threshold = f_min\n",
    "    mask = freqs > freq_threshold\n",
    "\n",
    "    data_filtered = complete_data[:,mask]\n",
    "    freq_filtered = freqs[mask]\n",
    "    return data_filtered"
   ]
  },
  {
   "cell_type": "markdown",
   "id": "a71fddcd-b41a-41b6-8195-9e7804a0b8eb",
   "metadata": {},
   "source": [
    "Define function to compute the residuals, as presented in Eq.52 of Burke+(2025) paper.\n",
    "\n",
    "I pass my TD dataset d (without gaps), the gated matrix W and the FD template h.\n",
    "\n",
    "First I apply W to d, obtaining the gapped TD dataset. Then I transform it in FD and CUT IT. Finally I subtract the template h."
   ]
  },
  {
   "cell_type": "code",
   "execution_count": 27,
   "id": "25783ac4-0309-444a-8c01-ecb601db5f10",
   "metadata": {},
   "outputs": [],
   "source": [
    "def residual_computation(d, W, h):\n",
    "    gated_data = W @ d\n",
    "    N = len(gated_data)\n",
    "    freqs = np.fft.rfftfreq(N, d=dt)       \n",
    "    complete_data = np.fft.rfft(gated_data) * dt \n",
    "    freq_threshold = f_min\n",
    "    mask = freqs > freq_threshold\n",
    "\n",
    "    data_filtered = complete_data[mask]\n",
    "    freq_filtered = freqs[mask]\n",
    "    return data_filtered - h"
   ]
  },
  {
   "cell_type": "markdown",
   "id": "4d44fba3-43b6-4d03-b8b5-c87b65293058",
   "metadata": {},
   "source": [
    "Define the likelihood function."
   ]
  },
  {
   "cell_type": "code",
   "execution_count": 28,
   "id": "7910f87a-e2ae-445a-82dc-711812db0700",
   "metadata": {},
   "outputs": [],
   "source": [
    "def log_likelihood(d, *emri_waveform_args, pinv_Sigma=pinv_Sigma_tilde_gated, complex=False):\n",
    "    \"\"\"\n",
    "    Compute the gated log-likelihood presented in Eq.52 of Burke+(2025) paper.\n",
    "    where `h` is produced by `signal_gen(*emri_waveform_args)`.\n",
    "\n",
    "    Args:\n",
    "        d: Observed data. \n",
    "        *emri_waveform_args: Arguments passed directly to `signal_gen` in order to \n",
    "            generate the waveform model `h(theta)`.\n",
    "        pinv_Sigma: pseudoinverse of FD covariance matrix.\n",
    "\n",
    "    Returns:\n",
    "        float or complex: Value of the log-likelihood. Returns a real scalar by\n",
    "            default, or complex if `complex=True` is passed in `inner_kwargs`.\n",
    "    \"\"\"\n",
    "    \n",
    "    h = signal_gen(*emri_waveform_args)\n",
    "\n",
    "    r = residual_computation(d[0], W, h[0])\n",
    "\n",
    "    prod = np.vdot(r, pinv_Sigma @ r)\n",
    "\n",
    "    if complex==False:\n",
    "        prod = np.abs(prod)\n",
    "    if complex==True:\n",
    "        prod = np.real(prod)    \n",
    "    return -0.5 * prod"
   ]
  },
  {
   "cell_type": "code",
   "execution_count": 29,
   "id": "e8194fa4-31ec-473e-aa7a-3edd71d7b55b",
   "metadata": {},
   "outputs": [
    {
     "data": {
      "text/plain": [
       "np.float64(-1.4162092376031828e-10)"
      ]
     },
     "execution_count": 29,
     "metadata": {},
     "output_type": "execute_result"
    }
   ],
   "source": [
    "log_likelihood(chans, *emri_waveform_args)"
   ]
  },
  {
   "cell_type": "markdown",
   "id": "852a70e5-37d5-4182-952a-54b4c690ac15",
   "metadata": {},
   "source": [
    "### Evaluate the likelihood to check"
   ]
  },
  {
   "cell_type": "code",
   "execution_count": 30,
   "id": "10392e33-420e-489b-b7d1-6894d811c709",
   "metadata": {},
   "outputs": [
    {
     "name": "stderr",
     "output_type": "stream",
     "text": [
      "M grid: 100%|██████████████████████████████████████████████████████████████████████████| 11/11 [00:22<00:00,  2.04s/it]\n"
     ]
    }
   ],
   "source": [
    "M_grid = np.linspace(9e5, 1.1e6, 11)\n",
    "\n",
    "direct_logL = -1 * np.ones(len(M_grid))\n",
    "lisatools_logL = -1 * np.ones(len(M_grid))\n",
    "\n",
    "# Generate a waveform\n",
    "start = time.time()\n",
    "chans = fastlisaresponse(\n",
    "    *emri_waveform_args,\n",
    "    emri_waveform_kwargs=emri_waveform_kwargs,\n",
    ")\n",
    "\n",
    "for idx, M in tqdm(enumerate(M_grid), total=len(M_grid), desc='M grid'):\n",
    "    emri_waveform_args_M = [\n",
    "        M,\n",
    "        mu,\n",
    "        a,\n",
    "        p0,\n",
    "        e0,\n",
    "        x0,\n",
    "        dist,\n",
    "        qS,\n",
    "        phiS,\n",
    "        qK,\n",
    "        phiK,\n",
    "        Phi_phi0,\n",
    "        Phi_theta0,\n",
    "        Phi_r0,\n",
    "    ]\n",
    "\n",
    "    \n",
    "    direct_logL[idx] = log_likelihood(chans, *emri_waveform_args_M)\n"
   ]
  },
  {
   "cell_type": "code",
   "execution_count": 31,
   "id": "a71131ad-373f-42c0-8f10-9b9255ba7b89",
   "metadata": {},
   "outputs": [
    {
     "data": {
      "image/png": "[encoded data removed]",
      "text/plain": [
       "<Figure size 640x480 with 1 Axes>"
      ]
     },
     "metadata": {},
     "output_type": "display_data"
    }
   ],
   "source": [
    "plt.plot(M_grid, direct_logL, color='C1', label='Direct')\n",
    "\n",
    "plt.xlabel(r'$M [M_{\\odot}]$')\n",
    "plt.legend()\n",
    "plt.show()"
   ]
  },
  {
   "cell_type": "code",
   "execution_count": 32,
   "id": "4e99cb96-6d2b-4082-8618-63ebaac61075",
   "metadata": {},
   "outputs": [
    {
     "name": "stdout",
     "output_type": "stream",
     "text": [
      "Best M: 1.00e+06\n"
     ]
    }
   ],
   "source": [
    "max_idx = np.argmax(direct_logL)\n",
    "M_best = M_grid[max_idx]\n",
    "logL_max = direct_logL[max_idx]\n",
    "\n",
    "print(f\"Best M: {M_best:.2e}\")"
   ]
  },
  {
   "cell_type": "markdown",
   "id": "b27c913a-553c-4cfb-a8db-2110bb34f96d",
   "metadata": {},
   "source": [
    "The likelihood seems to be max for M=1e6, that is the correct value of the parameter. So this seems nice I guess.\n",
    "\n",
    "Problem so far: \n",
    "- the computation of the pseudoinverse takes forever to be done.\n",
    "- The initial log_prior was +/- infinite"
   ]
  },
  {
   "cell_type": "markdown",
   "id": "3cf889e7-dd32-43b7-8192-deff16b9908f",
   "metadata": {},
   "source": [
    "### Try and vary mu"
   ]
  },
  {
   "cell_type": "code",
   "execution_count": 33,
   "id": "048fcc92-2cee-4594-99f8-9bcc61b23dd3",
   "metadata": {},
   "outputs": [
    {
     "name": "stderr",
     "output_type": "stream",
     "text": [
      "M grid: 100%|██████████████████████████████████████████████████████████████████████████| 11/11 [00:23<00:00,  2.10s/it]\n"
     ]
    }
   ],
   "source": [
    "mu_grid = np.linspace(9.9, 10.1, 11)\n",
    "\n",
    "direct_logL = -1 * np.ones(len(mu_grid))\n",
    "\n",
    "# Generate a waveform\n",
    "start = time.time()\n",
    "chans = fastlisaresponse(\n",
    "    *emri_waveform_args,\n",
    "    emri_waveform_kwargs=emri_waveform_kwargs,\n",
    ")\n",
    "M=1e6\n",
    "for idx, mu in tqdm(enumerate(mu_grid), total=len(mu_grid), desc='M grid'):\n",
    "    emri_waveform_args_M = [\n",
    "        M,\n",
    "        mu,\n",
    "        a,\n",
    "        p0,\n",
    "        e0,\n",
    "        x0,\n",
    "        dist,\n",
    "        qS,\n",
    "        phiS,\n",
    "        qK,\n",
    "        phiK,\n",
    "        Phi_phi0,\n",
    "        Phi_theta0,\n",
    "        Phi_r0,\n",
    "    ]\n",
    "\n",
    "    \n",
    "    direct_logL[idx] = log_likelihood(chans, *emri_waveform_args_M)\n"
   ]
  },
  {
   "cell_type": "code",
   "execution_count": 34,
   "id": "34a93a57-c3e7-4f77-8ae1-3cddd6487456",
   "metadata": {},
   "outputs": [
    {
     "data": {
      "image/png": "[encoded data removed]",
      "text/plain": [
       "<Figure size 640x480 with 1 Axes>"
      ]
     },
     "metadata": {},
     "output_type": "display_data"
    }
   ],
   "source": [
    "plt.plot(mu_grid, direct_logL, color='C1', label='Direct')\n",
    "\n",
    "plt.xlabel(r'$\\mu [M_{\\odot}]$')\n",
    "plt.legend()\n",
    "plt.show()"
   ]
  },
  {
   "cell_type": "code",
   "execution_count": 35,
   "id": "af5bd640-883e-4aa0-ad19-4e161636d205",
   "metadata": {},
   "outputs": [
    {
     "name": "stdout",
     "output_type": "stream",
     "text": [
      "Best mu: 1.00e+01\n"
     ]
    }
   ],
   "source": [
    "max_idx = np.argmax(direct_logL)\n",
    "mu_best = mu_grid[max_idx]\n",
    "logL_max = direct_logL[max_idx]\n",
    "\n",
    "print(f\"Best mu: {mu_best:.2e}\")"
   ]
  },
  {
   "cell_type": "markdown",
   "id": "1def66bd-257b-4b91-a621-83cc6639db06",
   "metadata": {},
   "source": [
    "I obtained a likelihood with the same behaviour as the Whittle likelihood (at least for these two parameters). "
   ]
  },
  {
   "cell_type": "markdown",
   "id": "883da9c6-b23c-4012-94e2-9b3ec3639553",
   "metadata": {},
   "source": [
    "# MCMC"
   ]
  },
  {
   "cell_type": "raw",
   "id": "50d1b28c-8cc6-4155-852e-bee2f96b3cc6",
   "metadata": {},
   "source": [
    "# MCMC\n",
    "# Define likelihood\n",
    "def wrapper_likelihood(x, fixed_parameters, d=data_filtered):\n",
    "    # Only M and mu vary, others are fixed\n",
    "    params = [x[0], x[1], x[2], x[3], x[4]]  + [fixed_parameters[0]] + [x[5], np.arccos(x[6]), x[7], np.arccos(x[8]), x[9], x[10], x[11], x[12]]\n",
    "    return log_likelihood(d, *params)\n"
   ]
  },
  {
   "cell_type": "code",
   "execution_count": 36,
   "id": "d1cb1d5f-8ce2-42ac-bb86-15dd2a230394",
   "metadata": {},
   "outputs": [],
   "source": [
    "def wrapper_likelihood(x, fixed_parameters, d=chans):\n",
    "    # Only M and mu vary, others are fixed\n",
    "    params = [x[0], x[1]] + fixed_parameters.tolist()\n",
    "    return log_likelihood(d, *params)"
   ]
  },
  {
   "cell_type": "raw",
   "id": "06c2ce6c-8dd7-4a03-a81c-7fe32d63e057",
   "metadata": {},
   "source": [
    "priors = {'emri': ProbDistContainer({\n",
    "    0: uniform_dist(9e5, 1.1e6), #M\n",
    "    1: uniform_dist(9, 11),      #mu\n",
    "    2: uniform_dist(0.45, 0.55), #a\n",
    "    3: uniform_dist(8, 8.5),     #p0\n",
    "    4: uniform_dist(0.45, 0.55), #e0\n",
    "    5: uniform_dist(0.9, 1.1),   #dist\n",
    "    6: uniform_dist(-1, 1),      #qS\n",
    "    7: uniform_dist(0, 2*np.pi), #phiS\n",
    "    8: uniform_dist(-1, 1),      #qK\n",
    "    9: uniform_dist(0, 2*np.pi), #phiK \n",
    "    10: uniform_dist(0, 2*np.pi),#Phi_phi0 \n",
    "    11: uniform_dist(0, 2*np.pi),#Phi_r0 \n",
    "    12: uniform_dist(0, 2*np.pi),#Phi_r0\n",
    "}, return_gpu=use_gpu)}\n",
    "\n",
    "\n",
    "\n",
    "fixed_parameters = np.array([\n",
    "    x0,\n",
    "])"
   ]
  },
  {
   "cell_type": "code",
   "execution_count": 37,
   "id": "bd7411d4-4dd5-4bc3-a872-ae07434133c1",
   "metadata": {},
   "outputs": [],
   "source": [
    "priors = {'emri': ProbDistContainer({\n",
    "    0: uniform_dist(9.999e5, 1.001e6),\n",
    "    1: uniform_dist(9.99, 10.01)\n",
    "}, return_gpu=use_gpu)}\n",
    "\n",
    "\n",
    "fixed_parameters = np.array([\n",
    "    a,\n",
    "    p0,\n",
    "    e0,\n",
    "    x0,\n",
    "    dist,\n",
    "    qS,\n",
    "    phiS,\n",
    "    qK,\n",
    "    phiK,\n",
    "    Phi_phi0,\n",
    "    Phi_theta0,\n",
    "    Phi_r0,\n",
    "])"
   ]
  },
  {
   "cell_type": "raw",
   "id": "c8a14a4a-dd19-41ce-9dd7-805a8cd39595",
   "metadata": {},
   "source": [
    "fname = \"whittle.h5\"\n",
    "if os.path.exists(fname):\n",
    "    ts = datetime.datetime.now().strftime(\"_%Y%m%d_%H%M%S\")\n",
    "    os.rename(fname, fname.replace(\".h5\", ts + \".h5\"))\n",
    "backend = HDFBackend(fname)"
   ]
  },
  {
   "cell_type": "raw",
   "id": "9c51bc7d-0b3e-4f0a-92bc-29a95d8a1e8c",
   "metadata": {},
   "source": [
    "sampler = EnsembleSampler(\n",
    "    nwalkers=32,\n",
    "    ndims={'emri': 13},\n",
    "    log_like_fn=wrapper_likelihood,\n",
    "    priors=priors,\n",
    "    args=(fixed_parameters,),\n",
    "    branch_names=['emri'],\n",
    "    tempering_kwargs=dict(ntemps=10),\n",
    "    backend=HDFBackend(fname),\n",
    ")"
   ]
  },
  {
   "cell_type": "code",
   "execution_count": 38,
   "id": "3f748d61-657f-4093-9d8e-7623e016a546",
   "metadata": {},
   "outputs": [],
   "source": [
    "fname = \"FD_gated_likelihood.h5\"\n",
    "if os.path.exists(fname):\n",
    "    ts = datetime.datetime.now().strftime(\"_%Y%m%d_%H%M%S\")\n",
    "    os.rename(fname, fname.replace(\".h5\", ts + \".h5\"))\n",
    "backend = HDFBackend(fname)"
   ]
  },
  {
   "cell_type": "code",
   "execution_count": 39,
   "id": "3c1cf533-5159-4ac3-91b1-15f68c044c8b",
   "metadata": {},
   "outputs": [
    {
     "name": "stdout",
     "output_type": "stream",
     "text": [
      "Starting MCMC with 7 processes\n",
      "eryn: Exception while calling your likelihood function:eryn: Exception while calling your likelihood function:eryn: Exception while calling your likelihood function:\n",
      "\n",
      "\n",
      "eryn: Exception while calling your likelihood function:  args added:  args added:  args added: \n",
      " eryn: Exception while calling your likelihood function: \n",
      "  args added:   args added:"
     ]
    },
    {
     "ename": "KeyboardInterrupt",
     "evalue": "",
     "output_type": "error",
     "traceback": [
      "\u001b[31m---------------------------------------------------------------------------\u001b[39m",
      "\u001b[31mKeyboardInterrupt\u001b[39m                         Traceback (most recent call last)",
      "\u001b[36mCell\u001b[39m\u001b[36m \u001b[39m\u001b[32mIn[39]\u001b[39m\u001b[32m, line 30\u001b[39m\n\u001b[32m     28\u001b[39m \u001b[38;5;66;03m# Run MCMC\u001b[39;00m\n\u001b[32m     29\u001b[39m sampler.compute_log_prior(start_state.branches_coords)\n\u001b[32m---> \u001b[39m\u001b[32m30\u001b[39m \u001b[43msampler\u001b[49m\u001b[43m.\u001b[49m\u001b[43mrun_mcmc\u001b[49m\u001b[43m(\u001b[49m\u001b[43mstart_state\u001b[49m\u001b[43m,\u001b[49m\u001b[43m \u001b[49m\u001b[43mnsteps\u001b[49m\u001b[43m=\u001b[49m\u001b[32;43m500\u001b[39;49m\u001b[43m,\u001b[49m\u001b[43m \u001b[49m\u001b[43mprogress\u001b[49m\u001b[43m=\u001b[49m\u001b[38;5;28;43;01mTrue\u001b[39;49;00m\u001b[43m)\u001b[49m\n\u001b[32m     32\u001b[39m \u001b[38;5;28mprint\u001b[39m(\u001b[33m'\u001b[39m\u001b[33mMCMC completed\u001b[39m\u001b[33m'\u001b[39m)\n\u001b[32m     34\u001b[39m chain = sampler.get_chain()\n",
      "\u001b[36mFile \u001b[39m\u001b[32m/opt/anaconda3/envs/thesis/lib/python3.12/site-packages/eryn/ensemble.py:1100\u001b[39m, in \u001b[36mEnsembleSampler.run_mcmc\u001b[39m\u001b[34m(self, initial_state, nsteps, burn, post_burn_update, **kwargs)\u001b[39m\n\u001b[32m   1097\u001b[39m results = \u001b[38;5;28;01mNone\u001b[39;00m\n\u001b[32m   1099\u001b[39m i = \u001b[32m0\u001b[39m\n\u001b[32m-> \u001b[39m\u001b[32m1100\u001b[39m \u001b[43m\u001b[49m\u001b[38;5;28;43;01mfor\u001b[39;49;00m\u001b[43m \u001b[49m\u001b[43mresults\u001b[49m\u001b[43m \u001b[49m\u001b[38;5;129;43;01min\u001b[39;49;00m\u001b[43m \u001b[49m\u001b[38;5;28;43mself\u001b[39;49m\u001b[43m.\u001b[49m\u001b[43msample\u001b[49m\u001b[43m(\u001b[49m\u001b[43minitial_state\u001b[49m\u001b[43m,\u001b[49m\u001b[43m \u001b[49m\u001b[43miterations\u001b[49m\u001b[43m=\u001b[49m\u001b[43mnsteps\u001b[49m\u001b[43m,\u001b[49m\u001b[43m \u001b[49m\u001b[43m*\u001b[49m\u001b[43m*\u001b[49m\u001b[43mkwargs\u001b[49m\u001b[43m)\u001b[49m\u001b[43m:\u001b[49m\n\u001b[32m   1101\u001b[39m \u001b[43m    \u001b[49m\u001b[38;5;66;43;03m# diagnostic plots\u001b[39;49;00m\n\u001b[32m   1102\u001b[39m \u001b[43m    \u001b[49m\u001b[38;5;66;43;03m# TODO: adjust diagnostic plots\u001b[39;49;00m\n\u001b[32m   1103\u001b[39m \u001b[43m    \u001b[49m\u001b[38;5;28;43;01mif\u001b[39;49;00m\u001b[43m \u001b[49m\u001b[38;5;28;43mself\u001b[39;49m\u001b[43m.\u001b[49m\u001b[43mplot_iterations\u001b[49m\u001b[43m \u001b[49m\u001b[43m>\u001b[49m\u001b[43m \u001b[49m\u001b[32;43m0\u001b[39;49m\u001b[43m \u001b[49m\u001b[38;5;129;43;01mand\u001b[39;49;00m\u001b[43m \u001b[49m\u001b[43m(\u001b[49m\u001b[43mi\u001b[49m\u001b[43m \u001b[49m\u001b[43m+\u001b[49m\u001b[43m \u001b[49m\u001b[32;43m1\u001b[39;49m\u001b[43m)\u001b[49m\u001b[43m \u001b[49m\u001b[43m%\u001b[49m\u001b[43m \u001b[49m\u001b[43m(\u001b[49m\u001b[38;5;28;43mself\u001b[39;49m\u001b[43m.\u001b[49m\u001b[43mplot_iterations\u001b[49m\u001b[43m)\u001b[49m\u001b[43m \u001b[49m\u001b[43m==\u001b[49m\u001b[43m \u001b[49m\u001b[32;43m0\u001b[39;49m\u001b[43m:\u001b[49m\n\u001b[32m   1104\u001b[39m \u001b[43m        \u001b[49m\u001b[38;5;28;43mself\u001b[39;49m\u001b[43m.\u001b[49m\u001b[43mplot_generator\u001b[49m\u001b[43m.\u001b[49m\u001b[43mgenerate_plot_info\u001b[49m\u001b[43m(\u001b[49m\u001b[43m)\u001b[49m\u001b[43m  \u001b[49m\u001b[38;5;66;43;03m# TODO: remove defaults\u001b[39;49;00m\n",
      "\u001b[36mFile \u001b[39m\u001b[32m/opt/anaconda3/envs/thesis/lib/python3.12/site-packages/eryn/ensemble.py:903\u001b[39m, in \u001b[36mEnsembleSampler.sample\u001b[39m\u001b[34m(self, initial_state, iterations, tune, skip_initial_state_check, thin_by, store, progress)\u001b[39m\n\u001b[32m    901\u001b[39m     coords = state.branches_coords\n\u001b[32m    902\u001b[39m     inds = state.branches_inds\n\u001b[32m--> \u001b[39m\u001b[32m903\u001b[39m     state.log_like, state.blobs = \u001b[38;5;28;43mself\u001b[39;49m\u001b[43m.\u001b[49m\u001b[43mcompute_log_like\u001b[49m\u001b[43m(\u001b[49m\n\u001b[32m    904\u001b[39m \u001b[43m        \u001b[49m\u001b[43mcoords\u001b[49m\u001b[43m,\u001b[49m\n\u001b[32m    905\u001b[39m \u001b[43m        \u001b[49m\u001b[43minds\u001b[49m\u001b[43m=\u001b[49m\u001b[43minds\u001b[49m\u001b[43m,\u001b[49m\n\u001b[32m    906\u001b[39m \u001b[43m        \u001b[49m\u001b[43mlogp\u001b[49m\u001b[43m=\u001b[49m\u001b[43mstate\u001b[49m\u001b[43m.\u001b[49m\u001b[43mlog_prior\u001b[49m\u001b[43m,\u001b[49m\n\u001b[32m    907\u001b[39m \u001b[43m        \u001b[49m\u001b[43msupps\u001b[49m\u001b[43m=\u001b[49m\u001b[43mstate\u001b[49m\u001b[43m.\u001b[49m\u001b[43msupplemental\u001b[49m\u001b[43m,\u001b[49m\u001b[43m  \u001b[49m\u001b[38;5;66;43;03m# only used if self.provide_supplemental is True\u001b[39;49;00m\n\u001b[32m    908\u001b[39m \u001b[43m        \u001b[49m\u001b[43mbranch_supps\u001b[49m\u001b[43m=\u001b[49m\u001b[43mstate\u001b[49m\u001b[43m.\u001b[49m\u001b[43mbranches_supplemental\u001b[49m\u001b[43m,\u001b[49m\u001b[43m  \u001b[49m\u001b[38;5;66;43;03m# only used if self.provide_supplemental is True\u001b[39;49;00m\n\u001b[32m    909\u001b[39m \u001b[43m    \u001b[49m\u001b[43m)\u001b[49m\n\u001b[32m    911\u001b[39m \u001b[38;5;66;03m# get betas out of state object if they are there\u001b[39;00m\n\u001b[32m    912\u001b[39m \u001b[38;5;28;01mif\u001b[39;00m state.betas \u001b[38;5;129;01mis\u001b[39;00m \u001b[38;5;129;01mnot\u001b[39;00m \u001b[38;5;28;01mNone\u001b[39;00m:\n",
      "\u001b[36mFile \u001b[39m\u001b[32m/opt/anaconda3/envs/thesis/lib/python3.12/site-packages/eryn/ensemble.py:1475\u001b[39m, in \u001b[36mEnsembleSampler.compute_log_like\u001b[39m\u001b[34m(self, coords, inds, logp, supps, branch_supps)\u001b[39m\n\u001b[32m   1472\u001b[39m         map_func = \u001b[38;5;28mmap\u001b[39m\n\u001b[32m   1474\u001b[39m     \u001b[38;5;66;03m# get results and turn into an array\u001b[39;00m\n\u001b[32m-> \u001b[39m\u001b[32m1475\u001b[39m     results = np.asarray(\u001b[38;5;28mlist\u001b[39m(\u001b[43mmap_func\u001b[49m\u001b[43m(\u001b[49m\u001b[38;5;28;43mself\u001b[39;49m\u001b[43m.\u001b[49m\u001b[43mlog_like_fn\u001b[49m\u001b[43m,\u001b[49m\u001b[43m \u001b[49m\u001b[43margs_in\u001b[49m\u001b[43m)\u001b[49m))\n\u001b[32m   1477\u001b[39m \u001b[38;5;28;01massert\u001b[39;00m \u001b[38;5;28misinstance\u001b[39m(results, np.ndarray)\n\u001b[32m   1479\u001b[39m \u001b[38;5;66;03m# -1e300 because -np.inf screws up state acceptance transfer in proposals\u001b[39;00m\n",
      "\u001b[36mFile \u001b[39m\u001b[32m/opt/anaconda3/envs/thesis/lib/python3.12/multiprocessing/pool.py:367\u001b[39m, in \u001b[36mPool.map\u001b[39m\u001b[34m(self, func, iterable, chunksize)\u001b[39m\n\u001b[32m    362\u001b[39m \u001b[38;5;28;01mdef\u001b[39;00m\u001b[38;5;250m \u001b[39m\u001b[34mmap\u001b[39m(\u001b[38;5;28mself\u001b[39m, func, iterable, chunksize=\u001b[38;5;28;01mNone\u001b[39;00m):\n\u001b[32m    363\u001b[39m \u001b[38;5;250m    \u001b[39m\u001b[33;03m'''\u001b[39;00m\n\u001b[32m    364\u001b[39m \u001b[33;03m    Apply `func` to each element in `iterable`, collecting the results\u001b[39;00m\n\u001b[32m    365\u001b[39m \u001b[33;03m    in a list that is returned.\u001b[39;00m\n\u001b[32m    366\u001b[39m \u001b[33;03m    '''\u001b[39;00m\n\u001b[32m--> \u001b[39m\u001b[32m367\u001b[39m     \u001b[38;5;28;01mreturn\u001b[39;00m \u001b[38;5;28;43mself\u001b[39;49m\u001b[43m.\u001b[49m\u001b[43m_map_async\u001b[49m\u001b[43m(\u001b[49m\u001b[43mfunc\u001b[49m\u001b[43m,\u001b[49m\u001b[43m \u001b[49m\u001b[43miterable\u001b[49m\u001b[43m,\u001b[49m\u001b[43m \u001b[49m\u001b[43mmapstar\u001b[49m\u001b[43m,\u001b[49m\u001b[43m \u001b[49m\u001b[43mchunksize\u001b[49m\u001b[43m)\u001b[49m\u001b[43m.\u001b[49m\u001b[43mget\u001b[49m\u001b[43m(\u001b[49m\u001b[43m)\u001b[49m\n",
      "\u001b[36mFile \u001b[39m\u001b[32m/opt/anaconda3/envs/thesis/lib/python3.12/multiprocessing/pool.py:768\u001b[39m, in \u001b[36mApplyResult.get\u001b[39m\u001b[34m(self, timeout)\u001b[39m\n\u001b[32m    767\u001b[39m \u001b[38;5;28;01mdef\u001b[39;00m\u001b[38;5;250m \u001b[39m\u001b[34mget\u001b[39m(\u001b[38;5;28mself\u001b[39m, timeout=\u001b[38;5;28;01mNone\u001b[39;00m):\n\u001b[32m--> \u001b[39m\u001b[32m768\u001b[39m     \u001b[38;5;28;43mself\u001b[39;49m\u001b[43m.\u001b[49m\u001b[43mwait\u001b[49m\u001b[43m(\u001b[49m\u001b[43mtimeout\u001b[49m\u001b[43m)\u001b[49m\n\u001b[32m    769\u001b[39m     \u001b[38;5;28;01mif\u001b[39;00m \u001b[38;5;129;01mnot\u001b[39;00m \u001b[38;5;28mself\u001b[39m.ready():\n\u001b[32m    770\u001b[39m         \u001b[38;5;28;01mraise\u001b[39;00m \u001b[38;5;167;01mTimeoutError\u001b[39;00m\n",
      "\u001b[36mFile \u001b[39m\u001b[32m/opt/anaconda3/envs/thesis/lib/python3.12/multiprocessing/pool.py:765\u001b[39m, in \u001b[36mApplyResult.wait\u001b[39m\u001b[34m(self, timeout)\u001b[39m\n\u001b[32m    764\u001b[39m \u001b[38;5;28;01mdef\u001b[39;00m\u001b[38;5;250m \u001b[39m\u001b[34mwait\u001b[39m(\u001b[38;5;28mself\u001b[39m, timeout=\u001b[38;5;28;01mNone\u001b[39;00m):\n\u001b[32m--> \u001b[39m\u001b[32m765\u001b[39m     \u001b[38;5;28;43mself\u001b[39;49m\u001b[43m.\u001b[49m\u001b[43m_event\u001b[49m\u001b[43m.\u001b[49m\u001b[43mwait\u001b[49m\u001b[43m(\u001b[49m\u001b[43mtimeout\u001b[49m\u001b[43m)\u001b[49m\n",
      "\u001b[36mFile \u001b[39m\u001b[32m/opt/anaconda3/envs/thesis/lib/python3.12/threading.py:655\u001b[39m, in \u001b[36mEvent.wait\u001b[39m\u001b[34m(self, timeout)\u001b[39m\n\u001b[32m    653\u001b[39m signaled = \u001b[38;5;28mself\u001b[39m._flag\n\u001b[32m    654\u001b[39m \u001b[38;5;28;01mif\u001b[39;00m \u001b[38;5;129;01mnot\u001b[39;00m signaled:\n\u001b[32m--> \u001b[39m\u001b[32m655\u001b[39m     signaled = \u001b[38;5;28;43mself\u001b[39;49m\u001b[43m.\u001b[49m\u001b[43m_cond\u001b[49m\u001b[43m.\u001b[49m\u001b[43mwait\u001b[49m\u001b[43m(\u001b[49m\u001b[43mtimeout\u001b[49m\u001b[43m)\u001b[49m\n\u001b[32m    656\u001b[39m \u001b[38;5;28;01mreturn\u001b[39;00m signaled\n",
      "\u001b[36mFile \u001b[39m\u001b[32m/opt/anaconda3/envs/thesis/lib/python3.12/threading.py:355\u001b[39m, in \u001b[36mCondition.wait\u001b[39m\u001b[34m(self, timeout)\u001b[39m\n\u001b[32m    353\u001b[39m \u001b[38;5;28;01mtry\u001b[39;00m:    \u001b[38;5;66;03m# restore state no matter what (e.g., KeyboardInterrupt)\u001b[39;00m\n\u001b[32m    354\u001b[39m     \u001b[38;5;28;01mif\u001b[39;00m timeout \u001b[38;5;129;01mis\u001b[39;00m \u001b[38;5;28;01mNone\u001b[39;00m:\n\u001b[32m--> \u001b[39m\u001b[32m355\u001b[39m         \u001b[43mwaiter\u001b[49m\u001b[43m.\u001b[49m\u001b[43macquire\u001b[49m\u001b[43m(\u001b[49m\u001b[43m)\u001b[49m\n\u001b[32m    356\u001b[39m         gotit = \u001b[38;5;28;01mTrue\u001b[39;00m\n\u001b[32m    357\u001b[39m     \u001b[38;5;28;01melse\u001b[39;00m:\n",
      "\u001b[31mKeyboardInterrupt\u001b[39m: "
     ]
    },
    {
     "name": "stdout",
     "output_type": "stream",
     "text": [
      " eryn: Exception while calling your likelihood function:\n",
      "eryn: Exception while calling your likelihood function:  args added:\n",
      "  args added:  [array([9.99999956e+05, 1.00000010e+01])][array([9.99999877e+05, 1.00000007e+01])][array([9.99999964e+05, 1.00000006e+01])][array([1.00000002e+06, 1.00000013e+01])][array([1.00000010e+06, 1.00000011e+01])][array([1.00000022e+06, 9.99999997e+00])][array([9.99999959e+05, 9.99999919e+00])]\n",
      "\n",
      "\n",
      "\n",
      "\n",
      "\n",
      "\n",
      "  args:  args:  args:  args:  args:  args:   args:     (array([0.5       , 5.2       , 0.5       , 1.        , 1.        ,\n",
      "       0.52359878, 1.04719755, 0.52359878, 1.04719755, 1.04719755,\n",
      "       0.52359878, 1.04719755]),) (array([0.5       , 5.2       , 0.5       , 1.        , 1.        ,\n",
      "       0.52359878, 1.04719755, 0.52359878, 1.04719755, 1.04719755,\n",
      "       0.52359878, 1.04719755]),)(array([0.5       , 5.2       , 0.5       , 1.        , 1.        ,\n",
      "       0.52359878, 1.04719755, 0.52359878, 1.04719755, 1.04719755,\n",
      "       0.52359878, 1.04719755]),)(array([0.5       , 5.2       , 0.5       , 1.        , 1.        ,\n",
      "       0.52359878, 1.04719755, 0.52359878, 1.04719755, 1.04719755,\n",
      "       0.52359878, 1.04719755]),)(array([0.5       , 5.2       , 0.5       , 1.        , 1.        ,\n",
      "       0.52359878, 1.04719755, 0.52359878, 1.04719755, 1.04719755,\n",
      "       0.52359878, 1.04719755]),)(array([0.5       , 5.2       , 0.5       , 1.        , 1.        ,\n",
      "       0.52359878, 1.04719755, 0.52359878, 1.04719755, 1.04719755,\n",
      "       0.52359878, 1.04719755]),)\n",
      "\n",
      "\n",
      "(array([0.5       , 5.2       , 0.5       , 1.        , 1.        ,\n",
      "       0.52359878, 1.04719755, 0.52359878, 1.04719755, 1.04719755,\n",
      "       0.52359878, 1.04719755]),)\n",
      "\n",
      "\n",
      "  kwargs added:  kwargs added:\n",
      "  kwargs added:  kwargs added:  kwargs added:   kwargs added:     kwargs added:{}   {}\n",
      "{}{}{}{}{}\n",
      "\n",
      "\n",
      "  kwargs:\n",
      "\n",
      "  kwargs:\n",
      "   kwargs:  kwargs:  kwargs:  kwargs:{}     kwargs:  {}{}{}\n",
      " {}{}\n",
      "\n",
      "  exception:{}\n",
      "\n",
      "  exception:\n",
      "  exception:\n",
      "  exception:\n",
      "  exception:\n",
      "  exception:\n",
      "\n",
      "  exception:\n",
      "\n",
      "\n"
     ]
    },
    {
     "name": "stderr",
     "output_type": "stream",
     "text": [
      "Traceback (most recent call last):\n",
      "Traceback (most recent call last):\n",
      "Traceback (most recent call last):\n",
      "Traceback (most recent call last):\n",
      "Traceback (most recent call last):\n",
      "Traceback (most recent call last):\n",
      "Traceback (most recent call last):\n",
      "  File \"/opt/anaconda3/envs/thesis/lib/python3.12/site-packages/eryn/ensemble.py\", line 1644, in __call__\n",
      "    out = self.f(*args_in, **kwargs_in)\n",
      "          ^^^^^^^^^^^^^^^^^^^^^^^^^^^^^\n",
      "  File \"/opt/anaconda3/envs/thesis/lib/python3.12/site-packages/eryn/ensemble.py\", line 1644, in __call__\n",
      "    out = self.f(*args_in, **kwargs_in)\n",
      "          ^^^^^^^^^^^^^^^^^^^^^^^^^^^^^\n",
      "  File \"/opt/anaconda3/envs/thesis/lib/python3.12/site-packages/eryn/ensemble.py\", line 1644, in __call__\n",
      "    out = self.f(*args_in, **kwargs_in)\n",
      "          ^^^^^^^^^^^^^^^^^^^^^^^^^^^^^\n",
      "  File \"/opt/anaconda3/envs/thesis/lib/python3.12/site-packages/eryn/ensemble.py\", line 1644, in __call__\n",
      "    out = self.f(*args_in, **kwargs_in)\n",
      "          ^^^^^^^^^^^^^^^^^^^^^^^^^^^^^\n",
      "  File \"/opt/anaconda3/envs/thesis/lib/python3.12/site-packages/eryn/ensemble.py\", line 1644, in __call__\n",
      "    out = self.f(*args_in, **kwargs_in)\n",
      "          ^^^^^^^^^^^^^^^^^^^^^^^^^^^^^\n",
      "  File \"/opt/anaconda3/envs/thesis/lib/python3.12/site-packages/eryn/ensemble.py\", line 1644, in __call__\n",
      "    out = self.f(*args_in, **kwargs_in)\n",
      "          ^^^^^^^^^^^^^^^^^^^^^^^^^^^^^\n",
      "  File \"/opt/anaconda3/envs/thesis/lib/python3.12/site-packages/eryn/ensemble.py\", line 1644, in __call__\n",
      "    out = self.f(*args_in, **kwargs_in)\n",
      "          ^^^^^^^^^^^^^^^^^^^^^^^^^^^^^\n",
      "  File \"/var/folders/lx/nx_0fbmn2xxcrxcn7tmrlntm0000gn/T/ipykernel_9072/3417456357.py\", line 4, in wrapper_likelihood\n",
      "    return log_likelihood(d, *params)\n",
      "           ^^^^^^^^^^^^^^^^^^^^^^^^^^\n",
      "  File \"/var/folders/lx/nx_0fbmn2xxcrxcn7tmrlntm0000gn/T/ipykernel_9072/3417456357.py\", line 4, in wrapper_likelihood\n",
      "    return log_likelihood(d, *params)\n",
      "           ^^^^^^^^^^^^^^^^^^^^^^^^^^\n",
      "  File \"/var/folders/lx/nx_0fbmn2xxcrxcn7tmrlntm0000gn/T/ipykernel_9072/3417456357.py\", line 4, in wrapper_likelihood\n",
      "    return log_likelihood(d, *params)\n",
      "           ^^^^^^^^^^^^^^^^^^^^^^^^^^\n",
      "  File \"/var/folders/lx/nx_0fbmn2xxcrxcn7tmrlntm0000gn/T/ipykernel_9072/3417456357.py\", line 4, in wrapper_likelihood\n",
      "    return log_likelihood(d, *params)\n",
      "           ^^^^^^^^^^^^^^^^^^^^^^^^^^\n",
      "  File \"/var/folders/lx/nx_0fbmn2xxcrxcn7tmrlntm0000gn/T/ipykernel_9072/3417456357.py\", line 4, in wrapper_likelihood\n",
      "    return log_likelihood(d, *params)\n",
      "           ^^^^^^^^^^^^^^^^^^^^^^^^^^\n",
      "  File \"/var/folders/lx/nx_0fbmn2xxcrxcn7tmrlntm0000gn/T/ipykernel_9072/3417456357.py\", line 4, in wrapper_likelihood\n",
      "    return log_likelihood(d, *params)\n",
      "           ^^^^^^^^^^^^^^^^^^^^^^^^^^\n",
      "  File \"/var/folders/lx/nx_0fbmn2xxcrxcn7tmrlntm0000gn/T/ipykernel_9072/3417456357.py\", line 4, in wrapper_likelihood\n",
      "    return log_likelihood(d, *params)\n",
      "           ^^^^^^^^^^^^^^^^^^^^^^^^^^\n",
      "  File \"/var/folders/lx/nx_0fbmn2xxcrxcn7tmrlntm0000gn/T/ipykernel_9072/1170223287.py\", line 19, in log_likelihood\n",
      "    r = residual_computation(d[0], W, h[0])\n",
      "        ^^^^^^^^^^^^^^^^^^^^^^^^^^^^^^^^^^^\n",
      "  File \"/var/folders/lx/nx_0fbmn2xxcrxcn7tmrlntm0000gn/T/ipykernel_9072/1170223287.py\", line 19, in log_likelihood\n",
      "    r = residual_computation(d[0], W, h[0])\n",
      "        ^^^^^^^^^^^^^^^^^^^^^^^^^^^^^^^^^^^\n",
      "  File \"/var/folders/lx/nx_0fbmn2xxcrxcn7tmrlntm0000gn/T/ipykernel_9072/1170223287.py\", line 19, in log_likelihood\n",
      "    r = residual_computation(d[0], W, h[0])\n",
      "        ^^^^^^^^^^^^^^^^^^^^^^^^^^^^^^^^^^^\n",
      "  File \"/var/folders/lx/nx_0fbmn2xxcrxcn7tmrlntm0000gn/T/ipykernel_9072/1170223287.py\", line 19, in log_likelihood\n",
      "    r = residual_computation(d[0], W, h[0])\n",
      "        ^^^^^^^^^^^^^^^^^^^^^^^^^^^^^^^^^^^\n",
      "  File \"/var/folders/lx/nx_0fbmn2xxcrxcn7tmrlntm0000gn/T/ipykernel_9072/1170223287.py\", line 19, in log_likelihood\n",
      "    r = residual_computation(d[0], W, h[0])\n",
      "        ^^^^^^^^^^^^^^^^^^^^^^^^^^^^^^^^^^^\n",
      "  File \"/var/folders/lx/nx_0fbmn2xxcrxcn7tmrlntm0000gn/T/ipykernel_9072/1170223287.py\", line 19, in log_likelihood\n",
      "    r = residual_computation(d[0], W, h[0])\n",
      "        ^^^^^^^^^^^^^^^^^^^^^^^^^^^^^^^^^^^\n",
      "  File \"/var/folders/lx/nx_0fbmn2xxcrxcn7tmrlntm0000gn/T/ipykernel_9072/1170223287.py\", line 19, in log_likelihood\n",
      "    r = residual_computation(d[0], W, h[0])\n",
      "        ^^^^^^^^^^^^^^^^^^^^^^^^^^^^^^^^^^^\n",
      "  File \"/var/folders/lx/nx_0fbmn2xxcrxcn7tmrlntm0000gn/T/ipykernel_9072/1602941921.py\", line 4, in residual_computation\n",
      "    freqs = np.fft.rfftfreq(N, d=dt)\n",
      "     ^^^^^^^^^^^^^^^^^^^^^^^^\n",
      "  File \"/var/folders/lx/nx_0fbmn2xxcrxcn7tmrlntm0000gn/T/ipykernel_9072/1602941921.py\", line 4, in residual_computation\n",
      "    freqs = np.fft.rfftfreq(N, d=dt)\n",
      "     ^^^^^^^^^^^^^^^^^^^^^^^^\n",
      "  File \"/var/folders/lx/nx_0fbmn2xxcrxcn7tmrlntm0000gn/T/ipykernel_9072/1602941921.py\", line 4, in residual_computation\n",
      "    freqs = np.fft.rfftfreq(N, d=dt)\n",
      "     ^^^^^^^^^^^^^^^^^^^^^^^^\n",
      "  File \"/var/folders/lx/nx_0fbmn2xxcrxcn7tmrlntm0000gn/T/ipykernel_9072/1602941921.py\", line 4, in residual_computation\n",
      "    freqs = np.fft.rfftfreq(N, d=dt)\n",
      "     ^^^^^^^^^^^^^^^^^^^^^^^^\n",
      "  File \"/var/folders/lx/nx_0fbmn2xxcrxcn7tmrlntm0000gn/T/ipykernel_9072/1602941921.py\", line 4, in residual_computation\n",
      "    freqs = np.fft.rfftfreq(N, d=dt)\n",
      "     ^^^^^^^^^^^^^^^^^^^^^^^^\n",
      "  File \"/var/folders/lx/nx_0fbmn2xxcrxcn7tmrlntm0000gn/T/ipykernel_9072/1602941921.py\", line 4, in residual_computation\n",
      "    freqs = np.fft.rfftfreq(N, d=dt)\n",
      "     ^^^^^^^^^^^^^^^^^^^^^^^^\n",
      "  File \"/var/folders/lx/nx_0fbmn2xxcrxcn7tmrlntm0000gn/T/ipykernel_9072/1602941921.py\", line 4, in residual_computation\n",
      "    freqs = np.fft.rfftfreq(N, d=dt)\n",
      "     ^^^^^^^^^^^^^^^^^^^^^^^^\n",
      "  File \"/opt/anaconda3/envs/thesis/lib/python3.12/site-packages/numpy/fft/_helper.py\", line 180, in rfftfreq\n",
      "    @set_module('numpy.fft')\n",
      "    \n",
      "  File \"/opt/anaconda3/envs/thesis/lib/python3.12/site-packages/numpy/fft/_helper.py\", line 180, in rfftfreq\n",
      "    @set_module('numpy.fft')\n",
      "    \n",
      "  File \"/opt/anaconda3/envs/thesis/lib/python3.12/site-packages/numpy/fft/_helper.py\", line 180, in rfftfreq\n",
      "    @set_module('numpy.fft')\n",
      "    \n",
      "  File \"/opt/anaconda3/envs/thesis/lib/python3.12/site-packages/numpy/fft/_helper.py\", line 180, in rfftfreq\n",
      "    @set_module('numpy.fft')\n",
      "    \n",
      "  File \"/opt/anaconda3/envs/thesis/lib/python3.12/site-packages/numpy/fft/_helper.py\", line 180, in rfftfreq\n",
      "    @set_module('numpy.fft')\n",
      "    \n",
      "  File \"/opt/anaconda3/envs/thesis/lib/python3.12/site-packages/numpy/fft/_helper.py\", line 180, in rfftfreq\n",
      "    @set_module('numpy.fft')\n",
      "    \n",
      "  File \"/opt/anaconda3/envs/thesis/lib/python3.12/site-packages/numpy/fft/_helper.py\", line 180, in rfftfreq\n",
      "    @set_module('numpy.fft')\n",
      "    \n",
      "KeyboardInterrupt\n",
      "KeyboardInterrupt\n",
      "KeyboardInterrupt\n",
      "KeyboardInterrupt\n",
      "KeyboardInterrupt\n",
      "KeyboardInterrupt\n",
      "KeyboardInterrupt\n",
      "Process ForkPoolWorker-5:\n",
      "Process ForkPoolWorker-6:\n",
      "Process ForkPoolWorker-7:\n",
      "Process ForkPoolWorker-1:\n",
      "Process ForkPoolWorker-2:\n",
      "Process ForkPoolWorker-4:\n",
      "Process ForkPoolWorker-3:\n",
      "Traceback (most recent call last):\n",
      "Traceback (most recent call last):\n",
      "Traceback (most recent call last):\n",
      "Traceback (most recent call last):\n",
      "Traceback (most recent call last):\n",
      "Traceback (most recent call last):\n",
      "Traceback (most recent call last):\n",
      "  File \"/opt/anaconda3/envs/thesis/lib/python3.12/multiprocessing/process.py\", line 314, in _bootstrap\n",
      "    self.run()\n",
      "  File \"/opt/anaconda3/envs/thesis/lib/python3.12/multiprocessing/process.py\", line 314, in _bootstrap\n",
      "    self.run()\n",
      "  File \"/opt/anaconda3/envs/thesis/lib/python3.12/multiprocessing/process.py\", line 314, in _bootstrap\n",
      "    self.run()\n",
      "  File \"/opt/anaconda3/envs/thesis/lib/python3.12/multiprocessing/process.py\", line 314, in _bootstrap\n",
      "    self.run()\n",
      "  File \"/opt/anaconda3/envs/thesis/lib/python3.12/multiprocessing/process.py\", line 314, in _bootstrap\n",
      "    self.run()\n",
      "  File \"/opt/anaconda3/envs/thesis/lib/python3.12/multiprocessing/process.py\", line 314, in _bootstrap\n",
      "    self.run()\n",
      "  File \"/opt/anaconda3/envs/thesis/lib/python3.12/multiprocessing/process.py\", line 314, in _bootstrap\n",
      "    self.run()\n",
      "  File \"/opt/anaconda3/envs/thesis/lib/python3.12/multiprocessing/process.py\", line 108, in run\n",
      "    self._target(*self._args, **self._kwargs)\n",
      "  File \"/opt/anaconda3/envs/thesis/lib/python3.12/multiprocessing/process.py\", line 108, in run\n",
      "    self._target(*self._args, **self._kwargs)\n",
      "  File \"/opt/anaconda3/envs/thesis/lib/python3.12/multiprocessing/process.py\", line 108, in run\n",
      "    self._target(*self._args, **self._kwargs)\n",
      "  File \"/opt/anaconda3/envs/thesis/lib/python3.12/multiprocessing/process.py\", line 108, in run\n",
      "    self._target(*self._args, **self._kwargs)\n",
      "  File \"/opt/anaconda3/envs/thesis/lib/python3.12/multiprocessing/process.py\", line 108, in run\n",
      "    self._target(*self._args, **self._kwargs)\n",
      "  File \"/opt/anaconda3/envs/thesis/lib/python3.12/multiprocessing/process.py\", line 108, in run\n",
      "    self._target(*self._args, **self._kwargs)\n",
      "  File \"/opt/anaconda3/envs/thesis/lib/python3.12/multiprocessing/process.py\", line 108, in run\n",
      "    self._target(*self._args, **self._kwargs)\n",
      "  File \"/opt/anaconda3/envs/thesis/lib/python3.12/multiprocessing/pool.py\", line 125, in worker\n",
      "    result = (True, func(*args, **kwds))\n",
      "                    ^^^^^^^^^^^^^^^^^^^\n",
      "  File \"/opt/anaconda3/envs/thesis/lib/python3.12/multiprocessing/pool.py\", line 125, in worker\n",
      "    result = (True, func(*args, **kwds))\n",
      "                    ^^^^^^^^^^^^^^^^^^^\n",
      "  File \"/opt/anaconda3/envs/thesis/lib/python3.12/multiprocessing/pool.py\", line 125, in worker\n",
      "    result = (True, func(*args, **kwds))\n",
      "                    ^^^^^^^^^^^^^^^^^^^\n",
      "  File \"/opt/anaconda3/envs/thesis/lib/python3.12/multiprocessing/pool.py\", line 125, in worker\n",
      "    result = (True, func(*args, **kwds))\n",
      "                    ^^^^^^^^^^^^^^^^^^^\n",
      "  File \"/opt/anaconda3/envs/thesis/lib/python3.12/multiprocessing/pool.py\", line 125, in worker\n",
      "    result = (True, func(*args, **kwds))\n",
      "                    ^^^^^^^^^^^^^^^^^^^\n",
      "  File \"/opt/anaconda3/envs/thesis/lib/python3.12/multiprocessing/pool.py\", line 125, in worker\n",
      "    result = (True, func(*args, **kwds))\n",
      "                    ^^^^^^^^^^^^^^^^^^^\n",
      "  File \"/opt/anaconda3/envs/thesis/lib/python3.12/multiprocessing/pool.py\", line 125, in worker\n",
      "    result = (True, func(*args, **kwds))\n",
      "                    ^^^^^^^^^^^^^^^^^^^\n",
      "  File \"/opt/anaconda3/envs/thesis/lib/python3.12/multiprocessing/pool.py\", line 48, in mapstar\n",
      "    return list(map(*args))\n",
      "           ^^^^^^^^^^^^^^^^\n",
      "  File \"/opt/anaconda3/envs/thesis/lib/python3.12/multiprocessing/pool.py\", line 48, in mapstar\n",
      "    return list(map(*args))\n",
      "           ^^^^^^^^^^^^^^^^\n",
      "  File \"/opt/anaconda3/envs/thesis/lib/python3.12/multiprocessing/pool.py\", line 48, in mapstar\n",
      "    return list(map(*args))\n",
      "           ^^^^^^^^^^^^^^^^\n",
      "  File \"/opt/anaconda3/envs/thesis/lib/python3.12/multiprocessing/pool.py\", line 48, in mapstar\n",
      "    return list(map(*args))\n",
      "           ^^^^^^^^^^^^^^^^\n",
      "  File \"/opt/anaconda3/envs/thesis/lib/python3.12/multiprocessing/pool.py\", line 48, in mapstar\n",
      "    return list(map(*args))\n",
      "           ^^^^^^^^^^^^^^^^\n",
      "  File \"/opt/anaconda3/envs/thesis/lib/python3.12/multiprocessing/pool.py\", line 48, in mapstar\n",
      "    return list(map(*args))\n",
      "           ^^^^^^^^^^^^^^^^\n",
      "  File \"/opt/anaconda3/envs/thesis/lib/python3.12/multiprocessing/pool.py\", line 48, in mapstar\n",
      "    return list(map(*args))\n",
      "           ^^^^^^^^^^^^^^^^\n",
      "  File \"/opt/anaconda3/envs/thesis/lib/python3.12/site-packages/eryn/ensemble.py\", line 1644, in __call__\n",
      "    out = self.f(*args_in, **kwargs_in)\n",
      "          ^^^^^^^^^^^^^^^^^^^^^^^^^^^^^\n",
      "  File \"/opt/anaconda3/envs/thesis/lib/python3.12/site-packages/eryn/ensemble.py\", line 1644, in __call__\n",
      "    out = self.f(*args_in, **kwargs_in)\n",
      "          ^^^^^^^^^^^^^^^^^^^^^^^^^^^^^\n",
      "  File \"/opt/anaconda3/envs/thesis/lib/python3.12/site-packages/eryn/ensemble.py\", line 1644, in __call__\n",
      "    out = self.f(*args_in, **kwargs_in)\n",
      "          ^^^^^^^^^^^^^^^^^^^^^^^^^^^^^\n",
      "  File \"/opt/anaconda3/envs/thesis/lib/python3.12/site-packages/eryn/ensemble.py\", line 1644, in __call__\n",
      "    out = self.f(*args_in, **kwargs_in)\n",
      "          ^^^^^^^^^^^^^^^^^^^^^^^^^^^^^\n",
      "  File \"/opt/anaconda3/envs/thesis/lib/python3.12/site-packages/eryn/ensemble.py\", line 1644, in __call__\n",
      "    out = self.f(*args_in, **kwargs_in)\n",
      "          ^^^^^^^^^^^^^^^^^^^^^^^^^^^^^\n",
      "  File \"/opt/anaconda3/envs/thesis/lib/python3.12/site-packages/eryn/ensemble.py\", line 1644, in __call__\n",
      "    out = self.f(*args_in, **kwargs_in)\n",
      "          ^^^^^^^^^^^^^^^^^^^^^^^^^^^^^\n",
      "  File \"/opt/anaconda3/envs/thesis/lib/python3.12/site-packages/eryn/ensemble.py\", line 1644, in __call__\n",
      "    out = self.f(*args_in, **kwargs_in)\n",
      "          ^^^^^^^^^^^^^^^^^^^^^^^^^^^^^\n",
      "  File \"/var/folders/lx/nx_0fbmn2xxcrxcn7tmrlntm0000gn/T/ipykernel_9072/3417456357.py\", line 4, in wrapper_likelihood\n",
      "    return log_likelihood(d, *params)\n",
      "           ^^^^^^^^^^^^^^^^^^^^^^^^^^\n",
      "  File \"/var/folders/lx/nx_0fbmn2xxcrxcn7tmrlntm0000gn/T/ipykernel_9072/3417456357.py\", line 4, in wrapper_likelihood\n",
      "    return log_likelihood(d, *params)\n",
      "           ^^^^^^^^^^^^^^^^^^^^^^^^^^\n",
      "  File \"/var/folders/lx/nx_0fbmn2xxcrxcn7tmrlntm0000gn/T/ipykernel_9072/3417456357.py\", line 4, in wrapper_likelihood\n",
      "    return log_likelihood(d, *params)\n",
      "           ^^^^^^^^^^^^^^^^^^^^^^^^^^\n",
      "  File \"/var/folders/lx/nx_0fbmn2xxcrxcn7tmrlntm0000gn/T/ipykernel_9072/3417456357.py\", line 4, in wrapper_likelihood\n",
      "    return log_likelihood(d, *params)\n",
      "           ^^^^^^^^^^^^^^^^^^^^^^^^^^\n",
      "  File \"/var/folders/lx/nx_0fbmn2xxcrxcn7tmrlntm0000gn/T/ipykernel_9072/3417456357.py\", line 4, in wrapper_likelihood\n",
      "    return log_likelihood(d, *params)\n",
      "           ^^^^^^^^^^^^^^^^^^^^^^^^^^\n",
      "  File \"/var/folders/lx/nx_0fbmn2xxcrxcn7tmrlntm0000gn/T/ipykernel_9072/3417456357.py\", line 4, in wrapper_likelihood\n",
      "    return log_likelihood(d, *params)\n",
      "           ^^^^^^^^^^^^^^^^^^^^^^^^^^\n",
      "  File \"/var/folders/lx/nx_0fbmn2xxcrxcn7tmrlntm0000gn/T/ipykernel_9072/3417456357.py\", line 4, in wrapper_likelihood\n",
      "    return log_likelihood(d, *params)\n",
      "           ^^^^^^^^^^^^^^^^^^^^^^^^^^\n",
      "  File \"/var/folders/lx/nx_0fbmn2xxcrxcn7tmrlntm0000gn/T/ipykernel_9072/1170223287.py\", line 19, in log_likelihood\n",
      "    r = residual_computation(d[0], W, h[0])\n",
      "        ^^^^^^^^^^^^^^^^^^^^^^^^^^^^^^^^^^^\n",
      "  File \"/var/folders/lx/nx_0fbmn2xxcrxcn7tmrlntm0000gn/T/ipykernel_9072/1170223287.py\", line 19, in log_likelihood\n",
      "    r = residual_computation(d[0], W, h[0])\n",
      "        ^^^^^^^^^^^^^^^^^^^^^^^^^^^^^^^^^^^\n",
      "  File \"/var/folders/lx/nx_0fbmn2xxcrxcn7tmrlntm0000gn/T/ipykernel_9072/1170223287.py\", line 19, in log_likelihood\n",
      "    r = residual_computation(d[0], W, h[0])\n",
      "        ^^^^^^^^^^^^^^^^^^^^^^^^^^^^^^^^^^^\n",
      "  File \"/var/folders/lx/nx_0fbmn2xxcrxcn7tmrlntm0000gn/T/ipykernel_9072/1170223287.py\", line 19, in log_likelihood\n",
      "    r = residual_computation(d[0], W, h[0])\n",
      "        ^^^^^^^^^^^^^^^^^^^^^^^^^^^^^^^^^^^\n",
      "  File \"/var/folders/lx/nx_0fbmn2xxcrxcn7tmrlntm0000gn/T/ipykernel_9072/1170223287.py\", line 19, in log_likelihood\n",
      "    r = residual_computation(d[0], W, h[0])\n",
      "        ^^^^^^^^^^^^^^^^^^^^^^^^^^^^^^^^^^^\n",
      "  File \"/var/folders/lx/nx_0fbmn2xxcrxcn7tmrlntm0000gn/T/ipykernel_9072/1170223287.py\", line 19, in log_likelihood\n",
      "    r = residual_computation(d[0], W, h[0])\n",
      "        ^^^^^^^^^^^^^^^^^^^^^^^^^^^^^^^^^^^\n",
      "  File \"/var/folders/lx/nx_0fbmn2xxcrxcn7tmrlntm0000gn/T/ipykernel_9072/1170223287.py\", line 19, in log_likelihood\n",
      "    r = residual_computation(d[0], W, h[0])\n",
      "        ^^^^^^^^^^^^^^^^^^^^^^^^^^^^^^^^^^^\n",
      "  File \"/var/folders/lx/nx_0fbmn2xxcrxcn7tmrlntm0000gn/T/ipykernel_9072/1602941921.py\", line 4, in residual_computation\n",
      "    freqs = np.fft.rfftfreq(N, d=dt)\n",
      "     ^^^^^^^^^^^^^^^^^^^^^^^^\n",
      "  File \"/var/folders/lx/nx_0fbmn2xxcrxcn7tmrlntm0000gn/T/ipykernel_9072/1602941921.py\", line 4, in residual_computation\n",
      "    freqs = np.fft.rfftfreq(N, d=dt)\n",
      "     ^^^^^^^^^^^^^^^^^^^^^^^^\n",
      "  File \"/var/folders/lx/nx_0fbmn2xxcrxcn7tmrlntm0000gn/T/ipykernel_9072/1602941921.py\", line 4, in residual_computation\n",
      "    freqs = np.fft.rfftfreq(N, d=dt)\n",
      "     ^^^^^^^^^^^^^^^^^^^^^^^^\n",
      "  File \"/var/folders/lx/nx_0fbmn2xxcrxcn7tmrlntm0000gn/T/ipykernel_9072/1602941921.py\", line 4, in residual_computation\n",
      "    freqs = np.fft.rfftfreq(N, d=dt)\n",
      "     ^^^^^^^^^^^^^^^^^^^^^^^^\n",
      "  File \"/var/folders/lx/nx_0fbmn2xxcrxcn7tmrlntm0000gn/T/ipykernel_9072/1602941921.py\", line 4, in residual_computation\n",
      "    freqs = np.fft.rfftfreq(N, d=dt)\n",
      "     ^^^^^^^^^^^^^^^^^^^^^^^^\n",
      "  File \"/var/folders/lx/nx_0fbmn2xxcrxcn7tmrlntm0000gn/T/ipykernel_9072/1602941921.py\", line 4, in residual_computation\n",
      "    freqs = np.fft.rfftfreq(N, d=dt)\n",
      "     ^^^^^^^^^^^^^^^^^^^^^^^^\n",
      "  File \"/var/folders/lx/nx_0fbmn2xxcrxcn7tmrlntm0000gn/T/ipykernel_9072/1602941921.py\", line 4, in residual_computation\n",
      "    freqs = np.fft.rfftfreq(N, d=dt)\n",
      "     ^^^^^^^^^^^^^^^^^^^^^^^^\n",
      "  File \"/opt/anaconda3/envs/thesis/lib/python3.12/site-packages/numpy/fft/_helper.py\", line 180, in rfftfreq\n",
      "    @set_module('numpy.fft')\n",
      "    \n",
      "  File \"/opt/anaconda3/envs/thesis/lib/python3.12/site-packages/numpy/fft/_helper.py\", line 180, in rfftfreq\n",
      "    @set_module('numpy.fft')\n",
      "    \n",
      "  File \"/opt/anaconda3/envs/thesis/lib/python3.12/site-packages/numpy/fft/_helper.py\", line 180, in rfftfreq\n",
      "    @set_module('numpy.fft')\n",
      "    \n",
      "  File \"/opt/anaconda3/envs/thesis/lib/python3.12/site-packages/numpy/fft/_helper.py\", line 180, in rfftfreq\n",
      "    @set_module('numpy.fft')\n",
      "    \n",
      "  File \"/opt/anaconda3/envs/thesis/lib/python3.12/site-packages/numpy/fft/_helper.py\", line 180, in rfftfreq\n",
      "    @set_module('numpy.fft')\n",
      "    \n",
      "  File \"/opt/anaconda3/envs/thesis/lib/python3.12/site-packages/numpy/fft/_helper.py\", line 180, in rfftfreq\n",
      "    @set_module('numpy.fft')\n",
      "    \n",
      "  File \"/opt/anaconda3/envs/thesis/lib/python3.12/site-packages/numpy/fft/_helper.py\", line 180, in rfftfreq\n",
      "    @set_module('numpy.fft')\n",
      "    \n",
      "KeyboardInterrupt\n",
      "KeyboardInterrupt\n",
      "KeyboardInterrupt\n",
      "KeyboardInterrupt\n",
      "KeyboardInterrupt\n",
      "KeyboardInterrupt\n",
      "KeyboardInterrupt\n"
     ]
    }
   ],
   "source": [
    "# Initialize sampler with parallel pool\n",
    "import multiprocessing \n",
    "\n",
    "NUM_CORES = max(multiprocessing.cpu_count() - 1, 1)\n",
    "\n",
    "print(f\"Starting MCMC with {NUM_CORES} processes\")\n",
    "multiprocessing.set_start_method('fork', force=True)\n",
    "pool = multiprocessing.Pool(NUM_CORES)\n",
    "\n",
    "sampler = EnsembleSampler(\n",
    "    nwalkers=32,\n",
    "    ndims={'emri': 2},\n",
    "    log_like_fn=wrapper_likelihood,\n",
    "    priors=priors,\n",
    "    args=(fixed_parameters,),\n",
    "    branch_names=['emri'],\n",
    "    tempering_kwargs=dict(ntemps=10),\n",
    "    pool=pool  # Enable parallel evaluation\n",
    ")\n",
    "\n",
    "# Starting positions\n",
    "M=1e6\n",
    "mu=10\n",
    "injection = np.array([M, mu])\n",
    "start = injection * (1 + 1e-7 * np.random.randn(10, 32, 1, 2))\n",
    "start_state = State({'emri': start})\n",
    "\n",
    "# Run MCMC\n",
    "sampler.compute_log_prior(start_state.branches_coords)\n",
    "sampler.run_mcmc(start_state, nsteps=500, progress=True)\n",
    "\n",
    "print('MCMC completed')\n",
    "\n",
    "chain = sampler.get_chain()\n",
    "np.save('mcmc_chain_pure_signal.npy', chain)"
   ]
  },
  {
   "cell_type": "raw",
   "id": "79644729-f25a-4452-b329-23a89174cfb1",
   "metadata": {},
   "source": [
    "# Starting positions\n",
    "injection = np.array([M, mu, a, p0, e0, dist, np.cos(qS), phiS, np.cos(qK), phiK, Phi_phi0, Phi_theta0, Phi_r0])\n",
    "start = injection * (1 + 1e-7 * np.random.randn(10, 32, 1, 13))\n",
    "start_state = State({'emri': start})"
   ]
  },
  {
   "cell_type": "raw",
   "id": "aa712b97-c4c9-4f61-a4ea-c8bde5b43323",
   "metadata": {},
   "source": [
    "# Run MCMC\n",
    "start_time = time.time()\n",
    "\n",
    "sampler.compute_log_prior(start_state.branches_coords)\n",
    "sampler.run_mcmc(start_state, nsteps=1000, progress=True)\n",
    "\n",
    "print(f\"MCMC completed! It took {time.time()-start_time:.2f} s\")"
   ]
  },
  {
   "cell_type": "code",
   "execution_count": null,
   "id": "de5bf34e-74f3-4f8e-b866-ac45a851a048",
   "metadata": {},
   "outputs": [],
   "source": []
  },
  {
   "cell_type": "markdown",
   "id": "11177f76-9847-4a48-b95d-b84bb79447e4",
   "metadata": {},
   "source": [
    "Backup"
   ]
  },
  {
   "cell_type": "raw",
   "id": "028e5cfd-2f36-4f0f-adbd-75091b597c3a",
   "metadata": {},
   "source": [
    "from scipy.fft import fft, ifft\n",
    "\n",
    "def fourier_domain_noise_covariance(Sn, w, dt):\n",
    "    \"\"\"\n",
    "    Compute Fourier-domain noise covariance matrix.\n",
    "    \n",
    "    Args:\n",
    "        Sn : array_like  --> PSD values of length N/2+1\n",
    "        w  : array_like  --> Window array in time domain of length N\n",
    "        dt : float       --> Sampling interval\n",
    "        \n",
    "    Returns:\n",
    "    Sigma_tilde : ndarray --> Fourier-domain covariance matrix (complex array N x N)\n",
    "    \"\"\"\n",
    "    \n",
    "    N = len(w)\n",
    "    df = 1.0 / (N * dt)\n",
    "    \n",
    "    w_tilde = dt * fft(w)\n",
    "\n",
    "    # Fill u with PSD values\n",
    "    u = np.zeros(N, dtype=complex)\n",
    "    u[0:N//2+1] = Sn\n",
    "    if N//2+1 < N:\n",
    "        u[N//2+1:N] = Sn[1:-1][::-1]  # Sn[1:-1] reversed\n",
    "    \n",
    "    # Initialize complex covariance matrix\n",
    "    Sigma_tilde = np.zeros((N, N), dtype=complex)\n",
    "    \n",
    "    # Loop over diagonal indices\n",
    "    for diagonal in tqdm(range(N//2 + 1)):\n",
    "        # Circular permutation\n",
    "        w_shift = np.roll(w, -diagonal)\n",
    "        \n",
    "        v = w * w_shift\n",
    "\n",
    "        u_hat = fft(u)\n",
    "        v_hat = fft(v)\n",
    "        \n",
    "        D = (df / 2.0) * ifft(u_hat * v_hat)\n",
    "        \n",
    "        # Set diagonal of covariance matrix\n",
    "        for i in range(N):\n",
    "            j = (i + diagonal) % N\n",
    "            Sigma_tilde[i, j] = D[i]\n",
    "        \n",
    "        # If not the (N/2) diagonal, assign D* to mirrored diagonal entries\n",
    "        if diagonal != N//2:\n",
    "            for i in range(N):\n",
    "                j = (i - diagonal) % N\n",
    "                Sigma_tilde[i, j] = np.conj(D[i]) \n",
    "    \n",
    "    return Sigma_tilde"
   ]
  },
  {
   "cell_type": "raw",
   "id": "34112ece-cd03-40b6-b2ad-8f74c85d5292",
   "metadata": {},
   "source": [
    "import numpy as np\n",
    "from scipy.fft import rfft, irfft\n",
    "from tqdm import tqdm\n",
    "\n",
    "def fourier_domain_noise_covariance_fast_basic(Sn, w, dt):\n",
    "    N = len(w)\n",
    "    df = 1.0 / (N * dt)\n",
    "\n",
    "    # costruisci u (reale) dimensione N\n",
    "    u = np.zeros(N, dtype=float)\n",
    "    u[0:N//2+1] = Sn\n",
    "    if N//2+1 < N:\n",
    "        u[N//2+1:N] = Sn[1:-1][::-1]\n",
    "\n",
    "    # precomputi (solo una volta)\n",
    "    u_hat = rfft(u)            # lunghezza N//2+1\n",
    "    Sigma = np.zeros((N, N), dtype=np.complex128)\n",
    "\n",
    "    i = np.arange(N)\n",
    "    for diagonal in tqdm(range(N//2 + 1)):\n",
    "        w_shift = np.roll(w, -diagonal)\n",
    "        v = w * w_shift                      # reale\n",
    "        v_hat = rfft(v)\n",
    "        D = (df / 2.0) * irfft(u_hat * v_hat)  # vettore length N (reale)\n",
    "\n",
    "        j = (i + diagonal) % N\n",
    "        Sigma[i, j] = D                       # assegnazione vettorizzata\n",
    "        if diagonal != N//2:\n",
    "            Sigma[j, i] = np.conjugate(D)    # assegnazione vettorizzata mirroring\n",
    "\n",
    "    return Sigma\n"
   ]
  }
 ],
 "metadata": {
  "kernelspec": {
   "display_name": "Python (thesis)",
   "language": "python",
   "name": "thesis"
  },
  "language_info": {
   "codemirror_mode": {
    "name": "ipython",
    "version": 3
   },
   "file_extension": ".py",
   "mimetype": "text/x-python",
   "name": "python",
   "nbconvert_exporter": "python",
   "pygments_lexer": "ipython3",
   "version": "3.12.2"
  }
 },
 "nbformat": 4,
 "nbformat_minor": 5
}
