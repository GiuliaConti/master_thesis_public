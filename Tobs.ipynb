{
 "cells": [
  {
   "cell_type": "code",
   "execution_count": 1,
   "id": "0aabe521-8b31-41e1-83c0-b6af28acf75a",
   "metadata": {},
   "outputs": [],
   "source": [
    "import time\n",
    "import numpy as np\n",
    "import matplotlib.pyplot as plt\n",
    "import warnings\n",
    "import multiprocessing\n",
    "import os, datetime\n",
    "\n",
    "from lisatools.diagnostic import *\n",
    "from lisatools.sensitivity import SensitivityMatrix, A1TDISens, E1TDISens, LISASens\n",
    "from lisatools.utils.constants import *\n",
    "from lisatools.detector import ESAOrbits, EqualArmlengthOrbits\n",
    "from lisatools.datacontainer import DataResidualArray \n",
    "from lisatools.analysiscontainer import AnalysisContainer\n",
    "\n",
    "from few.waveform import GenerateEMRIWaveform\n",
    "from few.utils.constants import *\n",
    "from few.trajectory.inspiral import EMRIInspiral\n",
    "traj_module = EMRIInspiral(func=\"KerrEccEqFlux\")\n",
    "from few.utils.utility import get_p_at_t\n",
    "from few.utils.fdutils import *\n",
    "\n",
    "from eryn.ensemble import EnsembleSampler\n",
    "from eryn.prior import ProbDistContainer, uniform_dist\n",
    "from eryn.state import State\n",
    "from scipy.signal.windows import tukey, hann, boxcar, nuttall, blackman\n",
    "from eryn.backends import HDFBackend\n",
    "\n",
    "from fastlisaresponse import pyResponseTDI, ResponseWrapper"
   ]
  },
  {
   "cell_type": "code",
   "execution_count": 2,
   "id": "b388d165-0f9c-464d-8f83-3a1d01f17924",
   "metadata": {},
   "outputs": [],
   "source": [
    "# gpu\n",
    "use_gpu = False"
   ]
  },
  {
   "cell_type": "code",
   "execution_count": 3,
   "id": "7749e0f0-3238-4844-bddb-0746f0423887",
   "metadata": {},
   "outputs": [],
   "source": [
    "# metric\n",
    "metric = \"FastKerrEccentricEquatorialFlux\"   # Kerr\n",
    "traj = \"KerrEccEqFlux\"\n",
    "\n",
    "#metric = \"FastSchwarzschildEccentricFlux\"    # Schw\n",
    "#traj = \"SchwarzEccFlux\"\n",
    "\n",
    "\n",
    "# Waveform parameters\n",
    "M = 1e6  # central object mass\n",
    "mu = 10  # secondary object mass\n",
    "a = 0.5  # spin (will be ignored in Schwarzschild waveform)\n",
    "p0 = 8.2  # initial semi-latus rectum\n",
    "e0 = 0.5  # eccentricity\n",
    "x0 = 1.0  # cosine of inclination \n",
    "dist = 1.0  # distance\n",
    "\n",
    "qK = np.pi / 6  # polar spin angle (theta)\n",
    "phiK = np.pi / 3  # azimuthal viewing angle\n",
    "qS = np.pi / 6  # polar sky angle\n",
    "phiS = np.pi / 3  # azimuthal viewing angle\n",
    "\n",
    "Phi_phi0 = np.pi / 3\n",
    "Phi_theta0 = np.pi / 6\n",
    "Phi_r0 = np.pi / 3"
   ]
  },
  {
   "cell_type": "code",
   "execution_count": 4,
   "id": "707dea08-1552-48ad-a095-d4ed2ceae84e",
   "metadata": {},
   "outputs": [],
   "source": [
    "# Observation parameters\n",
    "Tobs_1 = 1  # [years]\n",
    "dt = 50.0  # [s]\n",
    "eps = 1e-5  # mode content\n",
    "\n",
    "emri_waveform_kwargs_1 = dict(T=Tobs_1, dt=dt, eps=eps)\n",
    "\n",
    "Tobs_2 = 2  # [years]\n",
    "dt = 50.0  # [s]\n",
    "eps = 1e-5  # mode content\n",
    "\n",
    "emri_waveform_kwargs_2 = dict(T=Tobs_2, dt=dt, eps=eps)"
   ]
  },
  {
   "cell_type": "code",
   "execution_count": 5,
   "id": "eeeac3c6-d357-4128-8765-91ecdf64726d",
   "metadata": {},
   "outputs": [
    {
     "name": "stdout",
     "output_type": "stream",
     "text": [
      "p0 for 2 yr signal = 9.379741204726283\n"
     ]
    }
   ],
   "source": [
    "# get the initial p0 \n",
    "p0 = get_p_at_t(\n",
    "    traj_module,\n",
    "    Tobs_2*0.995,\n",
    "    [M, mu, a, e0, x0],\n",
    "    index_of_p=3,\n",
    "    index_of_a=2,\n",
    "    index_of_e=4,\n",
    "    index_of_x=5,\n",
    "    traj_kwargs={},\n",
    "    xtol=2e-12,\n",
    "    rtol=8.881784197001252e-16,\n",
    "    bounds=None,\n",
    ")\n",
    "print('p0 for 2 yr signal =', p0)"
   ]
  },
  {
   "cell_type": "code",
   "execution_count": 6,
   "id": "d8736bf6-0ecd-47d8-bb68-51b5d4fea557",
   "metadata": {},
   "outputs": [],
   "source": [
    "emri_waveform_args = [\n",
    "    M,\n",
    "    mu,\n",
    "    a,\n",
    "    p0,\n",
    "    e0,\n",
    "    x0,\n",
    "    dist,\n",
    "    qS,\n",
    "    phiS,\n",
    "    qK,\n",
    "    phiK,\n",
    "    Phi_phi0,\n",
    "    Phi_theta0,\n",
    "    Phi_r0,\n",
    "]"
   ]
  },
  {
   "cell_type": "markdown",
   "id": "afa176a8-57cf-4856-a7e8-250566ec8a3e",
   "metadata": {},
   "source": [
    "### Signal for $T_{obs} = 1$yr (considering a p0 for a signal that lasts 2yr)"
   ]
  },
  {
   "cell_type": "code",
   "execution_count": 7,
   "id": "cca9984a-a62f-4829-9a84-cf6da541935f",
   "metadata": {},
   "outputs": [],
   "source": [
    "# TDI\n",
    "\n",
    "tdi_chan=\"AE\"\n",
    "tdi_labels=[\"A\", \"E\"]\n",
    "\n",
    "#tdi_chan=\"AET\"\n",
    "#tdi_labels=[\"A\", \"E\", \"T\"]\n",
    "\n",
    "order = 25 # order of the langrangian interpolation (for strain and orbits?)\n",
    "\n",
    "tdi_gen=\"1st generation\"\n",
    "#tdi_gen=\"2nd generation\"\n",
    "\n",
    "\n",
    "response_kwargs_1 = dict(\n",
    "        Tobs=Tobs_1,\n",
    "        dt=dt,\n",
    "        t0 = 100000.0,  # time at which signal starts (chops off data at start and end of waveform)\n",
    "        order = order, # order of the langrangian interpolation (for strain and orbits?)\n",
    "        index_beta = 7,   # Sky location parameters: theta --> qS\n",
    "        index_lambda = 8, #                          phi --> phiS\n",
    "        tdi=tdi_gen, \n",
    "        tdi_chan=tdi_chan,\n",
    "        orbits=ESAOrbits(),\n",
    "    )\n",
    "\n",
    "# Initialise generator\n",
    "td_gen = GenerateEMRIWaveform(\n",
    "        metric,\n",
    "        sum_kwargs=dict(pad_output=True, odd_len=True),\n",
    "        return_list=False,\n",
    "        use_gpu=use_gpu,\n",
    "    )\n",
    "\n",
    "\n",
    "\n",
    "lisa_response_1 = ResponseWrapper(waveform_gen=td_gen,\n",
    "                                flip_hx=True,\n",
    "                                use_gpu=use_gpu,\n",
    "                                remove_sky_coords=False,\n",
    "                                is_ecliptic_latitude=False,\n",
    "                                remove_garbage=True,\n",
    "                                **response_kwargs_1)\n",
    "\n",
    "\n",
    "\n",
    "\n",
    "def fastlisaresponse_1(*params, emri_waveform_kwargs=None):\n",
    "    return lisa_response_1(*params, **(emri_waveform_kwargs or {}))"
   ]
  },
  {
   "cell_type": "markdown",
   "id": "96c4ae6b-9cf4-48f7-aeb0-7bbae00fc3ac",
   "metadata": {},
   "source": [
    "### Signal for $T_{obs} = 2$yr (considering a signal that lasts 2yr)"
   ]
  },
  {
   "cell_type": "code",
   "execution_count": 8,
   "id": "9b16b4fc-a18f-4020-8822-f9a2d9a0ba7a",
   "metadata": {},
   "outputs": [],
   "source": [
    "# TDI\n",
    "\n",
    "tdi_chan=\"AE\"\n",
    "tdi_labels=[\"A\", \"E\"]\n",
    "\n",
    "#tdi_chan=\"AET\"\n",
    "#tdi_labels=[\"A\", \"E\", \"T\"]\n",
    "\n",
    "order = 25 # order of the langrangian interpolation (for strain and orbits?)\n",
    "\n",
    "tdi_gen=\"1st generation\"\n",
    "#tdi_gen=\"2nd generation\"\n",
    "\n",
    "\n",
    "response_kwargs_2 = dict(\n",
    "        Tobs=Tobs_2,\n",
    "        dt=dt,\n",
    "        t0 = 100000.0,  # time at which signal starts (chops off data at start and end of waveform)\n",
    "        order = order, # order of the langrangian interpolation (for strain and orbits?)\n",
    "        index_beta = 7,   # Sky location parameters: theta --> qS\n",
    "        index_lambda = 8, #                          phi --> phiS\n",
    "        tdi=tdi_gen, \n",
    "        tdi_chan=tdi_chan,\n",
    "        orbits=ESAOrbits(),\n",
    "    )\n",
    "\n",
    "# Initialise generator\n",
    "td_gen = GenerateEMRIWaveform(\n",
    "        metric,\n",
    "        sum_kwargs=dict(pad_output=True, odd_len=True),\n",
    "        return_list=False,\n",
    "        use_gpu=use_gpu,\n",
    "    )\n",
    "\n",
    "\n",
    "\n",
    "lisa_response_2 = ResponseWrapper(waveform_gen=td_gen,\n",
    "                                flip_hx=True,\n",
    "                                use_gpu=use_gpu,\n",
    "                                remove_sky_coords=False,\n",
    "                                is_ecliptic_latitude=False,\n",
    "                                remove_garbage=True,\n",
    "                                **response_kwargs_2)\n",
    "\n",
    "\n",
    "\n",
    "\n",
    "def fastlisaresponse_2(*params, emri_waveform_kwargs=None):\n",
    "    return lisa_response_2(*params, **(emri_waveform_kwargs or {}))"
   ]
  },
  {
   "cell_type": "markdown",
   "id": "d9cd5b48-246e-4fef-85ae-98a32cdc0fb6",
   "metadata": {},
   "source": [
    "### Generate signals (no response)"
   ]
  },
  {
   "cell_type": "code",
   "execution_count": 9,
   "id": "bbceca3a-63e6-4e5f-b9fe-7b7bba7ee5fc",
   "metadata": {},
   "outputs": [
    {
     "name": "stdout",
     "output_type": "stream",
     "text": [
      "Waveform generation took 9.49 s\n",
      "Waveform generation took 2.52 s\n"
     ]
    }
   ],
   "source": [
    "# Generate a waveform\n",
    "start = time.time()\n",
    "chans_sign_1 = td_gen(\n",
    "    *emri_waveform_args,\n",
    "    **emri_waveform_kwargs_1\n",
    ")\n",
    "print(f\"Waveform generation took {time.time()-start:.2f} s\")\n",
    "\n",
    "start = time.time()\n",
    "chans_sign_2 = td_gen(\n",
    "    *emri_waveform_args,\n",
    "    **emri_waveform_kwargs_2\n",
    ")\n",
    "print(f\"Waveform generation took {time.time()-start:.2f} s\")"
   ]
  },
  {
   "cell_type": "code",
   "execution_count": 10,
   "id": "57c62751-9ae3-4b78-bfc7-7e0ff976296e",
   "metadata": {},
   "outputs": [
    {
     "data": {
      "image/png": "[encoded data removed]",
      "text/plain": [
       "<Figure size 640x480 with 1 Axes>"
      ]
     },
     "metadata": {},
     "output_type": "display_data"
    }
   ],
   "source": [
    "# Visualise the signal\n",
    "\n",
    "time_array_1 = np.arange(0,len(chans_sign_1.real))*dt\n",
    "time_array_2 = np.arange(0,len(chans_sign_2.real))*dt\n",
    "\n",
    "plt.plot(time_array_2, chans_sign_2.real,label=r'$T_{obs}=2\\text{yr}$')\n",
    "plt.plot(time_array_1, chans_sign_1.real,label=r'$T_{obs}=1\\text{yr}$')\n",
    "plt.ylabel(r'$h_{+}(t)$')\n",
    "plt.xlabel(r'$t$ [s]')\n",
    "\n",
    "plt.legend()\n",
    "plt.tight_layout()\n",
    "\n",
    "plt.show()"
   ]
  },
  {
   "cell_type": "markdown",
   "id": "7bd2a49c-f315-4247-896e-829db3fcc484",
   "metadata": {},
   "source": [
    "### Generate signals with detector response"
   ]
  },
  {
   "cell_type": "code",
   "execution_count": 11,
   "id": "9ec6966f-315d-4844-ba96-1619cbe514f1",
   "metadata": {},
   "outputs": [
    {
     "name": "stdout",
     "output_type": "stream",
     "text": [
      "Waveform generation took 2.40 s\n",
      "Waveform generation took 3.89 s\n"
     ]
    }
   ],
   "source": [
    "# Generate a waveform\n",
    "start = time.time()\n",
    "chans_1 = fastlisaresponse_1(\n",
    "    *emri_waveform_args,\n",
    "    emri_waveform_kwargs=emri_waveform_kwargs_1,\n",
    ")\n",
    "print(f\"Waveform generation took {time.time()-start:.2f} s\")\n",
    "\n",
    "start = time.time()\n",
    "chans_2 = fastlisaresponse_2(\n",
    "    *emri_waveform_args,\n",
    "    emri_waveform_kwargs=emri_waveform_kwargs_2,\n",
    ")\n",
    "print(f\"Waveform generation took {time.time()-start:.2f} s\")"
   ]
  },
  {
   "cell_type": "code",
   "execution_count": 12,
   "id": "4c57e5df-4950-41bd-83c0-aaa58652409e",
   "metadata": {},
   "outputs": [
    {
     "data": {
      "image/png": "[encoded data removed]",
      "text/plain": [
       "<Figure size 640x480 with 1 Axes>"
      ]
     },
     "metadata": {},
     "output_type": "display_data"
    }
   ],
   "source": [
    "# Visualise the signal\n",
    "\n",
    "time_array_1 = np.arange(0,len(chans_1[0]))*dt\n",
    "time_array_2 = np.arange(0,len(chans_2[0]))*dt\n",
    "\n",
    "plt.plot(time_array_2, chans_2[0], alpha=1, label=r'$T_{obs}=2\\text{yr}$')\n",
    "plt.plot(time_array_1, chans_1[0], alpha=0.75, label=r'$T_{obs}=1\\text{yr}$')\n",
    "plt.ylabel(r'$h_{+}(t)$')\n",
    "plt.xlabel(r'$t$ [s]')\n",
    "\n",
    "plt.legend()\n",
    "plt.tight_layout()\n",
    "\n",
    "plt.show()"
   ]
  }
 ],
 "metadata": {
  "kernelspec": {
   "display_name": "Python (thesis)",
   "language": "python",
   "name": "thesis"
  },
  "language_info": {
   "codemirror_mode": {
    "name": "ipython",
    "version": 3
   },
   "file_extension": ".py",
   "mimetype": "text/x-python",
   "name": "python",
   "nbconvert_exporter": "python",
   "pygments_lexer": "ipython3",
   "version": "3.12.2"
  }
 },
 "nbformat": 4,
 "nbformat_minor": 5
}
