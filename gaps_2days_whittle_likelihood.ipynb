{
 "cells": [
  {
   "cell_type": "markdown",
   "id": "6e407799-f9bd-41d7-8f16-559594b7c0d8",
   "metadata": {},
   "source": [
    "# Whittle likelihood for 2-day signal WITH GAPS"
   ]
  },
  {
   "cell_type": "code",
   "execution_count": 1,
   "id": "702a1888-f7d7-456d-afc5-5556af9e99e3",
   "metadata": {},
   "outputs": [],
   "source": [
    "import time\n",
    "import numpy as np\n",
    "import matplotlib.pyplot as plt\n",
    "import warnings\n",
    "import multiprocessing\n",
    "import os, datetime\n",
    "from tqdm import tqdm\n",
    "\n",
    "from lisatools.diagnostic import *\n",
    "from lisatools.sensitivity import SensitivityMatrix, A1TDISens, E1TDISens, LISASens\n",
    "from lisatools.utils.constants import *\n",
    "from lisatools.detector import EqualArmlengthOrbits\n",
    "from lisatools.datacontainer import DataResidualArray \n",
    "from lisatools.analysiscontainer import AnalysisContainer\n",
    "\n",
    "from few.waveform import GenerateEMRIWaveform\n",
    "from few.utils.constants import *\n",
    "from few.trajectory.inspiral import EMRIInspiral\n",
    "\n",
    "from fastlisaresponse import pyResponseTDI, ResponseWrapper\n",
    "\n",
    "try:\n",
    "    import cupy as cp\n",
    "except Exception:\n",
    "    cp = None"
   ]
  },
  {
   "cell_type": "code",
   "execution_count": 2,
   "id": "5fc76363-94e1-4f5a-9332-31c6db268bd4",
   "metadata": {},
   "outputs": [],
   "source": [
    "# gpu\n",
    "use_gpu = False"
   ]
  },
  {
   "cell_type": "markdown",
   "id": "268f62df-1e16-4f4f-85fb-0a76eacb1d27",
   "metadata": {},
   "source": [
    "Define FEW parameters"
   ]
  },
  {
   "cell_type": "code",
   "execution_count": 3,
   "id": "3543994a-afcb-497e-8d28-a4f8be24f804",
   "metadata": {},
   "outputs": [],
   "source": [
    "# metric\n",
    "metric = \"FastKerrEccentricEquatorialFlux\"   # Kerr\n",
    "traj = \"KerrEccEqFlux\""
   ]
  },
  {
   "cell_type": "code",
   "execution_count": 4,
   "id": "cfb55870-885a-4e74-a3ce-51dcd41655d9",
   "metadata": {},
   "outputs": [],
   "source": [
    "# Observation parameters\n",
    "#Tobs = 1  # [years]\n",
    "#dt = 50.0  # [s]\n",
    "\n",
    "Tobs = 0.006 # almost 2 days [yrs]\n",
    "dt = 10.0  # [s]\n",
    "eps = 1e-5  # mode content\n",
    "\n",
    "emri_waveform_kwargs = dict(T=Tobs, dt=dt, eps=eps)"
   ]
  },
  {
   "cell_type": "code",
   "execution_count": 5,
   "id": "31af6830-19d6-4c28-a4ad-7e75ba558c1b",
   "metadata": {},
   "outputs": [],
   "source": [
    "# Waveform parameters\n",
    "M = 1e6  # central object mass\n",
    "mu = 10  # secondary object mass\n",
    "a = 0.5  # spin (will be ignored in Schwarzschild waveform)\n",
    "#p0 = 8.2  # initial semi-latus rectum\n",
    "p0 = 5.2  # initial semi-latus rectum\n",
    "e0 = 0.5  # eccentricity\n",
    "x0 = 1.0  # cosine of inclination \n",
    "dist = 1.0  # distance\n",
    "\n",
    "qK = np.pi / 6  # polar spin angle (theta)\n",
    "phiK = np.pi / 3  # azimuthal viewing angle\n",
    "qS = np.pi / 6  # polar sky angle\n",
    "phiS = np.pi / 3  # azimuthal viewing angle\n",
    "\n",
    "Phi_phi0 = np.pi / 3\n",
    "Phi_theta0 = np.pi / 6\n",
    "Phi_r0 = np.pi / 3\n",
    "\n",
    "\n",
    "\n",
    "emri_waveform_args = [\n",
    "    M,\n",
    "    mu,\n",
    "    a,\n",
    "    p0,\n",
    "    e0,\n",
    "    x0,\n",
    "    dist,\n",
    "    qS,\n",
    "    phiS,\n",
    "    qK,\n",
    "    phiK,\n",
    "    Phi_phi0,\n",
    "    Phi_theta0,\n",
    "    Phi_r0,\n",
    "]"
   ]
  },
  {
   "cell_type": "markdown",
   "id": "3423e3c0-e5e8-4693-b141-a3acdf0e7be2",
   "metadata": {},
   "source": [
    "Define detector response parameters"
   ]
  },
  {
   "cell_type": "code",
   "execution_count": 6,
   "id": "d4f74014-a846-4036-ba13-b48b96683a96",
   "metadata": {},
   "outputs": [],
   "source": [
    "# TDI\n",
    "\n",
    "tdi_chan=\"AE\"\n",
    "tdi_labels=[\"A\", \"E\"]\n",
    "\n",
    "#tdi_chan=\"AET\"\n",
    "#tdi_labels=[\"A\", \"E\", \"T\"]\n",
    "\n",
    "order = 25 # order of the langrangian interpolation (for strain and orbits?)\n",
    "\n",
    "tdi_gen=\"1st generation\"\n",
    "#tdi_gen=\"2nd generation\"\n",
    "\n",
    "\n",
    "response_kwargs = dict(\n",
    "        Tobs=Tobs,\n",
    "        dt=dt,\n",
    "        #t0 = 100000.0,  # time at which signal starts (chops off data at start and end of waveform)\n",
    "        order = order, # order of the langrangian interpolation (for strain and orbits?)\n",
    "        index_beta = 7,   # Sky location parameters: theta --> qS\n",
    "        index_lambda = 8, #                          phi --> phiS\n",
    "        tdi=tdi_gen, \n",
    "        tdi_chan=tdi_chan,\n",
    "        orbits=EqualArmlengthOrbits(),\n",
    "    )"
   ]
  },
  {
   "cell_type": "markdown",
   "id": "1f1dc77c-7e24-4e8d-bd8b-3f6eb0d8e24b",
   "metadata": {},
   "source": [
    "Generate TD data with detector response --> chans"
   ]
  },
  {
   "cell_type": "code",
   "execution_count": 7,
   "id": "9d0e2b4c-809e-4688-a1ba-e4f5976ceabc",
   "metadata": {},
   "outputs": [],
   "source": [
    "# Initialise generator\n",
    "td_gen = GenerateEMRIWaveform(\n",
    "        metric,\n",
    "        sum_kwargs=dict(pad_output=True, odd_len=True),\n",
    "        return_list=False,\n",
    "        use_gpu=use_gpu,\n",
    "    )\n",
    "\n",
    "\n",
    "\n",
    "lisa_response = ResponseWrapper(waveform_gen=td_gen,\n",
    "                                flip_hx=True,\n",
    "                                use_gpu=use_gpu,\n",
    "                                remove_sky_coords=False,\n",
    "                                is_ecliptic_latitude=False,\n",
    "                                remove_garbage=False,\n",
    "                                **response_kwargs)\n",
    "\n",
    "\n",
    "\n",
    "\n",
    "def fastlisaresponse(*params, emri_waveform_kwargs=None):\n",
    "    return lisa_response(*params, **(emri_waveform_kwargs or {}))"
   ]
  },
  {
   "cell_type": "code",
   "execution_count": 8,
   "id": "b049fda8-28a1-4f89-83d2-d10d466ccfcb",
   "metadata": {},
   "outputs": [
    {
     "name": "stdout",
     "output_type": "stream",
     "text": [
      "Waveform generation took 9.84 s\n"
     ]
    }
   ],
   "source": [
    "# Generate a waveform\n",
    "start = time.time()\n",
    "chans = fastlisaresponse(\n",
    "    *emri_waveform_args,\n",
    "    emri_waveform_kwargs=emri_waveform_kwargs,\n",
    ")\n",
    "print(f\"Waveform generation took {time.time()-start:.2f} s\")"
   ]
  },
  {
   "cell_type": "code",
   "execution_count": 9,
   "id": "ceebd1cc-3570-408a-b5b5-18c3d62edc67",
   "metadata": {},
   "outputs": [
    {
     "data": {
      "image/png": "[encoded data removed]",
      "text/plain": [
       "<Figure size 800x300 with 1 Axes>"
      ]
     },
     "metadata": {},
     "output_type": "display_data"
    }
   ],
   "source": [
    "# Visualise the signal\n",
    "time_array = np.arange(0,len(chans[0]))*dt\n",
    "\n",
    "plt.figure(figsize=(8,3))\n",
    "plt.plot(time_array, chans[0], label='TD waveform')\n",
    "plt.ylabel(r'$h_{+}(t)$')\n",
    "plt.xlabel(r'$t$ [s]')\n",
    "#plt.xlim(2.3e7,2.7e7)\n",
    "plt.legend()\n",
    "plt.tight_layout()\n",
    "\n",
    "plt.show()"
   ]
  },
  {
   "cell_type": "markdown",
   "id": "38f04ff9-3ed0-48e0-8590-cd3220645752",
   "metadata": {},
   "source": [
    "#### Define w and W (gated function)¶"
   ]
  },
  {
   "cell_type": "markdown",
   "id": "f3b15696-950f-4568-8c67-00b93c08f837",
   "metadata": {},
   "source": [
    "Choose positions of gaps: at 20%, 40%... of signal"
   ]
  },
  {
   "cell_type": "code",
   "execution_count": 10,
   "id": "e38b1268-92bc-45d2-ac80-a8a8047013f9",
   "metadata": {},
   "outputs": [],
   "source": [
    "N_d = 2*int(60*60/dt)   # Length gap: 2 hrs\n",
    "#N_d = 2*int(60*60*24/dt)  # Length gap: 2 day\n",
    "\n",
    "N_tot = len(chans[0])   # Tot lenght of signal\n",
    "\n",
    "u = np.array([0.20, 0.40, 0.60, 0.80])  # position of gaps (after 20%, 40%... of signal)\n",
    "\n",
    "idx = np.floor(u * (N_tot - N_d) - 1).astype(int) # obtain the indeces of such positions"
   ]
  },
  {
   "cell_type": "markdown",
   "id": "b0fcebae-6636-4157-939b-7567637be2b1",
   "metadata": {},
   "source": [
    "Create w as an array of ones, where I put to zero the entries that correspond to the gaps"
   ]
  },
  {
   "cell_type": "code",
   "execution_count": 11,
   "id": "8a4f71a6-ea24-47c0-a44b-a74d6d50182c",
   "metadata": {},
   "outputs": [],
   "source": [
    "w = np.ones(N_tot, dtype=int)  \n",
    "for i in idx: w[i:i+N_d] = 0     "
   ]
  },
  {
   "cell_type": "markdown",
   "id": "07681c19-bcc5-486b-8e4f-ca2f991a7d16",
   "metadata": {},
   "source": [
    "Dataset with gaps obtained by multiplying the waveform by w (which sets the gap portions of the signal to zero)"
   ]
  },
  {
   "cell_type": "code",
   "execution_count": 12,
   "id": "c78c673e-9b68-44b8-8cac-6001ad816dab",
   "metadata": {},
   "outputs": [],
   "source": [
    "chans_gap = chans * w"
   ]
  },
  {
   "cell_type": "markdown",
   "id": "f64224ad-b4e3-4047-a0cd-680aad1df325",
   "metadata": {},
   "source": [
    "W diagonal matrix with w as its diagonal"
   ]
  },
  {
   "cell_type": "markdown",
   "id": "115ca573-7270-4d7a-ab1b-2bbf54ef2d05",
   "metadata": {},
   "source": [
    "#### Cut data"
   ]
  },
  {
   "cell_type": "markdown",
   "id": "409d4968-e4be-40d1-a21f-d70bac8e7acf",
   "metadata": {},
   "source": [
    "Transform in FD and cut the data above minimum frequency"
   ]
  },
  {
   "cell_type": "code",
   "execution_count": 13,
   "id": "26d0ebb3-8b13-4fe7-8dc3-31891669ad97",
   "metadata": {},
   "outputs": [],
   "source": [
    "# Compute f_min\n",
    "r_apo = p0 * M * MTSUN_SI / (1 - e0)  # meters\n",
    "r_per = p0 * M * MTSUN_SI / (1 + e0)  # meters\n",
    "r0 = (r_apo+r_per)/2\n",
    "\n",
    "f_orb_0 = np.sqrt(M * MTSUN_SI / r0**3) / (2 * np.pi)  # rad/s\n",
    "\n",
    "f_min = 2 * f_orb_0"
   ]
  },
  {
   "cell_type": "code",
   "execution_count": 14,
   "id": "7635c1bc-7205-458e-9bdd-03f52ad32e99",
   "metadata": {},
   "outputs": [],
   "source": [
    "N = len(chans_gap[0])\n",
    "freqs = np.fft.rfftfreq(N, d=dt)       \n",
    "complete_data = np.fft.rfft(chans_gap, axis=-1) * dt \n",
    "\n",
    "freq_threshold = f_min\n",
    "mask = freqs > freq_threshold\n",
    "\n",
    "data_filtered = complete_data[:,mask]\n",
    "freq_filtered = freqs[mask]"
   ]
  },
  {
   "cell_type": "raw",
   "id": "29351a88-063f-4468-8f1c-1388fc8669e0",
   "metadata": {},
   "source": [
    "# Compare direct fft of data with DataResidualArray\n",
    "\n",
    "data_res = DataResidualArray(chans, dt=dt)\n",
    "complete_data_1 = data_res.data_res_arr\n",
    "freqs_1 = data_res.f_arr\n",
    "\n",
    "np.max(np.abs(complete_data - complete_data_1))     # max difference"
   ]
  },
  {
   "cell_type": "markdown",
   "id": "5ff2706f-7bfa-4647-86d3-28abb7200f82",
   "metadata": {},
   "source": [
    "Define positive psd matrix"
   ]
  },
  {
   "cell_type": "code",
   "execution_count": 15,
   "id": "1c1a1daa-78fe-4919-a7af-115d99d1aa04",
   "metadata": {},
   "outputs": [],
   "source": [
    "pos_psd = np.vstack([\n",
    "    get_sensitivity(freq_filtered, sens_fn=\"A1TDISens\"),\n",
    "    get_sensitivity(freq_filtered, sens_fn=\"E1TDISens\"),\n",
    "])"
   ]
  },
  {
   "cell_type": "markdown",
   "id": "55007fbf-71e4-459d-aaa0-1018109d590a",
   "metadata": {},
   "source": [
    "### Direct implementation"
   ]
  },
  {
   "cell_type": "markdown",
   "id": "91b4e282-c58d-4e28-bf45-a63d1b8cc535",
   "metadata": {},
   "source": [
    "Inner product function"
   ]
  },
  {
   "cell_type": "code",
   "execution_count": 16,
   "id": "63f557a8-8885-44e4-8770-388e3c6b9cc4",
   "metadata": {},
   "outputs": [],
   "source": [
    "def inner_product(a, b, freqs, pos_psd, return_complex=False):\n",
    "    \"\"\"\n",
    "    Noise-weighted inner product of two frequency-domain signals.\n",
    "    \n",
    "        (a|b) = 4 Re ∫_{f>0} a(f) b*(f) / S_n(f) df\n",
    "\n",
    "    Args:\n",
    "    a, b : shape (nf,) or (nchannels, nf) --> Complex frequency-domain signals.\n",
    "    freqs : shape (nf,)                   --> Frequency values corresponding to the signal samples.\n",
    "    pos_psd : shape (nf,) or (nchannels, nf) --> One-sided power spectral density S_n(f).\n",
    "    return_complex : bool, default False  --> If True, return the full complex inner product before taking the real part.\n",
    "\n",
    "    Returns:\n",
    "    float, complex, or array --> The inner product (summed over channels). Real scalar by default.\n",
    "    \"\"\"\n",
    "\n",
    "    xp = cp if (cp is not None and any(isinstance(x, cp.ndarray) for x in (a, b, freqs, pos_psd))) else np\n",
    "    \n",
    "    a, b, freqs, pos_psd = (xp.asarray(x) for x in (a, b, freqs, pos_psd))\n",
    "    \n",
    "    if a.ndim == 1: a = a[None, :]\n",
    "    if b.ndim == 1: b = b[None, :]\n",
    "    if a.shape != b.shape: raise ValueError(\"a and b must match\")\n",
    "\n",
    "    nch, nf = a.shape\n",
    "\n",
    "    pos_psd = pos_psd if pos_psd.ndim==2 else pos_psd[None, :]\n",
    "\n",
    "    start = 1 if xp.isnan(pos_psd[...,0]).any() else 0\n",
    "    \n",
    "    integrand = a[:, start:] * b[:, start:].conj() / pos_psd[:, start:]\n",
    "    val = 4.0 * xp.trapezoid(integrand, x=freqs[start:], axis=1).sum()\n",
    "    \n",
    "    if not return_complex: val = xp.real(val)\n",
    "        \n",
    "    return val.item() if xp is np else val"
   ]
  },
  {
   "cell_type": "markdown",
   "id": "820390b5-617d-4625-b14d-7511d5b7182a",
   "metadata": {},
   "source": [
    "Signal generator function (it contains also the cut)"
   ]
  },
  {
   "cell_type": "code",
   "execution_count": 17,
   "id": "7dd0f5b4-a39a-4394-b9b1-23e79f918b4f",
   "metadata": {},
   "outputs": [],
   "source": [
    "def signal_gen(*emri_waveform_args):\n",
    "    chans = fastlisaresponse(*emri_waveform_args, emri_waveform_kwargs=emri_waveform_kwargs)\n",
    "\n",
    "    nchan, N = np.shape(chans)\n",
    "    freqs = np.fft.rfftfreq(N, d=dt)       \n",
    "    complete_data = np.fft.rfft(chans, axis=-1) * dt \n",
    "\n",
    "    freq_threshold = f_min\n",
    "    mask = freqs > freq_threshold\n",
    "\n",
    "    data_filtered = complete_data[:,mask]\n",
    "    freq_filtered = freqs[mask]\n",
    "\n",
    "    return data_filtered"
   ]
  },
  {
   "cell_type": "markdown",
   "id": "54d4b249-e282-49f8-b431-6f8304303d71",
   "metadata": {},
   "source": [
    "Function for the log likelihood computed following the Whittle likelihood formula presented\n",
    "in O.Burke+(2025).\n",
    "\n",
    "I call this 'direct' implementation because it doesn't use any lisatools function."
   ]
  },
  {
   "cell_type": "code",
   "execution_count": 18,
   "id": "a4f1bf45-dc8f-4ac8-8b9c-cdd11bb6abbe",
   "metadata": {},
   "outputs": [],
   "source": [
    "def log_likelihood(d, *emri_waveform_args, freqs=freq_filtered, pos_psd=pos_psd, **inner_kwargs):\n",
    "    \"\"\"\n",
    "    Compute the Whittle log-likelihood\n",
    "        ln L = -1/2 * (h(theta) - d | h(theta) - d)\n",
    "    where `h` is produced by `signal_gen(*emri_waveform_args)`.\n",
    "\n",
    "    Args:\n",
    "        d: Observed data. Must be compatible with the input format of `inner_product`\n",
    "        *emri_waveform_args: Arguments passed directly to `signal_gen` in order to \n",
    "            generate the waveform model `h(theta)`.\n",
    "        freqs: Frequency array corresponding to the domain of the data and waveform.\n",
    "            Default is `freq_filtered`.\n",
    "        psd: One- or multi-channel Power Spectral Density used for weighting the inner \n",
    "            product. Default is `pos_psd`.\n",
    "        **inner_kwargs: Additional arguments to `inner_product` (e.g. `complex`).\n",
    "\n",
    "    Returns:\n",
    "        float or complex: Value of the Whittle log-likelihood. Returns a real scalar by\n",
    "            default, or complex if `complex=True` is passed in `inner_kwargs`.\n",
    "    \"\"\"\n",
    "    \n",
    "    h = signal_gen(*emri_waveform_args)\n",
    "\n",
    "    r = h - d\n",
    "\n",
    "    chi2 = inner_product(r, r, freqs=freqs, pos_psd=pos_psd, **inner_kwargs)\n",
    "\n",
    "    return -0.5 * chi2"
   ]
  },
  {
   "cell_type": "markdown",
   "id": "9bf0acec-6383-48e3-9007-1dc29b00c573",
   "metadata": {},
   "source": [
    "Function that computes the likelihood between TD domain data (chans) and a signal generated \n",
    "with given parameters (*emri_waveform_args)"
   ]
  },
  {
   "cell_type": "code",
   "execution_count": 19,
   "id": "729e4741-3e53-4bb4-9630-77b2200b1230",
   "metadata": {},
   "outputs": [],
   "source": [
    "def compute_direct_logL(chans, *emri_waveform_args):\n",
    "    nchan, N = np.shape(chans)\n",
    "    freqs = np.fft.rfftfreq(N, d=dt)       \n",
    "    complete_data = np.fft.rfft(chans, axis=-1) * dt \n",
    "    \n",
    "    freq_threshold = f_min\n",
    "    mask = freqs > freq_threshold\n",
    "    \n",
    "    data_filtered = complete_data[:,mask]\n",
    "    freq_filtered = freqs[mask]\n",
    "\n",
    "    return log_likelihood(data_filtered, *emri_waveform_args)"
   ]
  },
  {
   "cell_type": "markdown",
   "id": "3f1a2537-fe64-4cbf-b37a-1ab4a9eb4ace",
   "metadata": {},
   "source": [
    "### Lisatools implementation"
   ]
  },
  {
   "cell_type": "markdown",
   "id": "b3f5240d-e0c7-4c8a-b25d-17fbf0d51e32",
   "metadata": {},
   "source": [
    "Functions to compute the Whittle log likelihood using the lisatools implementation.\n",
    "\n",
    "The likelihood is computed between TD domain data (chans) and a signal generated \n",
    "with given parameters (*emri_waveform_args)"
   ]
  },
  {
   "cell_type": "code",
   "execution_count": 20,
   "id": "c416c54c-3f80-40d1-b3ab-352393d8f189",
   "metadata": {},
   "outputs": [],
   "source": [
    "def signal_gen_lisatools(*emri_waveform_args):\n",
    "    complete_data = DataResidualArray(fastlisaresponse(*emri_waveform_args, emri_waveform_kwargs=emri_waveform_kwargs), dt=dt)\n",
    "\n",
    "    freqs = complete_data.f_arr\n",
    "    mask = freqs > freq_threshold\n",
    "\n",
    "    return DataResidualArray(complete_data[:, mask], f_arr=freqs[mask])\n",
    "\n",
    "\n",
    "def compute_lisatools_logL(chans, *emri_waveform_args):\n",
    "    # Cut the data\n",
    "    complete_data = DataResidualArray(chans, dt=dt)\n",
    "    \n",
    "    freq_threshold = f_min\n",
    "    freqs = complete_data.f_arr\n",
    "    mask = freqs > freq_threshold\n",
    "    \n",
    "    data_filtered = complete_data[:,mask]\n",
    "    freq_filtered = freqs[mask]\n",
    "    \n",
    "    data = DataResidualArray(data_filtered, f_arr=freq_filtered)\n",
    "    \n",
    "    sens_mat = SensitivityMatrix(data.f_arr, [A1TDISens, E1TDISens])\n",
    "\n",
    "    analysis = AnalysisContainer(data, sens_mat, signal_gen=signal_gen_lisatools)\n",
    "\n",
    "    return analysis.calculate_signal_likelihood(*emri_waveform_args, source_only=True)"
   ]
  },
  {
   "cell_type": "markdown",
   "id": "fda7093e-7e6d-499a-8eb2-c55fbd1976f6",
   "metadata": {},
   "source": [
    "### Comparison"
   ]
  },
  {
   "cell_type": "markdown",
   "id": "c7514f6b-63c2-451f-8bbd-cf8e2558e9bd",
   "metadata": {},
   "source": [
    "Compare likelihood implementations: direct vs. lisatools\n",
    "\n",
    "1. Start from dataset `chans`\n",
    "2. Define parameter set; vary primary mass over `M_grid`\n",
    "3. For each mass:\n",
    "     - generate corresponding signal\n",
    "     - compute likelihood between data and signal\n",
    "4. Repeat for both implementations to compare results "
   ]
  },
  {
   "cell_type": "code",
   "execution_count": 21,
   "id": "945bede0-0360-4e09-8649-48343666de2a",
   "metadata": {},
   "outputs": [],
   "source": [
    "M_grid = np.linspace(9e5, 1.1e6, 11)"
   ]
  },
  {
   "cell_type": "code",
   "execution_count": 22,
   "id": "b3c5246b-e47a-4c1e-be59-41e0f48edcc8",
   "metadata": {},
   "outputs": [
    {
     "name": "stderr",
     "output_type": "stream",
     "text": [
      "python(21312) MallocStackLogging: can't turn off malloc stack logging because it was not enabled.\n",
      "M grid: 100%|█████████████████████████████████████████████████████████████████████████████████████| 11/11 [00:06<00:00,  1.76it/s]\n"
     ]
    }
   ],
   "source": [
    "logL = -1 * np.ones(len(M_grid))\n",
    "gaps_logL = -1 * np.ones(len(M_grid))\n",
    "\n",
    "# Generate a waveform\n",
    "start = time.time()\n",
    "chans = fastlisaresponse(\n",
    "    *emri_waveform_args,\n",
    "    emri_waveform_kwargs=emri_waveform_kwargs,\n",
    ")\n",
    "\n",
    "for idx, M in tqdm(enumerate(M_grid), total=len(M_grid), desc='M grid'):\n",
    "    emri_waveform_args_M = [\n",
    "        M,\n",
    "        mu,\n",
    "        a,\n",
    "        p0,\n",
    "        e0,\n",
    "        x0,\n",
    "        dist,\n",
    "        qS,\n",
    "        phiS,\n",
    "        qK,\n",
    "        phiK,\n",
    "        Phi_phi0,\n",
    "        Phi_theta0,\n",
    "        Phi_r0,\n",
    "    ]\n",
    "\n",
    "    \n",
    "    logL[idx] = compute_direct_logL(chans, *emri_waveform_args_M)\n",
    "    gaps_logL[idx] = compute_lisatools_logL(chans_gap, *emri_waveform_args_M)"
   ]
  },
  {
   "cell_type": "code",
   "execution_count": 23,
   "id": "202f2b7a-42e1-4c1c-8a36-6146fc36297f",
   "metadata": {},
   "outputs": [
    {
     "data": {
      "image/png": "[encoded data removed]",
      "text/plain": [
       "<Figure size 640x480 with 1 Axes>"
      ]
     },
     "metadata": {},
     "output_type": "display_data"
    }
   ],
   "source": [
    "plt.plot(M_grid, logL, label='No gaps')\n",
    "plt.plot(M_grid, gaps_logL, label='Gaps')\n",
    "\n",
    "plt.xlabel(r'$M [M_{\\odot}]$')\n",
    "plt.legend()\n",
    "plt.show()"
   ]
  },
  {
   "cell_type": "markdown",
   "id": "8be35f45-bd85-490e-b5c3-5331053efb91",
   "metadata": {},
   "source": [
    "The likelihood goes to zero when M is the same used for generating the dataset, as expected."
   ]
  },
  {
   "cell_type": "markdown",
   "id": "1d2a38c5-5377-41f3-ba0d-1236775fd002",
   "metadata": {},
   "source": [
    "Vary mu"
   ]
  },
  {
   "cell_type": "code",
   "execution_count": 24,
   "id": "ca5dbd61-5319-4a64-b8ce-f8608a4e4d3c",
   "metadata": {},
   "outputs": [
    {
     "name": "stderr",
     "output_type": "stream",
     "text": [
      "M grid: 100%|█████████████████████████████████████████████████████████████████████████████████████| 11/11 [00:07<00:00,  1.46it/s]\n"
     ]
    }
   ],
   "source": [
    "mu_grid = np.linspace(9.9, 10.1, 11)\n",
    "\n",
    "logL = -1 * np.ones(len(M_grid))\n",
    "gaps_logL = -1 * np.ones(len(M_grid))\n",
    "\n",
    "# Generate a waveform\n",
    "start = time.time()\n",
    "chans = fastlisaresponse(\n",
    "    *emri_waveform_args,\n",
    "    emri_waveform_kwargs=emri_waveform_kwargs,\n",
    ")\n",
    "M=1e6\n",
    "for idx, mu in tqdm(enumerate(mu_grid), total=len(mu_grid), desc='M grid'):\n",
    "    emri_waveform_args_M = [\n",
    "        M,\n",
    "        mu,\n",
    "        a,\n",
    "        p0,\n",
    "        e0,\n",
    "        x0,\n",
    "        dist,\n",
    "        qS,\n",
    "        phiS,\n",
    "        qK,\n",
    "        phiK,\n",
    "        Phi_phi0,\n",
    "        Phi_theta0,\n",
    "        Phi_r0,\n",
    "    ]\n",
    "\n",
    "    \n",
    "    logL[idx] = compute_direct_logL(chans, *emri_waveform_args_M)\n",
    "    gaps_logL[idx] = compute_direct_logL(chans_gap, *emri_waveform_args_M)\n"
   ]
  },
  {
   "cell_type": "code",
   "execution_count": 25,
   "id": "31a37b0c-7b9d-4053-ab3a-23516f920606",
   "metadata": {},
   "outputs": [
    {
     "data": {
      "image/png": "[encoded data removed]",
      "text/plain": [
       "<Figure size 640x480 with 1 Axes>"
      ]
     },
     "metadata": {},
     "output_type": "display_data"
    }
   ],
   "source": [
    "plt.plot(mu_grid, logL, label='No gaps')\n",
    "plt.plot(mu_grid, gaps_logL, label='Gaps')\n",
    "\n",
    "plt.xlabel(r'$\\mu [M_{\\odot}]$')\n",
    "plt.legend()\n",
    "plt.show()"
   ]
  },
  {
   "cell_type": "code",
   "execution_count": null,
   "id": "df93383d-20df-4aba-82ab-0e80188bc640",
   "metadata": {},
   "outputs": [],
   "source": []
  }
 ],
 "metadata": {
  "kernelspec": {
   "display_name": "Python (thesis)",
   "language": "python",
   "name": "thesis"
  },
  "language_info": {
   "codemirror_mode": {
    "name": "ipython",
    "version": 3
   },
   "file_extension": ".py",
   "mimetype": "text/x-python",
   "name": "python",
   "nbconvert_exporter": "python",
   "pygments_lexer": "ipython3",
   "version": "3.12.2"
  }
 },
 "nbformat": 4,
 "nbformat_minor": 5
}
