{
 "cells": [
  {
   "cell_type": "markdown",
   "id": "6e407799-f9bd-41d7-8f16-559594b7c0d8",
   "metadata": {},
   "source": [
    "# Whittle likelihood for 1-yr signal WITH GAPS"
   ]
  },
  {
   "cell_type": "code",
   "execution_count": 1,
   "id": "702a1888-f7d7-456d-afc5-5556af9e99e3",
   "metadata": {},
   "outputs": [],
   "source": [
    "import time\n",
    "import numpy as np\n",
    "import matplotlib.pyplot as plt\n",
    "import warnings\n",
    "import multiprocessing\n",
    "import os, datetime\n",
    "from tqdm import tqdm\n",
    "from astropy import units as u\n",
    "\n",
    "from lisatools.diagnostic import *\n",
    "from lisatools.sensitivity import SensitivityMatrix, A1TDISens, E1TDISens, LISASens\n",
    "from lisatools.utils.constants import *\n",
    "from lisatools.detector import EqualArmlengthOrbits\n",
    "from lisatools.datacontainer import DataResidualArray \n",
    "from lisatools.analysiscontainer import AnalysisContainer\n",
    "\n",
    "from few.waveform import GenerateEMRIWaveform\n",
    "from few.utils.constants import *\n",
    "from few.trajectory.inspiral import EMRIInspiral\n",
    "\n",
    "from fastlisaresponse import pyResponseTDI, ResponseWrapper\n",
    "\n",
    "try:\n",
    "    import cupy as cp\n",
    "except Exception:\n",
    "    cp = None"
   ]
  },
  {
   "cell_type": "code",
   "execution_count": 2,
   "id": "5fc76363-94e1-4f5a-9332-31c6db268bd4",
   "metadata": {},
   "outputs": [],
   "source": [
    "# gpu\n",
    "use_gpu = False"
   ]
  },
  {
   "cell_type": "markdown",
   "id": "268f62df-1e16-4f4f-85fb-0a76eacb1d27",
   "metadata": {},
   "source": [
    "Define FEW parameters"
   ]
  },
  {
   "cell_type": "code",
   "execution_count": 3,
   "id": "3543994a-afcb-497e-8d28-a4f8be24f804",
   "metadata": {},
   "outputs": [],
   "source": [
    "# metric\n",
    "metric = \"FastKerrEccentricEquatorialFlux\"   # Kerr\n",
    "traj = \"KerrEccEqFlux\""
   ]
  },
  {
   "cell_type": "code",
   "execution_count": 4,
   "id": "cfb55870-885a-4e74-a3ce-51dcd41655d9",
   "metadata": {},
   "outputs": [],
   "source": [
    "# Observation parameters\n",
    "Tobs = 1  # [years]\n",
    "dt = 50.0  # [s]\n",
    "eps = 1e-5  # mode content\n",
    "\n",
    "emri_waveform_kwargs = dict(T=Tobs, dt=dt, eps=eps)"
   ]
  },
  {
   "cell_type": "code",
   "execution_count": 5,
   "id": "31af6830-19d6-4c28-a4ad-7e75ba558c1b",
   "metadata": {},
   "outputs": [],
   "source": [
    "# Waveform parameters\n",
    "M = 1e6  # central object mass\n",
    "mu = 10  # secondary object mass\n",
    "a = 0.5  # spin (will be ignored in Schwarzschild waveform)\n",
    "p0 = 8.2  # initial semi-latus rectum\n",
    "e0 = 0.5  # eccentricity\n",
    "x0 = 1.0  # cosine of inclination \n",
    "dist = 1.0  # distance\n",
    "\n",
    "qK = np.pi / 6  # polar spin angle (theta)\n",
    "phiK = np.pi / 3  # azimuthal viewing angle\n",
    "qS = np.pi / 6  # polar sky angle\n",
    "phiS = np.pi / 3  # azimuthal viewing angle\n",
    "\n",
    "Phi_phi0 = np.pi / 3\n",
    "Phi_theta0 = np.pi / 6\n",
    "Phi_r0 = np.pi / 3\n",
    "\n",
    "\n",
    "\n",
    "emri_waveform_args = [\n",
    "    M,\n",
    "    mu,\n",
    "    a,\n",
    "    p0,\n",
    "    e0,\n",
    "    x0,\n",
    "    dist,\n",
    "    qS,\n",
    "    phiS,\n",
    "    qK,\n",
    "    phiK,\n",
    "    Phi_phi0,\n",
    "    Phi_theta0,\n",
    "    Phi_r0,\n",
    "]"
   ]
  },
  {
   "cell_type": "markdown",
   "id": "3423e3c0-e5e8-4693-b141-a3acdf0e7be2",
   "metadata": {},
   "source": [
    "Define detector response parameters"
   ]
  },
  {
   "cell_type": "code",
   "execution_count": 6,
   "id": "d4f74014-a846-4036-ba13-b48b96683a96",
   "metadata": {},
   "outputs": [],
   "source": [
    "# TDI\n",
    "\n",
    "tdi_chan=\"AE\"\n",
    "tdi_labels=[\"A\", \"E\"]\n",
    "\n",
    "#tdi_chan=\"AET\"\n",
    "#tdi_labels=[\"A\", \"E\", \"T\"]\n",
    "\n",
    "order = 25 # order of the langrangian interpolation (for strain and orbits?)\n",
    "\n",
    "tdi_gen=\"1st generation\"\n",
    "#tdi_gen=\"2nd generation\"\n",
    "\n",
    "\n",
    "response_kwargs = dict(\n",
    "        Tobs=Tobs,\n",
    "        dt=dt,\n",
    "        t0 = 100000.0,  # time at which signal starts (chops off data at start and end of waveform)\n",
    "        order = order, # order of the langrangian interpolation (for strain and orbits?)\n",
    "        index_beta = 7,   # Sky location parameters: theta --> qS\n",
    "        index_lambda = 8, #                          phi --> phiS\n",
    "        tdi=tdi_gen, \n",
    "        tdi_chan=tdi_chan,\n",
    "        orbits=EqualArmlengthOrbits(),\n",
    "    )"
   ]
  },
  {
   "cell_type": "markdown",
   "id": "1f1dc77c-7e24-4e8d-bd8b-3f6eb0d8e24b",
   "metadata": {},
   "source": [
    "Generate TD data with detector response --> chans"
   ]
  },
  {
   "cell_type": "code",
   "execution_count": 7,
   "id": "9d0e2b4c-809e-4688-a1ba-e4f5976ceabc",
   "metadata": {},
   "outputs": [],
   "source": [
    "# Initialise generator\n",
    "td_gen = GenerateEMRIWaveform(\n",
    "        metric,\n",
    "        sum_kwargs=dict(pad_output=True, odd_len=True),\n",
    "        return_list=False,\n",
    "        use_gpu=use_gpu,\n",
    "    )\n",
    "\n",
    "\n",
    "\n",
    "lisa_response = ResponseWrapper(waveform_gen=td_gen,\n",
    "                                flip_hx=True,\n",
    "                                use_gpu=use_gpu,\n",
    "                                remove_sky_coords=False,\n",
    "                                is_ecliptic_latitude=False,\n",
    "                                remove_garbage=False,\n",
    "                                **response_kwargs)\n",
    "\n",
    "\n",
    "\n",
    "\n",
    "def fastlisaresponse(*params, emri_waveform_kwargs=None):\n",
    "    return lisa_response(*params, **(emri_waveform_kwargs or {}))"
   ]
  },
  {
   "cell_type": "code",
   "execution_count": 8,
   "id": "b049fda8-28a1-4f89-83d2-d10d466ccfcb",
   "metadata": {},
   "outputs": [
    {
     "name": "stdout",
     "output_type": "stream",
     "text": [
      "Waveform generation took 11.63 s\n"
     ]
    }
   ],
   "source": [
    "# Generate a waveform\n",
    "start = time.time()\n",
    "chans = fastlisaresponse(\n",
    "    *emri_waveform_args,\n",
    "    emri_waveform_kwargs=emri_waveform_kwargs,\n",
    ")\n",
    "print(f\"Waveform generation took {time.time()-start:.2f} s\")"
   ]
  },
  {
   "cell_type": "code",
   "execution_count": 9,
   "id": "ceebd1cc-3570-408a-b5b5-18c3d62edc67",
   "metadata": {},
   "outputs": [
    {
     "data": {
      "image/png": "[encoded data removed]",
      "text/plain": [
       "<Figure size 800x300 with 1 Axes>"
      ]
     },
     "metadata": {},
     "output_type": "display_data"
    }
   ],
   "source": [
    "# Visualise the signal\n",
    "time_array = np.arange(0,len(chans[0]))*dt\n",
    "\n",
    "plt.figure(figsize=(8,3))\n",
    "plt.plot(time_array, chans[0], label='TD waveform')\n",
    "plt.ylabel(r'$h_{+}(t)$')\n",
    "plt.xlabel(r'$t$ [s]')\n",
    "#plt.xlim(2.3e7,2.7e7)\n",
    "plt.legend()\n",
    "plt.tight_layout()\n",
    "\n",
    "plt.show()"
   ]
  },
  {
   "cell_type": "markdown",
   "id": "cf985710-2e77-42cf-8264-9b1216ba8074",
   "metadata": {},
   "source": [
    "## Generate realistic gaps"
   ]
  },
  {
   "cell_type": "code",
   "execution_count": 10,
   "id": "8176aaec-c6d8-4ed3-94ae-bf05b37b948e",
   "metadata": {},
   "outputs": [],
   "source": [
    "# conversions\n",
    "day  = u.day        # Quantity unit (1 day)\n",
    "hour = u.hour       # Quantity unit (1 hour)\n",
    "year = 365.25 * u.day   # Julian year as a Quantity\n",
    "\n",
    "years_to_s = (year).to(u.s).value\n",
    "days_to_s = (day).to(u.s)\n",
    "hours_to_s = (hour).to(u.s)"
   ]
  },
  {
   "cell_type": "code",
   "execution_count": 11,
   "id": "7c41dd3e-0b12-40d4-98e3-2273198ac833",
   "metadata": {},
   "outputs": [],
   "source": [
    "def gen_periodic_gaps(chans, dt, w_total, gap_s, period_s, seed=None):\n",
    "\n",
    "    rng = np.random.default_rng(seed)\n",
    "\n",
    "    N_tot = len(chans[0])\n",
    "\n",
    "    # conversion of gaps and their period to samples\n",
    "    gap_samples = int(np.round(gap_s / dt))\n",
    "    period_samples = int(np.round(period_s / dt))\n",
    "\n",
    "    # random start within one period\n",
    "    start_idx = int(rng.integers(1, period_samples))\n",
    "    \n",
    "    # create mask\n",
    "    w_local = np.ones(N_tot, dtype=int)\n",
    "    starts = np.arange(start_idx, N_tot, period_samples)\n",
    "    for s in starts:\n",
    "        e = min(s + gap_samples, N_tot)  # within the end of the signal\n",
    "        w_local[s:e] = 0\n",
    "\n",
    "    # apply mask\n",
    "    chans_gap = chans.copy() * w_local\n",
    "    w_final = w_total.copy() * w_local\n",
    "\n",
    "    return chans_gap, w_final, starts"
   ]
  },
  {
   "cell_type": "code",
   "execution_count": 12,
   "id": "5fe7e7b1-3f19-48df-9a91-0a252d93369f",
   "metadata": {},
   "outputs": [],
   "source": [
    "def gen_planned_gaps(chans, dt, seed=None):\n",
    "    N_tot = len(chans[0])\n",
    "    w_total = np.ones(N_tot, dtype=int)\n",
    "    \n",
    "    # Antenna re-pointing    \n",
    "    gap_ant = 3 * hours_to_s\n",
    "    period_ant = 14 * days_to_s\n",
    "\n",
    "    chans_gap_ant, w_final_ant, starts_ant = gen_periodic_gaps(chans, dt, w_total, gap_ant, period_ant, seed=seed)\n",
    "\n",
    "    \n",
    "    # Tilt-to-length coupling constant estimation\n",
    "    gap_ttl = 2 * days_to_s\n",
    "    period_ttl = 0.25 * years_to_s # 4 times a year\n",
    "\n",
    "    chans_gap_ttl, w_final_ttl, starts_ttl = gen_periodic_gaps(chans_gap_ant, dt, w_final_ant, gap_ttl, period_ttl, seed=seed)\n",
    "    \n",
    "\n",
    "    # point-ahead angle mechanism (PAAM) adjustments\n",
    "    gap_PAAM = 100\n",
    "    period_PAAM = (1/3) * days_to_s\n",
    "\n",
    "    chans_gap_PAAM, w_final_PAAM, starts_PAAM = gen_periodic_gaps(chans_gap_ttl, dt, w_final_ttl, gap_PAAM, period_PAAM, seed=seed)\n",
    "\n",
    "\n",
    "    return chans_gap_PAAM, w_final_PAAM, starts_ant, starts_ttl, starts_PAAM\n",
    "    "
   ]
  },
  {
   "cell_type": "code",
   "execution_count": 13,
   "id": "d15457c5-6784-4c52-8921-2ddc1a4f04f5",
   "metadata": {},
   "outputs": [],
   "source": [
    "chans_gap, w_final, starts_ant, starts_ttl, starts_PAAM = gen_planned_gaps(chans, dt, seed=13)"
   ]
  },
  {
   "cell_type": "code",
   "execution_count": 14,
   "id": "4d4b04be-b8b6-4dd7-bbad-bb00a4213a8a",
   "metadata": {},
   "outputs": [
    {
     "data": {
      "image/png": "[encoded data removed]",
      "text/plain": [
       "<Figure size 800x300 with 1 Axes>"
      ]
     },
     "metadata": {},
     "output_type": "display_data"
    }
   ],
   "source": [
    "time_array = np.arange(0,len(chans_gap[0]))*dt\n",
    "\n",
    "plt.figure(figsize=(8,3))\n",
    "\n",
    "for n,i in enumerate(starts_PAAM):\n",
    "    plt.axvline(starts_PAAM[n]*dt, color='C1', alpha=0.5, linewidth=0.5)\n",
    "    \n",
    "plt.plot(time_array, chans_gap[0], label='TD waveform')\n",
    "\n",
    "plt.axvline(starts_PAAM[0]*dt, color='C1', label='gaps - PAAM', alpha=0.5, linewidth=0.5)\n",
    "\n",
    "plt.axvline(starts_ant[0]*dt, color='g', label='gaps - antenna', alpha=1, linewidth=0.8)\n",
    "for n,i in enumerate(starts_ant):\n",
    "    plt.axvline(starts_ant[n]*dt, color='g', alpha=1, linewidth=0.8)\n",
    "\n",
    "plt.axvline(starts_ttl[0]*dt, color='r', label='gaps - tilt', alpha=1, linewidth=0.8)\n",
    "for n,i in enumerate(starts_ttl):\n",
    "    plt.axvline(starts_ttl[n]*dt, color='r', alpha=1, linewidth=0.8)\n",
    "    \n",
    "plt.ylabel(r'$h_{+}(t)$')\n",
    "plt.xlabel(r'$t$ [s]')\n",
    "#plt.xlim(2.3e7,2.7e7)\n",
    "plt.legend()\n",
    "plt.tight_layout()\n",
    "\n",
    "plt.show()"
   ]
  },
  {
   "cell_type": "code",
   "execution_count": null,
   "id": "ce27cbce-2413-43d0-998d-6c0bd6b6c129",
   "metadata": {},
   "outputs": [],
   "source": []
  }
 ],
 "metadata": {
  "kernelspec": {
   "display_name": "Python (thesis)",
   "language": "python",
   "name": "thesis"
  },
  "language_info": {
   "codemirror_mode": {
    "name": "ipython",
    "version": 3
   },
   "file_extension": ".py",
   "mimetype": "text/x-python",
   "name": "python",
   "nbconvert_exporter": "python",
   "pygments_lexer": "ipython3",
   "version": "3.12.2"
  }
 },
 "nbformat": 4,
 "nbformat_minor": 5
}
