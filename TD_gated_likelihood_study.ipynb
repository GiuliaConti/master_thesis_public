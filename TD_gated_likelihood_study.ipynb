{
 "cells": [
  {
   "cell_type": "markdown",
   "id": "6e407799-f9bd-41d7-8f16-559594b7c0d8",
   "metadata": {},
   "source": [
    "# Compute TD gated likelihood"
   ]
  },
  {
   "cell_type": "code",
   "execution_count": 1,
   "id": "702a1888-f7d7-456d-afc5-5556af9e99e3",
   "metadata": {},
   "outputs": [],
   "source": [
    "import time\n",
    "import numpy as np\n",
    "import matplotlib.pyplot as plt\n",
    "import warnings\n",
    "import multiprocessing\n",
    "import os, datetime\n",
    "from tqdm import tqdm\n",
    "from numpy.fft import rfft, irfft\n",
    "from scipy.linalg import circulant, toeplitz\n",
    "\n",
    "from lisatools.diagnostic import *\n",
    "from lisatools.sensitivity import SensitivityMatrix, A1TDISens, E1TDISens, LISASens\n",
    "from lisatools.utils.constants import *\n",
    "from lisatools.detector import ESAOrbits, EqualArmlengthOrbits\n",
    "from lisatools.datacontainer import DataResidualArray \n",
    "from lisatools.analysiscontainer import AnalysisContainer\n",
    "\n",
    "from few.waveform import GenerateEMRIWaveform\n",
    "from few.utils.constants import *\n",
    "from few.trajectory.inspiral import EMRIInspiral\n",
    "from few.utils.utility import get_p_at_t\n",
    "from few.utils.fdutils import *\n",
    "traj_module = EMRIInspiral(func=\"KerrEccEqFlux\")\n",
    "\n",
    "from eryn.ensemble import EnsembleSampler\n",
    "from eryn.prior import ProbDistContainer, uniform_dist\n",
    "from eryn.state import State\n",
    "from scipy.signal.windows import tukey, hann, boxcar, nuttall, blackman\n",
    "from eryn.backends import HDFBackend\n",
    "\n",
    "from fastlisaresponse import pyResponseTDI, ResponseWrapper\n",
    "\n",
    "try:\n",
    "    import cupy as cp\n",
    "except Exception:\n",
    "    cp = None"
   ]
  },
  {
   "cell_type": "code",
   "execution_count": 2,
   "id": "5fc76363-94e1-4f5a-9332-31c6db268bd4",
   "metadata": {},
   "outputs": [],
   "source": [
    "# gpu\n",
    "use_gpu = False"
   ]
  },
  {
   "cell_type": "code",
   "execution_count": 3,
   "id": "3543994a-afcb-497e-8d28-a4f8be24f804",
   "metadata": {},
   "outputs": [],
   "source": [
    "# metric\n",
    "metric = \"FastKerrEccentricEquatorialFlux\"   # Kerr\n",
    "traj = \"KerrEccEqFlux\""
   ]
  },
  {
   "cell_type": "code",
   "execution_count": 4,
   "id": "cfb55870-885a-4e74-a3ce-51dcd41655d9",
   "metadata": {},
   "outputs": [],
   "source": [
    "# Observation parameters\n",
    "#Tobs = 1  # [years]\n",
    "#dt = 50.0  # [s]\n",
    "\n",
    "Tobs = 0.006 # almost 2 days [yrs]\n",
    "dt = 10.0  # [s]\n",
    "eps = 1e-5  # mode content\n",
    "\n",
    "emri_waveform_kwargs = dict(T=Tobs, dt=dt, eps=eps)"
   ]
  },
  {
   "cell_type": "code",
   "execution_count": 5,
   "id": "31af6830-19d6-4c28-a4ad-7e75ba558c1b",
   "metadata": {},
   "outputs": [],
   "source": [
    "# Waveform parameters\n",
    "M = 1e6  # central object mass\n",
    "mu = 10  # secondary object mass\n",
    "a = 0.5  # spin (will be ignored in Schwarzschild waveform)\n",
    "#p0 = 8.2  # initial semi-latus rectum\n",
    "p0 = 5.2  # initial semi-latus rectum\n",
    "e0 = 0.5  # eccentricity\n",
    "x0 = 1.0  # cosine of inclination \n",
    "dist = 1.0  # distance\n",
    "\n",
    "qK = np.pi / 6  # polar spin angle (theta)\n",
    "phiK = np.pi / 3  # azimuthal viewing angle\n",
    "qS = np.pi / 6  # polar sky angle\n",
    "phiS = np.pi / 3  # azimuthal viewing angle\n",
    "\n",
    "Phi_phi0 = np.pi / 3\n",
    "Phi_theta0 = np.pi / 6\n",
    "Phi_r0 = np.pi / 3\n",
    "\n",
    "\n",
    "\n",
    "emri_waveform_args = [\n",
    "    M,\n",
    "    mu,\n",
    "    a,\n",
    "    p0,\n",
    "    e0,\n",
    "    x0,\n",
    "    dist,\n",
    "    qS,\n",
    "    phiS,\n",
    "    qK,\n",
    "    phiK,\n",
    "    Phi_phi0,\n",
    "    Phi_theta0,\n",
    "    Phi_r0,\n",
    "]"
   ]
  },
  {
   "cell_type": "code",
   "execution_count": 6,
   "id": "d4f74014-a846-4036-ba13-b48b96683a96",
   "metadata": {},
   "outputs": [],
   "source": [
    "# TDI\n",
    "\n",
    "tdi_chan=\"AE\"\n",
    "tdi_labels=[\"A\", \"E\"]\n",
    "\n",
    "#tdi_chan=\"AET\"\n",
    "#tdi_labels=[\"A\", \"E\", \"T\"]\n",
    "\n",
    "order = 25 # order of the langrangian interpolation (for strain and orbits?)\n",
    "\n",
    "tdi_gen=\"1st generation\"\n",
    "#tdi_gen=\"2nd generation\"\n",
    "\n",
    "\n",
    "response_kwargs = dict(\n",
    "        Tobs=Tobs,\n",
    "        dt=dt,\n",
    "        #t0 = 10000.0,  # time at which signal starts (chops off data at start and end of waveform)\n",
    "        order = order, # order of the langrangian interpolation (for strain and orbits?)\n",
    "        index_beta = 7,   # Sky location parameters: theta --> qS\n",
    "        index_lambda = 8, #                          phi --> phiS\n",
    "        tdi=tdi_gen, \n",
    "        tdi_chan=tdi_chan,\n",
    "        orbits=EqualArmlengthOrbits(),\n",
    "    )"
   ]
  },
  {
   "cell_type": "markdown",
   "id": "cfd31245-3dcc-42b1-b950-8f820050e038",
   "metadata": {},
   "source": [
    "Generate TD data with detector response"
   ]
  },
  {
   "cell_type": "code",
   "execution_count": 7,
   "id": "9d0e2b4c-809e-4688-a1ba-e4f5976ceabc",
   "metadata": {},
   "outputs": [],
   "source": [
    "# Initialise generator\n",
    "td_gen = GenerateEMRIWaveform(\n",
    "        metric,\n",
    "        sum_kwargs=dict(pad_output=True, odd_len=True),\n",
    "        return_list=False,\n",
    "        use_gpu=use_gpu,\n",
    "    )\n",
    "\n",
    "\n",
    "\n",
    "lisa_response = ResponseWrapper(waveform_gen=td_gen,\n",
    "                                flip_hx=True,\n",
    "                                use_gpu=use_gpu,\n",
    "                                remove_sky_coords=False,\n",
    "                                is_ecliptic_latitude=False,\n",
    "                                remove_garbage=False,\n",
    "                                **response_kwargs)\n",
    "\n",
    "\n",
    "\n",
    "\n",
    "def fastlisaresponse(*params, emri_waveform_kwargs=None):\n",
    "    return lisa_response(*params, **(emri_waveform_kwargs or {}))"
   ]
  },
  {
   "cell_type": "markdown",
   "id": "e5ad6bae-418b-4887-96a5-b875ebb9a4c8",
   "metadata": {},
   "source": [
    "#### Generate TD waveform"
   ]
  },
  {
   "cell_type": "code",
   "execution_count": 8,
   "id": "b049fda8-28a1-4f89-83d2-d10d466ccfcb",
   "metadata": {},
   "outputs": [
    {
     "name": "stdout",
     "output_type": "stream",
     "text": [
      "Waveform generation took 10.94 s\n"
     ]
    }
   ],
   "source": [
    "# Generate a waveform\n",
    "start = time.time()\n",
    "chans = fastlisaresponse(\n",
    "    *emri_waveform_args,\n",
    "    emri_waveform_kwargs=emri_waveform_kwargs,\n",
    ")\n",
    "print(f\"Waveform generation took {time.time()-start:.2f} s\")"
   ]
  },
  {
   "cell_type": "code",
   "execution_count": 9,
   "id": "d1984e44-d342-4f5d-b111-3733c9b5d6c2",
   "metadata": {},
   "outputs": [
    {
     "data": {
      "image/png": "[encoded data removed]",
      "text/plain": [
       "<Figure size 800x300 with 1 Axes>"
      ]
     },
     "metadata": {},
     "output_type": "display_data"
    }
   ],
   "source": [
    "# Visualise the signal\n",
    "time_array = np.arange(0,len(chans[0]))*dt\n",
    "\n",
    "plt.figure(figsize=(8,3))\n",
    "plt.plot(time_array, chans[0], label='TD waveform')\n",
    "plt.ylabel(r'$h_{A}(t)$')\n",
    "plt.xlabel(r'$t$ [s]')\n",
    "#plt.xlim(1.7e5,1.9e5)\n",
    "plt.legend()\n",
    "plt.tight_layout()\n",
    "\n",
    "plt.show()"
   ]
  },
  {
   "cell_type": "markdown",
   "id": "0acbdcf6-a257-4ebb-858a-e4eee391b6ab",
   "metadata": {},
   "source": [
    "#### Define w and W (gated function)"
   ]
  },
  {
   "cell_type": "markdown",
   "id": "52612dc2-13e6-4229-906f-4b9d97043e20",
   "metadata": {},
   "source": [
    "Choose positions of gaps: at 20%, 40%... of signal"
   ]
  },
  {
   "cell_type": "code",
   "execution_count": 10,
   "id": "38e7ec11-bebf-445e-8c43-75135ea8b3a4",
   "metadata": {},
   "outputs": [],
   "source": [
    "N_d = 2*int(60*60/dt)   # Length gap: 2 hrs\n",
    "#N_d = 2*int(60*60*24/dt)  # Length gap: 2 day\n",
    "\n",
    "N_tot = len(chans[0])   # Tot lenght of signal\n",
    "\n",
    "u = np.array([0.20, 0.40, 0.60, 0.80])  # position of gaps (after 20%, 40%... of signal)\n",
    "# u = np.array([0.20, 0.45, 0.70, 0.95]) \n",
    "\n",
    "idx = np.floor(u * (N_tot - N_d) - 1).astype(int) # obtain the indeces of such positions"
   ]
  },
  {
   "cell_type": "markdown",
   "id": "2c2d1179-93bc-4002-8332-6da8dde8187c",
   "metadata": {},
   "source": [
    "Create w: 0 where gaps, 1 where data"
   ]
  },
  {
   "cell_type": "code",
   "execution_count": 11,
   "id": "6ee432f5-447f-4acf-8edd-3592a5667c33",
   "metadata": {},
   "outputs": [],
   "source": [
    "w = np.ones(N_tot, dtype=int)  \n",
    "for i in idx: w[i:i+N_d] = 0     "
   ]
  },
  {
   "cell_type": "markdown",
   "id": "40223ad8-cbbb-4a0a-8de3-e098c958992b",
   "metadata": {},
   "source": [
    "Dataset with gaps obtained by multiplying the waveform by w (which sets the gap portions to zero)"
   ]
  },
  {
   "cell_type": "code",
   "execution_count": 12,
   "id": "9b5b9e84-f96d-4380-ba8e-f6e3950ab792",
   "metadata": {},
   "outputs": [],
   "source": [
    "chans_gap = chans * w"
   ]
  },
  {
   "cell_type": "markdown",
   "id": "ed61a687-0b45-42fd-bfc6-a174b020a27a",
   "metadata": {},
   "source": [
    "W diagonal matrix obtained by putting to zero the entries that correspond to gaps (= w as its diagonal)"
   ]
  },
  {
   "cell_type": "code",
   "execution_count": 13,
   "id": "b43063d1-da84-42ef-8878-b906540c4663",
   "metadata": {},
   "outputs": [],
   "source": [
    "W = np.diag(w)"
   ]
  },
  {
   "cell_type": "markdown",
   "id": "a5502da6-7f14-41de-9362-e2d341420b7e",
   "metadata": {},
   "source": [
    "Visualise signal with gaps"
   ]
  },
  {
   "cell_type": "code",
   "execution_count": 14,
   "id": "35fb482c-3a30-4d8c-ace8-6ec837c552aa",
   "metadata": {},
   "outputs": [
    {
     "data": {
      "image/png": "[encoded data removed]",
      "text/plain": [
       "<Figure size 800x300 with 1 Axes>"
      ]
     },
     "metadata": {},
     "output_type": "display_data"
    }
   ],
   "source": [
    "time_array = np.arange(0,len(chans_gap[0]))*dt\n",
    "\n",
    "plt.figure(figsize=(8,3))\n",
    "plt.plot(time_array, chans_gap[0], label='TD waveform')\n",
    "plt.axvline(idx[0]*dt, color='r', label='gap')\n",
    "plt.axvline(idx[1]*dt, color='r')\n",
    "plt.axvline(idx[2]*dt, color='r')\n",
    "plt.axvline(idx[3]*dt, color='r')\n",
    "plt.ylabel(r'$h_{+}(t)$')\n",
    "plt.xlabel(r'$t$ [s]')\n",
    "#plt.xlim(2.3e7,2.7e7)\n",
    "plt.legend()\n",
    "plt.tight_layout()\n",
    "\n",
    "plt.show()"
   ]
  },
  {
   "cell_type": "markdown",
   "id": "7fec7272-6524-4d62-82b4-ee961634b7ed",
   "metadata": {},
   "source": [
    "# TD likelihood "
   ]
  },
  {
   "cell_type": "markdown",
   "id": "c55d5e9a-70d1-402e-938a-5000edf5f492",
   "metadata": {},
   "source": [
    "### Compute gated covariance in TD"
   ]
  },
  {
   "cell_type": "markdown",
   "id": "cf812699-9ba7-4ad2-b521-f65a5efd3280",
   "metadata": {},
   "source": [
    "I'm doing everything for one channel (A). If it works, then I'll add also the second channel in the computation of the likelihood."
   ]
  },
  {
   "cell_type": "markdown",
   "id": "00f4f96b-9351-487d-9c38-e60212bf32b4",
   "metadata": {},
   "source": [
    "First, I compute the gated covariance matrix in TD for a Toeplitz process, as presented in Burke+(2025) paper."
   ]
  },
  {
   "cell_type": "code",
   "execution_count": 15,
   "id": "7d19f312-5322-4c94-a250-6f7faea10133",
   "metadata": {},
   "outputs": [],
   "source": [
    "def build_toeplitz_gated_sigma(psd_positive, w):\n",
    "    \"\"\"\n",
    "    Builds the toeplitz matrix from PSD sampled at positive frequencies only.\n",
    "    \n",
    "    Args:\n",
    "        psd_positive: PSD samples at positive frequencies (length N+1 from rfftfreq(2*N))\n",
    "        w: gating mask (length N)\n",
    "    \n",
    "    Returns:\n",
    "        C: Gated Toeplitz covariance matrix\n",
    "    \"\"\"\n",
    "    N = len(w)\n",
    "    \n",
    "    # autocovariance\n",
    "    acov_full = np.fft.irfft(psd_positive, n=2*N)\n",
    "    \n",
    "    # Take first N values\n",
    "    acov = acov_full[:N]\n",
    "    \n",
    "    # Build Toeplitz\n",
    "    C = toeplitz(acov)\n",
    "    \n",
    "    # Apply gating\n",
    "    if w is not None:\n",
    "        if w.shape[0] != N: raise ValueError(\"w must have length N\")\n",
    "        mask = (w == 0)\n",
    "        C[mask, :] = 0\n",
    "        C[:, mask] = 0\n",
    "    \n",
    "    return C"
   ]
  },
  {
   "cell_type": "code",
   "execution_count": 16,
   "id": "d04fcff5-e398-40fb-91d5-0703f1428cca",
   "metadata": {},
   "outputs": [
    {
     "name": "stderr",
     "output_type": "stream",
     "text": [
      "/opt/anaconda3/envs/thesis/lib/python3.12/site-packages/lisatools/detector.py:633: RuntimeWarning: divide by zero encountered in divide\n",
      "  Sa_a = Sa_a_in * (1.0 + (0.4e-3 / frq) ** 2) * (1.0 + (frq / 8e-3) ** 4)\n",
      "/opt/anaconda3/envs/thesis/lib/python3.12/site-packages/lisatools/detector.py:635: RuntimeWarning: divide by zero encountered in power\n",
      "  Sa_d = Sa_a * (2.0 * np.pi * frq) ** (-4.0)\n",
      "/opt/anaconda3/envs/thesis/lib/python3.12/site-packages/lisatools/detector.py:637: RuntimeWarning: invalid value encountered in multiply\n",
      "  Sa_nu = Sa_d * (2.0 * np.pi * frq / C_SI) ** 2\n",
      "/opt/anaconda3/envs/thesis/lib/python3.12/site-packages/lisatools/detector.py:642: RuntimeWarning: divide by zero encountered in divide\n",
      "  Soms_d = Soms_d_in * (1.0 + (2.0e-3 / f) ** 4)\n",
      "/opt/anaconda3/envs/thesis/lib/python3.12/site-packages/lisatools/detector.py:644: RuntimeWarning: invalid value encountered in multiply\n",
      "  Soms_nu = Soms_d * (2.0 * np.pi * frq / C_SI) ** 2\n"
     ]
    }
   ],
   "source": [
    "# Sample the psd\n",
    "N = len(chans[0])\n",
    "freqs_2N_pos = np.fft.rfftfreq(2*N+1, d=dt)\n",
    "Sn_2N = get_sensitivity(freqs_2N_pos, sens_fn=\"A1TDISens\")\n",
    "\n",
    "Sigma = build_toeplitz_gated_sigma(Sn_2N, w)"
   ]
  },
  {
   "cell_type": "code",
   "execution_count": 17,
   "id": "462d5853-69d7-42ab-a331-ec75fa5bf7a8",
   "metadata": {},
   "outputs": [
    {
     "name": "stdout",
     "output_type": "stream",
     "text": [
      "[[264075.20861941 264075.20861941 264075.20861941 ... 264075.20861941\n",
      "  264075.20861941 264075.20861941]\n",
      " [264075.20861941 264075.20861941 264075.20861941 ... 264075.20861941\n",
      "  264075.20861941 264075.20861941]\n",
      " [264075.20861941 264075.20861941 264075.20861941 ... 264075.20861942\n",
      "  264075.20861941 264075.20861941]\n",
      " ...\n",
      " [264075.20861941 264075.20861941 264075.20861942 ... 264075.20861941\n",
      "  264075.20861941 264075.20861941]\n",
      " [264075.20861941 264075.20861941 264075.20861941 ... 264075.20861941\n",
      "  264075.20861941 264075.20861941]\n",
      " [264075.20861941 264075.20861941 264075.20861941 ... 264075.20861941\n",
      "  264075.20861941 264075.20861941]]\n"
     ]
    }
   ],
   "source": [
    "print(Sigma)"
   ]
  },
  {
   "cell_type": "markdown",
   "id": "cf430c7d-fac2-4fc1-b6f0-de417c607c48",
   "metadata": {},
   "source": [
    "### Invert each bloch"
   ]
  },
  {
   "cell_type": "code",
   "execution_count": 18,
   "id": "ea7336ba-fddd-4aad-8284-8515f849d9dd",
   "metadata": {},
   "outputs": [],
   "source": [
    "def identify_data_segments(w):\n",
    "    # Return a list (start, end) for each segment where w==1\n",
    "    segments = []\n",
    "    in_seg = False\n",
    "    start = None\n",
    "    for i, v in enumerate(w):\n",
    "        if v and not in_seg:\n",
    "            start = i\n",
    "            in_seg = True\n",
    "        elif (not v) and in_seg:\n",
    "            segments.append((start, i))\n",
    "            in_seg = False\n",
    "    if in_seg:\n",
    "        segments.append((start, len(w)))\n",
    "    return segments"
   ]
  },
  {
   "cell_type": "code",
   "execution_count": 19,
   "id": "e1a760af-1fd6-4462-a93c-2773faa611db",
   "metadata": {},
   "outputs": [],
   "source": [
    "def blockwise_pinv_all_blocks(Sigma, w, symmetrize_output=True, verbose=True):\n",
    "    \"\"\"\n",
    "    Compute pseudoinverse of every block of Sigma.\n",
    "    For i<=j compute pinv(A_ij), store it and mirror to (j,i) using transpose, ensuring M is symmetric.\n",
    "    \"\"\"\n",
    "    \n",
    "    N = Sigma.shape[0]\n",
    "    assert Sigma.shape == (N, N), \"Sigma must be square\"\n",
    "    w = np.asarray(w).astype(bool)\n",
    "\n",
    "    segments = identify_data_segments(w)\n",
    "\n",
    "    # Check symmetry on input\n",
    "    if not np.allclose(Sigma, Sigma.T, atol=1e-12, rtol=1e-14):\n",
    "        print(\"Input Sigma not exactly symmetric\")\n",
    "\n",
    "    # Prepare index arrays per segment\n",
    "    idx_list = [np.arange(s, e) for (s, e) in segments]\n",
    "    sizes = [len(idx) for idx in idx_list]\n",
    "    if verbose:\n",
    "        total_pts = sum(sizes)\n",
    "        print(f\"Found {len(segments)} segments, total data points = {total_pts} / {N}\")\n",
    "        print(\"Segment sizes:\", sizes)\n",
    "\n",
    "    M = np.zeros_like(Sigma, dtype=float) # full matrix\n",
    "\n",
    "    # iterate over upper triangle i<=j\n",
    "    for i in range(len(segments)):\n",
    "        idx_i = idx_list[i]\n",
    "        m_i = sizes[i]\n",
    "        for j in range(i, len(segments)):\n",
    "            idx_j = idx_list[j]\n",
    "            m_j = sizes[j]\n",
    "            A_ij = Sigma[np.ix_(idx_i, idx_j)] # extract block A_ij (shape m_i x m_j)\n",
    "            if verbose:\n",
    "                print(f\"Computing pinv for block ({i},{j}) with shape {A_ij.shape} ...\", end=' ')\n",
    "            \n",
    "            # compute pseudoinverse of A_ij\n",
    "            pinv_A_ij = np.linalg.pinv(A_ij)\n",
    "            M[np.ix_(idx_i, idx_j)] = pinv_A_ij.T\n",
    "            M[np.ix_(idx_j, idx_i)] = pinv_A_ij\n",
    "            if verbose:\n",
    "                print(\"done.\")\n",
    "\n",
    "    if verbose:\n",
    "        print(\"Blockwise pseudoinverse computed.\")\n",
    "    return M, blocks, segments"
   ]
  },
  {
   "cell_type": "markdown",
   "id": "fbb1ef5f-2a4d-4407-8204-84fc6833de01",
   "metadata": {},
   "source": [
    "Question: check the pinv_A_ij.T"
   ]
  },
  {
   "cell_type": "code",
   "execution_count": 20,
   "id": "0297709c-4a3b-4ceb-8cee-dfe0080c3b78",
   "metadata": {},
   "outputs": [
    {
     "name": "stdout",
     "output_type": "stream",
     "text": [
      "Loading pseudoinverse from pinv_Sigma_gated.npy\n",
      "Pseudoinverse loaded successfully\n"
     ]
    }
   ],
   "source": [
    "pinv_computation = False\n",
    "\n",
    "pinv_filename = \"pinv_Sigma_gated.npy\"\n",
    "\n",
    "if pinv_computation:\n",
    "    # Compute pseudoinverse\n",
    "    start = time.time()\n",
    "    pinv_Sigma_gated, blocks, segments = blockwise_pinv_all_blocks(Sigma, w, rcond=1e-12, verbose=True)\n",
    "    print(f\"Pseudoinverse computation took {time.time()-start:.2f} s\")\n",
    "    \n",
    "    # Save result\n",
    "    np.save(pinv_filename, pinv_Sigma_gated)\n",
    "    print(f\"Pseudoinverse saved to {pinv_filename}\")\n",
    "else:\n",
    "    # Load pseudoinverse from file\n",
    "    print(f\"Loading pseudoinverse from {pinv_filename}\")\n",
    "    pinv_Sigma_gated = np.load(pinv_filename)\n",
    "    print(f\"Pseudoinverse loaded successfully\")"
   ]
  },
  {
   "cell_type": "markdown",
   "id": "cf22c126-4950-40b8-a9dd-d44db5be91d4",
   "metadata": {},
   "source": [
    "### Compute the likelihood"
   ]
  },
  {
   "cell_type": "markdown",
   "id": "92698143-fb74-4218-9817-77223181d8a5",
   "metadata": {},
   "source": [
    "Signal"
   ]
  },
  {
   "cell_type": "code",
   "execution_count": 21,
   "id": "9984eef8-2017-41f1-a371-ac36fe5b971e",
   "metadata": {},
   "outputs": [],
   "source": [
    "def signal_gen(*emri_waveform_args):\n",
    "    return fastlisaresponse(*emri_waveform_args, emri_waveform_kwargs=emri_waveform_kwargs)"
   ]
  },
  {
   "cell_type": "markdown",
   "id": "aaf77515-9905-4822-be46-f710902e38b3",
   "metadata": {},
   "source": [
    "Residual"
   ]
  },
  {
   "cell_type": "code",
   "execution_count": 22,
   "id": "f61e6c5b-2ee2-4911-aa79-4510c8987eff",
   "metadata": {},
   "outputs": [],
   "source": [
    "def residual_computation(d, W, h):\n",
    "    gated_data = W @ d\n",
    "    return gated_data - h"
   ]
  },
  {
   "cell_type": "markdown",
   "id": "df914a8b-d541-490e-9639-851f4fa36222",
   "metadata": {},
   "source": [
    "Likelihood"
   ]
  },
  {
   "cell_type": "code",
   "execution_count": 23,
   "id": "284b9917-e14e-4486-b850-90fdeafa6c47",
   "metadata": {},
   "outputs": [],
   "source": [
    "def log_likelihood(d, *emri_waveform_args, pinv_Sigma=pinv_Sigma_gated, complex=False):\n",
    "    \"\"\"\n",
    "    Compute the gated log-likelihood presented in Eq.40 of Burke+(2025) paper.\n",
    "    where `h` is produced by `signal_gen(*emri_waveform_args)`.\n",
    "\n",
    "    Args:\n",
    "        d: Observed data. \n",
    "        *emri_waveform_args: Arguments passed directly to `signal_gen` in order to \n",
    "            generate the waveform model `h(theta)`.\n",
    "        pinv_Sigma: pseudoinverse of TD gated covariance matrix.\n",
    "\n",
    "    Returns:\n",
    "        float or complex: Value of the log-likelihood. Returns a real scalar by\n",
    "            default, or complex if `complex=True` is passed in `inner_kwargs`.\n",
    "    \"\"\"\n",
    "    \n",
    "    h = signal_gen(*emri_waveform_args)\n",
    "\n",
    "    r = residual_computation(d[0], W, h[0])\n",
    "\n",
    "    prod = np.vdot(r, pinv_Sigma @ r)\n",
    "\n",
    "    if complex==False:\n",
    "        prod = np.abs(prod)\n",
    "    if complex==True:\n",
    "        prod = np.real(prod)    \n",
    "    return -0.5 * prod"
   ]
  },
  {
   "cell_type": "markdown",
   "id": "f15f00f1-665e-45ff-81e0-9e21bbd4d80b",
   "metadata": {},
   "source": [
    "Quick"
   ]
  },
  {
   "cell_type": "code",
   "execution_count": 24,
   "id": "3a4ecbda-02ae-4884-92af-0e6ae1ae1560",
   "metadata": {},
   "outputs": [
    {
     "data": {
      "text/plain": [
       "np.float64(-0.0)"
      ]
     },
     "execution_count": 24,
     "metadata": {},
     "output_type": "execute_result"
    }
   ],
   "source": [
    "log_likelihood(chans, *emri_waveform_args)"
   ]
  },
  {
   "cell_type": "markdown",
   "id": "8fbc8bc6-0a73-43d7-b5fb-3a8411fd4a11",
   "metadata": {},
   "source": [
    "### Evaluate the likelihood behaviour to check"
   ]
  },
  {
   "cell_type": "code",
   "execution_count": 25,
   "id": "bca40e11-860b-4522-bd4a-8c538294d6e8",
   "metadata": {},
   "outputs": [],
   "source": [
    "M = 1e6  # central object mass\n",
    "mu = 10  # secondary object mass\n",
    "a = 0.5  # spin (will be ignored in Schwarzschild waveform)\n",
    "p0 = 5.2  # initial semi-latus rectum\n",
    "e0 = 0.5  # eccentricity\n",
    "x0 = 1.0  # cosine of inclination \n",
    "dist = 1.0  # distance"
   ]
  },
  {
   "cell_type": "code",
   "execution_count": 26,
   "id": "9480c9e4-5efc-4ca4-9e46-dcd71e9fa7da",
   "metadata": {},
   "outputs": [
    {
     "name": "stderr",
     "output_type": "stream",
     "text": [
      "M grid: 100%|██████████████████████████████████████████████████████████████████████████████████████████████████| 11/11 [00:23<00:00,  2.18s/it]\n"
     ]
    }
   ],
   "source": [
    "M_grid = np.linspace(9e5, 1.1e6, 11)\n",
    "\n",
    "direct_logL = -1 * np.ones(len(M_grid))\n",
    "lisatools_logL = -1 * np.ones(len(M_grid))\n",
    "\n",
    "# Generate a waveform\n",
    "start = time.time()\n",
    "chans = fastlisaresponse(\n",
    "    *emri_waveform_args,\n",
    "    emri_waveform_kwargs=emri_waveform_kwargs,\n",
    ")\n",
    "\n",
    "for idx, M in tqdm(enumerate(M_grid), total=len(M_grid), desc='M grid'):\n",
    "    emri_waveform_args_M = [\n",
    "        M,\n",
    "        mu,\n",
    "        a,\n",
    "        p0,\n",
    "        e0,\n",
    "        x0,\n",
    "        dist,\n",
    "        qS,\n",
    "        phiS,\n",
    "        qK,\n",
    "        phiK,\n",
    "        Phi_phi0,\n",
    "        Phi_theta0,\n",
    "        Phi_r0,\n",
    "    ]\n",
    "\n",
    "    \n",
    "    direct_logL[idx] = log_likelihood(chans, *emri_waveform_args_M)\n"
   ]
  },
  {
   "cell_type": "code",
   "execution_count": 27,
   "id": "8cc53b37-bb02-4b85-bb6b-76bc66485992",
   "metadata": {},
   "outputs": [
    {
     "data": {
      "image/png": "[encoded data removed]",
      "text/plain": [
       "<Figure size 640x480 with 1 Axes>"
      ]
     },
     "metadata": {},
     "output_type": "display_data"
    }
   ],
   "source": [
    "plt.plot(M_grid, direct_logL, color='C1', label='Direct')\n",
    "\n",
    "plt.xlabel(r'$M [M_{\\odot}]$')\n",
    "plt.legend()\n",
    "plt.show()"
   ]
  },
  {
   "cell_type": "code",
   "execution_count": 28,
   "id": "d928984b-4e3e-4efd-9683-4444f509a820",
   "metadata": {},
   "outputs": [
    {
     "name": "stdout",
     "output_type": "stream",
     "text": [
      "Best M: 1.00e+06\n"
     ]
    }
   ],
   "source": [
    "max_idx = np.argmax(direct_logL)\n",
    "M_best = M_grid[max_idx]\n",
    "logL_max = direct_logL[max_idx]\n",
    "\n",
    "print(f\"Best M: {M_best:.2e}\")"
   ]
  },
  {
   "cell_type": "markdown",
   "id": "8ff24201-da80-4468-9ffa-cfbce4ed3ed3",
   "metadata": {},
   "source": [
    "#### Same thing but for mu"
   ]
  },
  {
   "cell_type": "code",
   "execution_count": 29,
   "id": "8d994302-89db-47f5-92a3-7da5f91f7bde",
   "metadata": {},
   "outputs": [],
   "source": [
    "M = 1e6  # central object mass\n",
    "mu = 10  # secondary object mass\n",
    "a = 0.5  # spin (will be ignored in Schwarzschild waveform)\n",
    "p0 = 5.2  # initial semi-latus rectum\n",
    "e0 = 0.5  # eccentricity\n",
    "x0 = 1.0  # cosine of inclination \n",
    "dist = 1.0  # distance"
   ]
  },
  {
   "cell_type": "code",
   "execution_count": 30,
   "id": "f3656f8d-f0c9-4635-b3df-ae57b52c40a5",
   "metadata": {},
   "outputs": [
    {
     "name": "stderr",
     "output_type": "stream",
     "text": [
      "M grid: 100%|██████████████████████████████████████████████████████████████████████████████████████████████████| 11/11 [00:24<00:00,  2.23s/it]\n"
     ]
    }
   ],
   "source": [
    "mu_grid = np.linspace(9.9, 10.1, 11)\n",
    "\n",
    "direct_logL = -1 * np.ones(len(mu_grid))\n",
    "\n",
    "# Generate a waveform\n",
    "start = time.time()\n",
    "chans = fastlisaresponse(\n",
    "    *emri_waveform_args,\n",
    "    emri_waveform_kwargs=emri_waveform_kwargs,\n",
    ")\n",
    "for idx, mu in tqdm(enumerate(mu_grid), total=len(mu_grid), desc='M grid'):\n",
    "    emri_waveform_args_M = [\n",
    "        M,\n",
    "        mu,\n",
    "        a,\n",
    "        p0,\n",
    "        e0,\n",
    "        x0,\n",
    "        dist,\n",
    "        qS,\n",
    "        phiS,\n",
    "        qK,\n",
    "        phiK,\n",
    "        Phi_phi0,\n",
    "        Phi_theta0,\n",
    "        Phi_r0,\n",
    "    ]\n",
    "\n",
    "    \n",
    "    direct_logL[idx] = log_likelihood(chans, *emri_waveform_args_M)\n"
   ]
  },
  {
   "cell_type": "code",
   "execution_count": 31,
   "id": "7c1f8ab5-718c-4b21-a988-873a85bb08a9",
   "metadata": {},
   "outputs": [
    {
     "data": {
      "image/png": "[encoded data removed]",
      "text/plain": [
       "<Figure size 640x480 with 1 Axes>"
      ]
     },
     "metadata": {},
     "output_type": "display_data"
    }
   ],
   "source": [
    "plt.plot(mu_grid, direct_logL, color='C1', label='Direct')\n",
    "\n",
    "plt.xlabel(r'$\\mu [M_{\\odot}]$')\n",
    "plt.legend()\n",
    "plt.show()"
   ]
  },
  {
   "cell_type": "code",
   "execution_count": 32,
   "id": "34e07b63-733e-4739-8fb2-80a086027ac3",
   "metadata": {},
   "outputs": [
    {
     "name": "stdout",
     "output_type": "stream",
     "text": [
      "Best mu: 1.00e+01\n"
     ]
    }
   ],
   "source": [
    "max_idx = np.argmax(direct_logL)\n",
    "mu_best = mu_grid[max_idx]\n",
    "logL_max = direct_logL[max_idx]\n",
    "\n",
    "print(f\"Best mu: {mu_best:.2e}\")"
   ]
  },
  {
   "cell_type": "markdown",
   "id": "2bb8b570-5ad9-4419-8a34-ea0bd6c32f88",
   "metadata": {},
   "source": [
    "The behavior is okay for μ but poor for M. In both cases, though, the likelihood is too small!"
   ]
  },
  {
   "cell_type": "code",
   "execution_count": null,
   "id": "1966d4f8-e53d-4bb5-85d3-5b5095c39de5",
   "metadata": {},
   "outputs": [],
   "source": []
  }
 ],
 "metadata": {
  "kernelspec": {
   "display_name": "Python (thesis)",
   "language": "python",
   "name": "thesis"
  },
  "language_info": {
   "codemirror_mode": {
    "name": "ipython",
    "version": 3
   },
   "file_extension": ".py",
   "mimetype": "text/x-python",
   "name": "python",
   "nbconvert_exporter": "python",
   "pygments_lexer": "ipython3",
   "version": "3.12.2"
  }
 },
 "nbformat": 4,
 "nbformat_minor": 5
}
