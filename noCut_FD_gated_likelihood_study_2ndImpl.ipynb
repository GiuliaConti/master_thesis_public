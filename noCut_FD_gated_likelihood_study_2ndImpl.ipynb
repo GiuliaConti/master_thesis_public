{
 "cells": [
  {
   "cell_type": "markdown",
   "id": "6e407799-f9bd-41d7-8f16-559594b7c0d8",
   "metadata": {},
   "source": [
    "# Derive and use gated likelihood"
   ]
  },
  {
   "cell_type": "code",
   "execution_count": 1,
   "id": "702a1888-f7d7-456d-afc5-5556af9e99e3",
   "metadata": {},
   "outputs": [],
   "source": [
    "import time\n",
    "import numpy as np\n",
    "import matplotlib.pyplot as plt\n",
    "import warnings\n",
    "import multiprocessing\n",
    "import os, datetime\n",
    "from tqdm import tqdm\n",
    "from numpy.fft import rfft, irfft\n",
    "\n",
    "from lisatools.diagnostic import *\n",
    "from lisatools.sensitivity import SensitivityMatrix, A1TDISens, E1TDISens, LISASens\n",
    "from lisatools.utils.constants import *\n",
    "from lisatools.detector import ESAOrbits, EqualArmlengthOrbits\n",
    "from lisatools.datacontainer import DataResidualArray \n",
    "from lisatools.analysiscontainer import AnalysisContainer\n",
    "\n",
    "from few.waveform import GenerateEMRIWaveform\n",
    "from few.utils.constants import *\n",
    "from few.trajectory.inspiral import EMRIInspiral\n",
    "from few.utils.utility import get_p_at_t\n",
    "from few.utils.fdutils import *\n",
    "traj_module = EMRIInspiral(func=\"KerrEccEqFlux\")\n",
    "\n",
    "from eryn.ensemble import EnsembleSampler\n",
    "from eryn.prior import ProbDistContainer, uniform_dist\n",
    "from eryn.state import State\n",
    "from scipy.signal.windows import tukey, hann, boxcar, nuttall, blackman\n",
    "from eryn.backends import HDFBackend\n",
    "\n",
    "from fastlisaresponse import pyResponseTDI, ResponseWrapper\n",
    "\n",
    "try:\n",
    "    import cupy as cp\n",
    "except Exception:\n",
    "    cp = None"
   ]
  },
  {
   "cell_type": "code",
   "execution_count": 2,
   "id": "5fc76363-94e1-4f5a-9332-31c6db268bd4",
   "metadata": {},
   "outputs": [],
   "source": [
    "# gpu\n",
    "use_gpu = False"
   ]
  },
  {
   "cell_type": "code",
   "execution_count": 3,
   "id": "3543994a-afcb-497e-8d28-a4f8be24f804",
   "metadata": {},
   "outputs": [],
   "source": [
    "# metric\n",
    "metric = \"FastKerrEccentricEquatorialFlux\"   # Kerr\n",
    "traj = \"KerrEccEqFlux\""
   ]
  },
  {
   "cell_type": "code",
   "execution_count": 4,
   "id": "cfb55870-885a-4e74-a3ce-51dcd41655d9",
   "metadata": {},
   "outputs": [],
   "source": [
    "# Observation parameters\n",
    "#Tobs = 1  # [years]\n",
    "#dt = 50.0  # [s]\n",
    "\n",
    "Tobs = 0.006 # almost 2 days [yrs]\n",
    "dt = 10.0  # [s]\n",
    "eps = 1e-5  # mode content\n",
    "\n",
    "emri_waveform_kwargs = dict(T=Tobs, dt=dt, eps=eps)"
   ]
  },
  {
   "cell_type": "code",
   "execution_count": 5,
   "id": "31af6830-19d6-4c28-a4ad-7e75ba558c1b",
   "metadata": {},
   "outputs": [],
   "source": [
    "# Waveform parameters\n",
    "M = 1e6  # central object mass\n",
    "mu = 10  # secondary object mass\n",
    "a = 0.5  # spin (will be ignored in Schwarzschild waveform)\n",
    "#p0 = 8.2  # initial semi-latus rectum\n",
    "p0 = 5.2  # initial semi-latus rectum\n",
    "e0 = 0.5  # eccentricity\n",
    "x0 = 1.0  # cosine of inclination \n",
    "dist = 1.0  # distance\n",
    "\n",
    "qK = np.pi / 6  # polar spin angle (theta)\n",
    "phiK = np.pi / 3  # azimuthal viewing angle\n",
    "qS = np.pi / 6  # polar sky angle\n",
    "phiS = np.pi / 3  # azimuthal viewing angle\n",
    "\n",
    "Phi_phi0 = np.pi / 3\n",
    "Phi_theta0 = np.pi / 6\n",
    "Phi_r0 = np.pi / 3\n",
    "\n",
    "\n",
    "\n",
    "emri_waveform_args = [\n",
    "    M,\n",
    "    mu,\n",
    "    a,\n",
    "    p0,\n",
    "    e0,\n",
    "    x0,\n",
    "    dist,\n",
    "    qS,\n",
    "    phiS,\n",
    "    qK,\n",
    "    phiK,\n",
    "    Phi_phi0,\n",
    "    Phi_theta0,\n",
    "    Phi_r0,\n",
    "]"
   ]
  },
  {
   "cell_type": "code",
   "execution_count": 6,
   "id": "d4f74014-a846-4036-ba13-b48b96683a96",
   "metadata": {},
   "outputs": [],
   "source": [
    "# TDI\n",
    "\n",
    "tdi_chan=\"AE\"\n",
    "tdi_labels=[\"A\", \"E\"]\n",
    "\n",
    "#tdi_chan=\"AET\"\n",
    "#tdi_labels=[\"A\", \"E\", \"T\"]\n",
    "\n",
    "order = 25 # order of the langrangian interpolation (for strain and orbits?)\n",
    "\n",
    "tdi_gen=\"1st generation\"\n",
    "#tdi_gen=\"2nd generation\"\n",
    "\n",
    "\n",
    "response_kwargs = dict(\n",
    "        Tobs=Tobs,\n",
    "        dt=dt,\n",
    "        #t0 = 10000.0,  # time at which signal starts (chops off data at start and end of waveform)\n",
    "        order = order, # order of the langrangian interpolation (for strain and orbits?)\n",
    "        index_beta = 7,   # Sky location parameters: theta --> qS\n",
    "        index_lambda = 8, #                          phi --> phiS\n",
    "        tdi=tdi_gen, \n",
    "        tdi_chan=tdi_chan,\n",
    "        orbits=EqualArmlengthOrbits(),\n",
    "    )"
   ]
  },
  {
   "cell_type": "markdown",
   "id": "cfd31245-3dcc-42b1-b950-8f820050e038",
   "metadata": {},
   "source": [
    "Generate TD data with detector response --> chans"
   ]
  },
  {
   "cell_type": "code",
   "execution_count": 7,
   "id": "9d0e2b4c-809e-4688-a1ba-e4f5976ceabc",
   "metadata": {},
   "outputs": [],
   "source": [
    "# Initialise generator\n",
    "td_gen = GenerateEMRIWaveform(\n",
    "        metric,\n",
    "        sum_kwargs=dict(pad_output=True, odd_len=True),\n",
    "        return_list=False,\n",
    "        use_gpu=use_gpu,\n",
    "    )\n",
    "\n",
    "\n",
    "\n",
    "lisa_response = ResponseWrapper(waveform_gen=td_gen,\n",
    "                                flip_hx=True,\n",
    "                                use_gpu=use_gpu,\n",
    "                                remove_sky_coords=False,\n",
    "                                is_ecliptic_latitude=False,\n",
    "                                remove_garbage=False,\n",
    "                                **response_kwargs)\n",
    "\n",
    "\n",
    "\n",
    "\n",
    "def fastlisaresponse(*params, emri_waveform_kwargs=None):\n",
    "    return lisa_response(*params, **(emri_waveform_kwargs or {}))"
   ]
  },
  {
   "cell_type": "markdown",
   "id": "e5ad6bae-418b-4887-96a5-b875ebb9a4c8",
   "metadata": {},
   "source": [
    "#### Generate TD waveform"
   ]
  },
  {
   "cell_type": "code",
   "execution_count": 8,
   "id": "b049fda8-28a1-4f89-83d2-d10d466ccfcb",
   "metadata": {},
   "outputs": [
    {
     "name": "stdout",
     "output_type": "stream",
     "text": [
      "Waveform generation took 10.48 s\n"
     ]
    }
   ],
   "source": [
    "# Generate a waveform\n",
    "start = time.time()\n",
    "chans = fastlisaresponse(\n",
    "    *emri_waveform_args,\n",
    "    emri_waveform_kwargs=emri_waveform_kwargs,\n",
    ")\n",
    "print(f\"Waveform generation took {time.time()-start:.2f} s\")"
   ]
  },
  {
   "cell_type": "code",
   "execution_count": 9,
   "id": "d1984e44-d342-4f5d-b111-3733c9b5d6c2",
   "metadata": {},
   "outputs": [
    {
     "data": {
      "image/png": "[encoded data removed]",
      "text/plain": [
       "<Figure size 800x300 with 1 Axes>"
      ]
     },
     "metadata": {},
     "output_type": "display_data"
    }
   ],
   "source": [
    "# Visualise the signal\n",
    "time_array = np.arange(0,len(chans[0]))*dt\n",
    "\n",
    "plt.figure(figsize=(8,3))\n",
    "plt.plot(time_array, chans[0], label='TD waveform')\n",
    "plt.ylabel(r'$h_{A}(t)$')\n",
    "plt.xlabel(r'$t$ [s]')\n",
    "#plt.xlim(1.7e5,1.9e5)\n",
    "plt.legend()\n",
    "plt.tight_layout()\n",
    "\n",
    "plt.show()"
   ]
  },
  {
   "cell_type": "markdown",
   "id": "86e7f9e4-ddfd-4f82-94eb-3d91eb3f1fc8",
   "metadata": {},
   "source": [
    "#### Transform in FD and cut the data above minimum frequency"
   ]
  },
  {
   "cell_type": "markdown",
   "id": "537d5371-46ba-4f9c-ad44-e25d03a911bb",
   "metadata": {},
   "source": [
    "Compute min frequency"
   ]
  },
  {
   "cell_type": "code",
   "execution_count": 10,
   "id": "26d0ebb3-8b13-4fe7-8dc3-31891669ad97",
   "metadata": {},
   "outputs": [],
   "source": [
    "# Compute f_min\n",
    "r_apo = p0 * M * MTSUN_SI / (1 - e0)  # meters\n",
    "r_per = p0 * M * MTSUN_SI / (1 + e0)  # meters\n",
    "r0 = (r_apo+r_per)/2\n",
    "\n",
    "f_orb_0 = np.sqrt(M * MTSUN_SI / r0**3) / (2 * np.pi)  # rad/s\n",
    "\n",
    "f_min = 2 * f_orb_0"
   ]
  },
  {
   "cell_type": "markdown",
   "id": "a1486c1a-96d0-4141-a0b0-6c313fcc55d1",
   "metadata": {},
   "source": [
    "Cut data above min freq"
   ]
  },
  {
   "cell_type": "code",
   "execution_count": 11,
   "id": "3de9f6cc-867a-411d-bbc0-d5cd747ff82b",
   "metadata": {},
   "outputs": [],
   "source": [
    "N = len(chans[0])\n",
    "freqs = np.fft.rfftfreq(N, d=dt)       \n",
    "complete_data = np.fft.rfft(chans, axis=-1) * dt  # FD\n",
    "\n",
    "# No cut (I do this because it's quicker than changing the variable name everywhere)\n",
    "data_filtered = complete_data\n",
    "freq_filtered = freqs"
   ]
  },
  {
   "cell_type": "raw",
   "id": "fd8c7e84-4cf8-47a3-a423-3d799fb1bd2c",
   "metadata": {},
   "source": [
    "plt.loglog(freq_filtered, 4*freq_filtered**2 * (np.abs(data_filtered[0])**2 + np.abs(data_filtered[1])**2) )\n",
    "\n",
    "plt.show()"
   ]
  },
  {
   "cell_type": "markdown",
   "id": "0acbdcf6-a257-4ebb-858a-e4eee391b6ab",
   "metadata": {},
   "source": [
    "#### Define w and W (gated function)"
   ]
  },
  {
   "cell_type": "markdown",
   "id": "52612dc2-13e6-4229-906f-4b9d97043e20",
   "metadata": {},
   "source": [
    "Choose positions of gaps: at 20%, 40%... of signal"
   ]
  },
  {
   "cell_type": "code",
   "execution_count": 12,
   "id": "38e7ec11-bebf-445e-8c43-75135ea8b3a4",
   "metadata": {},
   "outputs": [],
   "source": [
    "N_d = 2*int(60*60/dt)   # Length gap: 2 hrs\n",
    "#N_d = 2*int(60*60*24/dt)  # Length gap: 2 day\n",
    "\n",
    "N_tot = len(chans[0])   # Tot lenght of signal\n",
    "\n",
    "u = np.array([0.20, 0.40, 0.60, 0.80])  # position of gaps (after 20%, 40%... of signal)\n",
    "\n",
    "idx = np.floor(u * (N_tot - N_d) - 1).astype(int) # obtain the indeces of such positions"
   ]
  },
  {
   "cell_type": "markdown",
   "id": "2c2d1179-93bc-4002-8332-6da8dde8187c",
   "metadata": {},
   "source": [
    "Create w as an array of ones, where I put to zero the entries that correspond to the gaps"
   ]
  },
  {
   "cell_type": "code",
   "execution_count": 13,
   "id": "6ee432f5-447f-4acf-8edd-3592a5667c33",
   "metadata": {},
   "outputs": [],
   "source": [
    "w = np.ones(N_tot, dtype=int)  \n",
    "for i in idx: w[i:i+N_d] = 0     "
   ]
  },
  {
   "cell_type": "markdown",
   "id": "40223ad8-cbbb-4a0a-8de3-e098c958992b",
   "metadata": {},
   "source": [
    "Dataset with gaps obtained by multiplying the waveform by w (which sets the gap portions of the signal to zero)"
   ]
  },
  {
   "cell_type": "code",
   "execution_count": 14,
   "id": "9b5b9e84-f96d-4380-ba8e-f6e3950ab792",
   "metadata": {},
   "outputs": [],
   "source": [
    "chans_gap = chans * w"
   ]
  },
  {
   "cell_type": "markdown",
   "id": "ed61a687-0b45-42fd-bfc6-a174b020a27a",
   "metadata": {},
   "source": [
    "W diagonal matrix with w as its diagonal"
   ]
  },
  {
   "cell_type": "code",
   "execution_count": 15,
   "id": "b43063d1-da84-42ef-8878-b906540c4663",
   "metadata": {},
   "outputs": [],
   "source": [
    "W = np.diag(w)"
   ]
  },
  {
   "cell_type": "markdown",
   "id": "a5502da6-7f14-41de-9362-e2d341420b7e",
   "metadata": {},
   "source": [
    "Visualise signal with gaps"
   ]
  },
  {
   "cell_type": "code",
   "execution_count": 16,
   "id": "35fb482c-3a30-4d8c-ace8-6ec837c552aa",
   "metadata": {},
   "outputs": [
    {
     "data": {
      "image/png": "[encoded data removed]",
      "text/plain": [
       "<Figure size 800x300 with 1 Axes>"
      ]
     },
     "metadata": {},
     "output_type": "display_data"
    }
   ],
   "source": [
    "time_array = np.arange(0,len(chans_gap[0]))*dt\n",
    "\n",
    "plt.figure(figsize=(8,3))\n",
    "plt.plot(time_array, chans_gap[0], label='TD waveform')\n",
    "plt.axvline(idx[0]*dt, color='r', label='gap')\n",
    "plt.axvline(idx[1]*dt, color='r')\n",
    "plt.axvline(idx[2]*dt, color='r')\n",
    "plt.axvline(idx[3]*dt, color='r')\n",
    "plt.ylabel(r'$h_{+}(t)$')\n",
    "plt.xlabel(r'$t$ [s]')\n",
    "#plt.xlim(2.3e7,2.7e7)\n",
    "plt.legend()\n",
    "plt.tight_layout()\n",
    "\n",
    "plt.show()"
   ]
  },
  {
   "cell_type": "markdown",
   "id": "bfceca9d-9ccb-49b3-b360-e3e5c180d435",
   "metadata": {},
   "source": [
    "### Visualise FD signal"
   ]
  },
  {
   "cell_type": "code",
   "execution_count": 17,
   "id": "ca4bd57d-6b02-4f99-b1fd-24b6bac9a623",
   "metadata": {},
   "outputs": [],
   "source": [
    "fft_gated = np.fft.rfft(chans_gap[0]) * dt\n",
    "freq_gated = np.fft.rfftfreq(len(chans_gap[0]), dt)\n",
    "\n",
    "positive_frequency_mask_gated = (freq_gated > 0.0)"
   ]
  },
  {
   "cell_type": "code",
   "execution_count": 18,
   "id": "a8957cf4-ef79-4cfd-8b63-4a0d4680a7fc",
   "metadata": {},
   "outputs": [
    {
     "data": {
      "image/png": "[encoded data removed]",
      "text/plain": [
       "<Figure size 640x480 with 1 Axes>"
      ]
     },
     "metadata": {},
     "output_type": "display_data"
    }
   ],
   "source": [
    "extr_freq_a = 1e-5\n",
    "extr_freq_b = 5e-2\n",
    "freq_grid = np.linspace(extr_freq_a, extr_freq_b)\n",
    "\n",
    "plt.loglog(freq_gated[positive_frequency_mask_gated],\n",
    "                 4 * freq_gated[positive_frequency_mask_gated]**2 * np.abs(fft_gated[positive_frequency_mask_gated])**2)\n",
    "plt.loglog(freq_grid, get_sensitivity(freq_grid, sens_fn='A1TDISens', return_type='PSD')*freq_grid,\n",
    "             color='#272323', linestyle='--', linewidth=2,   label='A/E ch. sens')\n",
    "plt.axvline(f_min, c='r')\n",
    "plt.ylabel(r'$| \\tilde{h}_{+} (f)|^2$',fontsize=16)\n",
    "plt.grid()\n",
    "plt.xlabel(r'$f$ [Hz]',fontsize=16)\n",
    "plt.ylim([1e-54, 1e-39])\n",
    "plt.title('DFT of TDI signals')\n",
    "plt.show()"
   ]
  },
  {
   "cell_type": "markdown",
   "id": "7fec7272-6524-4d62-82b4-ee961634b7ed",
   "metadata": {},
   "source": [
    "# FD likelihood "
   ]
  },
  {
   "cell_type": "markdown",
   "id": "c55d5e9a-70d1-402e-938a-5000edf5f492",
   "metadata": {},
   "source": [
    "### Compute pseudoinverse of gated covariance in FD"
   ]
  },
  {
   "cell_type": "markdown",
   "id": "cf812699-9ba7-4ad2-b521-f65a5efd3280",
   "metadata": {},
   "source": [
    "I'm doing everything for one channel (A). If it works, then I'll add also the second channel in the computation of the likelihood."
   ]
  },
  {
   "cell_type": "markdown",
   "id": "00f4f96b-9351-487d-9c38-e60212bf32b4",
   "metadata": {},
   "source": [
    "First, I compute Sigma tilda as a diagonal matrix with diagonal entries obtained by:\n",
    "\n",
    "$$ \\tilde{\\Sigma}_{ii} = \\frac{S_{n,i}}{2 df}  $$"
   ]
  },
  {
   "cell_type": "markdown",
   "id": "87b66efd-adeb-4b98-b729-63f88867fd32",
   "metadata": {},
   "source": [
    "So, first I take the corresponding frequencies."
   ]
  },
  {
   "cell_type": "code",
   "execution_count": 19,
   "id": "c983e580-e09a-4e4a-948b-a33662d5ae9a",
   "metadata": {},
   "outputs": [],
   "source": [
    "N = len(W)\n",
    "df = 1.0 / (N * dt)\n",
    "\n",
    "# obtain all the positive frequencies corresponding to the signal\n",
    "freqs = np.fft.rfftfreq(N, d=dt)"
   ]
  },
  {
   "cell_type": "markdown",
   "id": "a49329dd-6d74-49ec-8e5b-83466e738669",
   "metadata": {},
   "source": [
    "Then I compute the PSD for those frequencies and I build sigma tilde following the formula"
   ]
  },
  {
   "cell_type": "code",
   "execution_count": 20,
   "id": "fcb01834-2f9a-45c4-888a-a3e1ac7e810f",
   "metadata": {},
   "outputs": [
    {
     "name": "stdout",
     "output_type": "stream",
     "text": [
      "[[9.46700000e+14 0.00000000e+00 0.00000000e+00 ... 0.00000000e+00\n",
      "  0.00000000e+00 0.00000000e+00]\n",
      " [0.00000000e+00 3.63091040e-34 0.00000000e+00 ... 0.00000000e+00\n",
      "  0.00000000e+00 0.00000000e+00]\n",
      " [0.00000000e+00 0.00000000e+00 9.08276067e-35 ... 0.00000000e+00\n",
      "  0.00000000e+00 0.00000000e+00]\n",
      " ...\n",
      " [0.00000000e+00 0.00000000e+00 0.00000000e+00 ... 5.38003136e-35\n",
      "  0.00000000e+00 0.00000000e+00]\n",
      " [0.00000000e+00 0.00000000e+00 0.00000000e+00 ... 0.00000000e+00\n",
      "  5.37536515e-35 0.00000000e+00]\n",
      " [0.00000000e+00 0.00000000e+00 0.00000000e+00 ... 0.00000000e+00\n",
      "  0.00000000e+00 5.37069978e-35]]\n"
     ]
    },
    {
     "name": "stderr",
     "output_type": "stream",
     "text": [
      "/opt/anaconda3/envs/thesis/lib/python3.12/site-packages/lisatools/detector.py:633: RuntimeWarning: divide by zero encountered in divide\n",
      "  Sa_a = Sa_a_in * (1.0 + (0.4e-3 / frq) ** 2) * (1.0 + (frq / 8e-3) ** 4)\n",
      "/opt/anaconda3/envs/thesis/lib/python3.12/site-packages/lisatools/detector.py:635: RuntimeWarning: divide by zero encountered in power\n",
      "  Sa_d = Sa_a * (2.0 * np.pi * frq) ** (-4.0)\n",
      "/opt/anaconda3/envs/thesis/lib/python3.12/site-packages/lisatools/detector.py:637: RuntimeWarning: invalid value encountered in multiply\n",
      "  Sa_nu = Sa_d * (2.0 * np.pi * frq / C_SI) ** 2\n",
      "/opt/anaconda3/envs/thesis/lib/python3.12/site-packages/lisatools/detector.py:642: RuntimeWarning: divide by zero encountered in divide\n",
      "  Soms_d = Soms_d_in * (1.0 + (2.0e-3 / f) ** 4)\n",
      "/opt/anaconda3/envs/thesis/lib/python3.12/site-packages/lisatools/detector.py:644: RuntimeWarning: invalid value encountered in multiply\n",
      "  Soms_nu = Soms_d * (2.0 * np.pi * frq / C_SI) ** 2\n"
     ]
    }
   ],
   "source": [
    "Sn = get_sensitivity(freqs, sens_fn=\"A1TDISens\") # Compute PSD\n",
    "\n",
    "Sigma_tilde_diag = Sn / (2 * df) # Compute sigma tilde diagonal\n",
    "Sigma_tilde = np.diag(Sigma_tilde_diag) # Create sigma tilde as a diagonal matrix from Sigma_tilde_diag\n",
    "                                \n",
    "print(Sigma_tilde)"
   ]
  },
  {
   "cell_type": "markdown",
   "id": "387dca6f-2392-4cd5-9885-82735c9a8823",
   "metadata": {},
   "source": [
    "Then, compute W_tilde as a diagonal matrix with the DFT of w as its diagonal."
   ]
  },
  {
   "cell_type": "code",
   "execution_count": 21,
   "id": "eed833b2-b8ca-4abe-816b-90919c2c7a0c",
   "metadata": {},
   "outputs": [
    {
     "name": "stdout",
     "output_type": "stream",
     "text": [
      "W_tilde_filt shape: (9468, 9468)\n",
      "Sigma_tilde_filt shape: (9468, 9468)\n"
     ]
    }
   ],
   "source": [
    "w_tilde = np.fft.rfft(w) * dt  # DFT of w\n",
    "\n",
    "W_tilde = np.diag(w_tilde) # W with w_tilde as its diagonal\n",
    "\n",
    "print(f\"W_tilde_filt shape: {W_tilde.shape}\")\n",
    "print(f\"Sigma_tilde_filt shape: {Sigma_tilde.shape}\")"
   ]
  },
  {
   "cell_type": "markdown",
   "id": "95ff3308-5b11-4bb6-be53-716947cb1e9c",
   "metadata": {},
   "source": [
    " "
   ]
  },
  {
   "cell_type": "markdown",
   "id": "f0ffd60d-02fa-48b9-9cb1-14a40b83ae71",
   "metadata": {},
   "source": [
    "Compute $(\\tilde{W}\\tilde{\\Sigma}\\tilde{W})$."
   ]
  },
  {
   "cell_type": "code",
   "execution_count": 22,
   "id": "15d1c489-8ff2-45f6-bf9f-6fc11ab86e29",
   "metadata": {},
   "outputs": [],
   "source": [
    "Sigma_tilde_gated = W_tilde @ Sigma_tilde @ W_tilde"
   ]
  },
  {
   "cell_type": "markdown",
   "id": "e340b1d1-f432-4258-a9b0-fe72fd72afc2",
   "metadata": {},
   "source": [
    "Now compute the pseudoinverse with $\\texttt{np.linalg.pinv}$ and save it in a file, because the computation is a bit long (400 s)."
   ]
  },
  {
   "cell_type": "code",
   "execution_count": 23,
   "id": "89e0e0c9-2e5d-41f9-aad8-72eb812cd463",
   "metadata": {},
   "outputs": [
    {
     "name": "stdout",
     "output_type": "stream",
     "text": [
      "Pseudoinverse computation took 469.54 s\n",
      "Pseudoinverse saved to noCut_pinv_Sigma_tilde_gated.npy\n"
     ]
    }
   ],
   "source": [
    "pinv_computation = True\n",
    "\n",
    "pinv_filename = \"noCut_pinv_Sigma_tilde_gated.npy\"\n",
    "\n",
    "if pinv_computation:\n",
    "    # Compute pseudoinverse\n",
    "    start = time.time()\n",
    "    pinv_Sigma_tilde_gated = np.linalg.pinv(Sigma_tilde_gated)\n",
    "    print(f\"Pseudoinverse computation took {time.time()-start:.2f} s\")\n",
    "    \n",
    "    # Save result\n",
    "    np.save(pinv_filename, pinv_Sigma_tilde_gated)\n",
    "    print(f\"Pseudoinverse saved to {pinv_filename}\")\n",
    "else:\n",
    "    # Load pseudoinverse from file\n",
    "    print(f\"Loading pseudoinverse from {pinv_filename}\")\n",
    "    pinv_Sigma_tilde_gated = np.load(pinv_filename)\n",
    "    print(f\"Pseudoinverse loaded successfully\")"
   ]
  },
  {
   "cell_type": "markdown",
   "id": "d72d1f3a-944f-48a1-8988-5d6bfc5b83bf",
   "metadata": {},
   "source": [
    "I see that pinv_Sigma_filt is complex. How big is the imaginary part?"
   ]
  },
  {
   "cell_type": "code",
   "execution_count": 24,
   "id": "7a792853-ee97-4ec3-bf6f-0638ff683d07",
   "metadata": {},
   "outputs": [
    {
     "name": "stdout",
     "output_type": "stream",
     "text": [
      "Max imaginary part: 0.0\n"
     ]
    }
   ],
   "source": [
    "max_imag = np.max(np.abs(np.imag(pinv_Sigma_tilde_gated)))\n",
    "print(\"Max imaginary part:\", max_imag)"
   ]
  },
  {
   "cell_type": "markdown",
   "id": "182f7aa3-7bfa-4d4c-9b02-9260ddab2e64",
   "metadata": {},
   "source": [
    "It's big."
   ]
  },
  {
   "cell_type": "markdown",
   "id": "8427929a-3754-495d-b03a-af57f2c30b81",
   "metadata": {},
   "source": [
    "### Define likelihood function in FD"
   ]
  },
  {
   "cell_type": "markdown",
   "id": "3923d63a-daef-4ab1-a6b3-c0b979379901",
   "metadata": {},
   "source": [
    "Define the function for h (template), which does everything I did to generate and cut my FD dataset (without gaps)."
   ]
  },
  {
   "cell_type": "code",
   "execution_count": 25,
   "id": "7e7a0b13-c2cd-4220-87f2-3795ee23fd95",
   "metadata": {},
   "outputs": [],
   "source": [
    "def signal_gen(*emri_waveform_args):\n",
    "    chans = fastlisaresponse(*emri_waveform_args, emri_waveform_kwargs=emri_waveform_kwargs)\n",
    "    \n",
    "    FD_templ = np.fft.rfft(chans, axis=-1) * dt \n",
    "    \n",
    "    return FD_templ"
   ]
  },
  {
   "cell_type": "markdown",
   "id": "a71fddcd-b41a-41b6-8195-9e7804a0b8eb",
   "metadata": {},
   "source": [
    "Define function to compute the residuals ($\\tilde{Wd}-\\tilde{h}$), as presented in Eq.52 of Burke+(2025) paper:\n",
    "- I apply W to d, obtaining the gapped TD dataset.\n",
    "- Then I transform it in FD and CUT IT.\n",
    "- Finally I subtract the template h."
   ]
  },
  {
   "cell_type": "code",
   "execution_count": 26,
   "id": "25783ac4-0309-444a-8c01-ecb601db5f10",
   "metadata": {},
   "outputs": [],
   "source": [
    "def residual_computation(d, W, h):\n",
    "    # Args:\n",
    "    # d = TD dataset\n",
    "    # W = gated function\n",
    "    # h = FD template (already cut)\n",
    "    \n",
    "    gated_data = W @ d\n",
    "    \n",
    "    FD_data = np.fft.rfft(gated_data) * dt \n",
    "    \n",
    "    return FD_data - h"
   ]
  },
  {
   "cell_type": "markdown",
   "id": "4d44fba3-43b6-4d03-b8b5-c87b65293058",
   "metadata": {},
   "source": [
    "Define the likelihood function as in Eq.52 of Burke+(2025) paper."
   ]
  },
  {
   "cell_type": "code",
   "execution_count": 27,
   "id": "7910f87a-e2ae-445a-82dc-711812db0700",
   "metadata": {},
   "outputs": [],
   "source": [
    "def log_likelihood(d, *emri_waveform_args, pinv_Sigma=pinv_Sigma_tilde_gated):\n",
    "    \"\"\"\n",
    "    Compute the gated log-likelihood presented in Eq.52 of Burke+(2025) paper.\n",
    "    where `h` is produced by `signal_gen(*emri_waveform_args)`.\n",
    "\n",
    "    Args:\n",
    "        d: Observed data. \n",
    "        *emri_waveform_args: Arguments passed directly to `signal_gen` in order to \n",
    "            generate the waveform model `h(theta)`.\n",
    "        pinv_Sigma: pseudoinverse of FD covariance matrix.\n",
    "\n",
    "    Returns:\n",
    "        float or complex: Value of the log-likelihood. Returns a real scalar by\n",
    "            default, or complex if `complex=True` is passed in `inner_kwargs`.\n",
    "    \"\"\"\n",
    "    \n",
    "    h = signal_gen(*emri_waveform_args)\n",
    "\n",
    "    r = residual_computation(d[0], W, h[0])\n",
    "\n",
    "    return -0.5 * np.conj(r).T @ pinv_Sigma @ r"
   ]
  },
  {
   "cell_type": "code",
   "execution_count": 28,
   "id": "e8194fa4-31ec-473e-aa7a-3edd71d7b55b",
   "metadata": {},
   "outputs": [
    {
     "data": {
      "text/plain": [
       "np.complex128(-5.683584521907597e-68+0j)"
      ]
     },
     "execution_count": 28,
     "metadata": {},
     "output_type": "execute_result"
    }
   ],
   "source": [
    "log_likelihood(chans, *emri_waveform_args)"
   ]
  },
  {
   "cell_type": "code",
   "execution_count": 29,
   "id": "84af0734-9963-42a7-b54b-0b916309d1aa",
   "metadata": {},
   "outputs": [
    {
     "name": "stdout",
     "output_type": "stream",
     "text": [
      "Max imaginary part: 0.0\n"
     ]
    }
   ],
   "source": [
    "max_imag = np.max(np.abs(np.imag(log_likelihood(chans, *emri_waveform_args))))\n",
    "print(\"Max imaginary part:\", max_imag)"
   ]
  },
  {
   "cell_type": "markdown",
   "id": "852a70e5-37d5-4182-952a-54b4c690ac15",
   "metadata": {},
   "source": [
    "### Evaluate the likelihood to check"
   ]
  },
  {
   "cell_type": "markdown",
   "id": "102893b5-07db-4f73-b726-1ae3fbe66d75",
   "metadata": {},
   "source": [
    "I also plot the imaginary part, just to check."
   ]
  },
  {
   "cell_type": "code",
   "execution_count": 30,
   "id": "10392e33-420e-489b-b7d1-6894d811c709",
   "metadata": {},
   "outputs": [
    {
     "name": "stderr",
     "output_type": "stream",
     "text": [
      "python(26684) MallocStackLogging: can't turn off malloc stack logging because it was not enabled.\n",
      "M grid: 100%|█████████████████████████████████████████████████████████████████████████████████████| 11/11 [00:23<00:00,  2.13s/it]\n"
     ]
    }
   ],
   "source": [
    "M_grid = np.linspace(9e5, 1.1e6, 11)\n",
    "\n",
    "real_logL = -1 * np.ones(len(M_grid))\n",
    "imag_logL = -1 * np.ones(len(M_grid))\n",
    "\n",
    "# Generate a waveform\n",
    "start = time.time()\n",
    "chans = fastlisaresponse(\n",
    "    *emri_waveform_args,\n",
    "    emri_waveform_kwargs=emri_waveform_kwargs,\n",
    ")\n",
    "\n",
    "for idx, M in tqdm(enumerate(M_grid), total=len(M_grid), desc='M grid'):\n",
    "    emri_waveform_args_M = [\n",
    "        M,\n",
    "        mu,\n",
    "        a,\n",
    "        p0,\n",
    "        e0,\n",
    "        x0,\n",
    "        dist,\n",
    "        qS,\n",
    "        phiS,\n",
    "        qK,\n",
    "        phiK,\n",
    "        Phi_phi0,\n",
    "        Phi_theta0,\n",
    "        Phi_r0,\n",
    "    ]\n",
    "\n",
    "    \n",
    "    ll = log_likelihood(chans, *emri_waveform_args_M)\n",
    "    real_logL[idx] = np.real(ll)\n",
    "    imag_logL[idx] = np.imag(ll)\n"
   ]
  },
  {
   "cell_type": "code",
   "execution_count": 31,
   "id": "a71131ad-373f-42c0-8f10-9b9255ba7b89",
   "metadata": {},
   "outputs": [
    {
     "data": {
      "image/png": "[encoded data removed]",
      "text/plain": [
       "<Figure size 640x480 with 1 Axes>"
      ]
     },
     "metadata": {},
     "output_type": "display_data"
    }
   ],
   "source": [
    "plt.plot(M_grid, real_logL, label='Real')\n",
    "plt.plot(M_grid, imag_logL, label='Imag')\n",
    "\n",
    "plt.xlabel(r'$M [M_{\\odot}]$')\n",
    "plt.legend()\n",
    "plt.show()"
   ]
  },
  {
   "cell_type": "code",
   "execution_count": 32,
   "id": "4e99cb96-6d2b-4082-8618-63ebaac61075",
   "metadata": {},
   "outputs": [
    {
     "name": "stdout",
     "output_type": "stream",
     "text": [
      "Best M: 1.02e+06\n"
     ]
    }
   ],
   "source": [
    "max_idx = np.argmax(real_logL)\n",
    "M_best = M_grid[max_idx]\n",
    "logL_max = real_logL[max_idx]\n",
    "\n",
    "print(f\"Best M: {M_best:.2e}\")"
   ]
  },
  {
   "cell_type": "markdown",
   "id": "3cf889e7-dd32-43b7-8192-deff16b9908f",
   "metadata": {},
   "source": [
    "### Try and vary mu"
   ]
  },
  {
   "cell_type": "code",
   "execution_count": 33,
   "id": "048fcc92-2cee-4594-99f8-9bcc61b23dd3",
   "metadata": {},
   "outputs": [
    {
     "name": "stderr",
     "output_type": "stream",
     "text": [
      "M grid: 100%|█████████████████████████████████████████████████████████████████████████████████████| 11/11 [00:24<00:00,  2.19s/it]\n"
     ]
    }
   ],
   "source": [
    "mu_grid = np.linspace(9.9, 10.1, 11)\n",
    "\n",
    "real_logL = -1 * np.ones(len(M_grid))\n",
    "imag_logL = -1 * np.ones(len(M_grid))\n",
    "\n",
    "# Generate a waveform\n",
    "start = time.time()\n",
    "chans = fastlisaresponse(\n",
    "    *emri_waveform_args,\n",
    "    emri_waveform_kwargs=emri_waveform_kwargs,\n",
    ")\n",
    "M=1e6\n",
    "for idx, mu in tqdm(enumerate(mu_grid), total=len(mu_grid), desc='M grid'):\n",
    "    emri_waveform_args_M = [\n",
    "        M,\n",
    "        mu,\n",
    "        a,\n",
    "        p0,\n",
    "        e0,\n",
    "        x0,\n",
    "        dist,\n",
    "        qS,\n",
    "        phiS,\n",
    "        qK,\n",
    "        phiK,\n",
    "        Phi_phi0,\n",
    "        Phi_theta0,\n",
    "        Phi_r0,\n",
    "    ]\n",
    "    \n",
    "    ll = log_likelihood(chans, *emri_waveform_args_M)\n",
    "    real_logL[idx] = np.real(ll)\n",
    "    imag_logL[idx] = np.imag(ll)\n"
   ]
  },
  {
   "cell_type": "code",
   "execution_count": 34,
   "id": "34a93a57-c3e7-4f77-8ae1-3cddd6487456",
   "metadata": {},
   "outputs": [
    {
     "data": {
      "image/png": "[encoded data removed]",
      "text/plain": [
       "<Figure size 640x480 with 1 Axes>"
      ]
     },
     "metadata": {},
     "output_type": "display_data"
    }
   ],
   "source": [
    "plt.plot(M_grid, real_logL, label='Real')\n",
    "plt.plot(M_grid, imag_logL, label='Imag')\n",
    "\n",
    "plt.xlabel(r'$\\mu [M_{\\odot}]$')\n",
    "plt.legend()\n",
    "plt.show()"
   ]
  },
  {
   "cell_type": "code",
   "execution_count": 35,
   "id": "af5bd640-883e-4aa0-ad19-4e161636d205",
   "metadata": {},
   "outputs": [
    {
     "name": "stdout",
     "output_type": "stream",
     "text": [
      "Best mu: 9.90e+00\n"
     ]
    }
   ],
   "source": [
    "max_idx = np.argmax(real_logL)\n",
    "mu_best = mu_grid[max_idx]\n",
    "logL_max = real_logL[max_idx]\n",
    "\n",
    "print(f\"Best mu: {mu_best:.2e}\")"
   ]
  },
  {
   "cell_type": "markdown",
   "id": "883da9c6-b23c-4012-94e2-9b3ec3639553",
   "metadata": {},
   "source": [
    "# MCMC"
   ]
  },
  {
   "cell_type": "raw",
   "id": "50d1b28c-8cc6-4155-852e-bee2f96b3cc6",
   "metadata": {},
   "source": [
    "# MCMC\n",
    "# Define likelihood\n",
    "def wrapper_likelihood(x, fixed_parameters, d=data_filtered):\n",
    "    # Only M and mu vary, others are fixed\n",
    "    params = [x[0], x[1], x[2], x[3], x[4]]  + [fixed_parameters[0]] + [x[5], np.arccos(x[6]), x[7], np.arccos(x[8]), x[9], x[10], x[11], x[12]]\n",
    "    return log_likelihood(d, *params)\n"
   ]
  },
  {
   "cell_type": "code",
   "execution_count": 36,
   "id": "d1cb1d5f-8ce2-42ac-bb86-15dd2a230394",
   "metadata": {},
   "outputs": [],
   "source": [
    "def wrapper_likelihood(x, fixed_parameters, d=chans):\n",
    "    # Only M and mu vary, others are fixed\n",
    "    params = [x[0], x[1]] + fixed_parameters.tolist()\n",
    "    return log_likelihood(d, *params)"
   ]
  },
  {
   "cell_type": "raw",
   "id": "06c2ce6c-8dd7-4a03-a81c-7fe32d63e057",
   "metadata": {},
   "source": [
    "priors = {'emri': ProbDistContainer({\n",
    "    0: uniform_dist(9e5, 1.1e6), #M\n",
    "    1: uniform_dist(9, 11),      #mu\n",
    "    2: uniform_dist(0.45, 0.55), #a\n",
    "    3: uniform_dist(8, 8.5),     #p0\n",
    "    4: uniform_dist(0.45, 0.55), #e0\n",
    "    5: uniform_dist(0.9, 1.1),   #dist\n",
    "    6: uniform_dist(-1, 1),      #qS\n",
    "    7: uniform_dist(0, 2*np.pi), #phiS\n",
    "    8: uniform_dist(-1, 1),      #qK\n",
    "    9: uniform_dist(0, 2*np.pi), #phiK \n",
    "    10: uniform_dist(0, 2*np.pi),#Phi_phi0 \n",
    "    11: uniform_dist(0, 2*np.pi),#Phi_r0 \n",
    "    12: uniform_dist(0, 2*np.pi),#Phi_r0\n",
    "}, return_gpu=use_gpu)}\n",
    "\n",
    "\n",
    "\n",
    "fixed_parameters = np.array([\n",
    "    x0,\n",
    "])"
   ]
  },
  {
   "cell_type": "code",
   "execution_count": 37,
   "id": "bd7411d4-4dd5-4bc3-a872-ae07434133c1",
   "metadata": {},
   "outputs": [],
   "source": [
    "priors = {'emri': ProbDistContainer({\n",
    "    0: uniform_dist(9.999e5, 1.001e6),\n",
    "    1: uniform_dist(9.99, 10.01)\n",
    "}, return_gpu=use_gpu)}\n",
    "\n",
    "\n",
    "fixed_parameters = np.array([\n",
    "    a,\n",
    "    p0,\n",
    "    e0,\n",
    "    x0,\n",
    "    dist,\n",
    "    qS,\n",
    "    phiS,\n",
    "    qK,\n",
    "    phiK,\n",
    "    Phi_phi0,\n",
    "    Phi_theta0,\n",
    "    Phi_r0,\n",
    "])"
   ]
  },
  {
   "cell_type": "raw",
   "id": "c8a14a4a-dd19-41ce-9dd7-805a8cd39595",
   "metadata": {},
   "source": [
    "fname = \"whittle.h5\"\n",
    "if os.path.exists(fname):\n",
    "    ts = datetime.datetime.now().strftime(\"_%Y%m%d_%H%M%S\")\n",
    "    os.rename(fname, fname.replace(\".h5\", ts + \".h5\"))\n",
    "backend = HDFBackend(fname)"
   ]
  },
  {
   "cell_type": "raw",
   "id": "9c51bc7d-0b3e-4f0a-92bc-29a95d8a1e8c",
   "metadata": {},
   "source": [
    "sampler = EnsembleSampler(\n",
    "    nwalkers=32,\n",
    "    ndims={'emri': 13},\n",
    "    log_like_fn=wrapper_likelihood,\n",
    "    priors=priors,\n",
    "    args=(fixed_parameters,),\n",
    "    branch_names=['emri'],\n",
    "    tempering_kwargs=dict(ntemps=10),\n",
    "    backend=HDFBackend(fname),\n",
    ")"
   ]
  },
  {
   "cell_type": "code",
   "execution_count": 38,
   "id": "3f748d61-657f-4093-9d8e-7623e016a546",
   "metadata": {},
   "outputs": [],
   "source": [
    "fname = \"FD_gated_likelihood.h5\"\n",
    "if os.path.exists(fname):\n",
    "    ts = datetime.datetime.now().strftime(\"_%Y%m%d_%H%M%S\")\n",
    "    os.rename(fname, fname.replace(\".h5\", ts + \".h5\"))\n",
    "backend = HDFBackend(fname)"
   ]
  },
  {
   "cell_type": "raw",
   "id": "e194b78d-6292-49bf-a35c-e246912a3c9e",
   "metadata": {},
   "source": [
    "# Initialize sampler with parallel pool\n",
    "import multiprocessing \n",
    "\n",
    "NUM_CORES = max(multiprocessing.cpu_count() - 1, 1)\n",
    "\n",
    "print(f\"Starting MCMC with {NUM_CORES} processes\")\n",
    "multiprocessing.set_start_method('fork', force=True)\n",
    "pool = multiprocessing.Pool(NUM_CORES)\n",
    "\n",
    "sampler = EnsembleSampler(\n",
    "    nwalkers=32,\n",
    "    ndims={'emri': 2},\n",
    "    log_like_fn=wrapper_likelihood,\n",
    "    priors=priors,\n",
    "    args=(fixed_parameters,),\n",
    "    branch_names=['emri'],\n",
    "    tempering_kwargs=dict(ntemps=10),\n",
    "    pool=pool  # Enable parallel evaluation\n",
    ")\n",
    "\n",
    "# Starting positions\n",
    "M=1e6\n",
    "mu=10\n",
    "injection = np.array([M, mu])\n",
    "start = injection * (1 + 1e-7 * np.random.randn(10, 32, 1, 2))\n",
    "start_state = State({'emri': start})\n",
    "\n",
    "# Run MCMC\n",
    "sampler.compute_log_prior(start_state.branches_coords)\n",
    "sampler.run_mcmc(start_state, nsteps=500, progress=True)\n",
    "\n",
    "print('MCMC completed')\n",
    "\n",
    "chain = sampler.get_chain()\n",
    "np.save('mcmc_chain_pure_signal.npy', chain)"
   ]
  },
  {
   "cell_type": "raw",
   "id": "79644729-f25a-4452-b329-23a89174cfb1",
   "metadata": {},
   "source": [
    "# Starting positions\n",
    "injection = np.array([M, mu, a, p0, e0, dist, np.cos(qS), phiS, np.cos(qK), phiK, Phi_phi0, Phi_theta0, Phi_r0])\n",
    "start = injection * (1 + 1e-7 * np.random.randn(10, 32, 1, 13))\n",
    "start_state = State({'emri': start})"
   ]
  },
  {
   "cell_type": "raw",
   "id": "aa712b97-c4c9-4f61-a4ea-c8bde5b43323",
   "metadata": {},
   "source": [
    "# Run MCMC\n",
    "start_time = time.time()\n",
    "\n",
    "sampler.compute_log_prior(start_state.branches_coords)\n",
    "sampler.run_mcmc(start_state, nsteps=1000, progress=True)\n",
    "\n",
    "print(f\"MCMC completed! It took {time.time()-start_time:.2f} s\")"
   ]
  },
  {
   "cell_type": "code",
   "execution_count": null,
   "id": "de5bf34e-74f3-4f8e-b866-ac45a851a048",
   "metadata": {},
   "outputs": [],
   "source": []
  },
  {
   "cell_type": "markdown",
   "id": "11177f76-9847-4a48-b95d-b84bb79447e4",
   "metadata": {},
   "source": [
    "Backup"
   ]
  },
  {
   "cell_type": "raw",
   "id": "028e5cfd-2f36-4f0f-adbd-75091b597c3a",
   "metadata": {},
   "source": [
    "from scipy.fft import fft, ifft\n",
    "\n",
    "def fourier_domain_noise_covariance(Sn, w, dt):\n",
    "    \"\"\"\n",
    "    Compute Fourier-domain noise covariance matrix.\n",
    "    \n",
    "    Args:\n",
    "        Sn : array_like  --> PSD values of length N/2+1\n",
    "        w  : array_like  --> Window array in time domain of length N\n",
    "        dt : float       --> Sampling interval\n",
    "        \n",
    "    Returns:\n",
    "    Sigma_tilde : ndarray --> Fourier-domain covariance matrix (complex array N x N)\n",
    "    \"\"\"\n",
    "    \n",
    "    N = len(w)\n",
    "    df = 1.0 / (N * dt)\n",
    "    \n",
    "    w_tilde = dt * fft(w)\n",
    "\n",
    "    # Fill u with PSD values\n",
    "    u = np.zeros(N, dtype=complex)\n",
    "    u[0:N//2+1] = Sn\n",
    "    if N//2+1 < N:\n",
    "        u[N//2+1:N] = Sn[1:-1][::-1]  # Sn[1:-1] reversed\n",
    "    \n",
    "    # Initialize complex covariance matrix\n",
    "    Sigma_tilde = np.zeros((N, N), dtype=complex)\n",
    "    \n",
    "    # Loop over diagonal indices\n",
    "    for diagonal in tqdm(range(N//2 + 1)):\n",
    "        # Circular permutation\n",
    "        w_shift = np.roll(w, -diagonal)\n",
    "        \n",
    "        v = w * w_shift\n",
    "\n",
    "        u_hat = fft(u)\n",
    "        v_hat = fft(v)\n",
    "        \n",
    "        D = (df / 2.0) * ifft(u_hat * v_hat)\n",
    "        \n",
    "        # Set diagonal of covariance matrix\n",
    "        for i in range(N):\n",
    "            j = (i + diagonal) % N\n",
    "            Sigma_tilde[i, j] = D[i]\n",
    "        \n",
    "        # If not the (N/2) diagonal, assign D* to mirrored diagonal entries\n",
    "        if diagonal != N//2:\n",
    "            for i in range(N):\n",
    "                j = (i - diagonal) % N\n",
    "                Sigma_tilde[i, j] = np.conj(D[i]) \n",
    "    \n",
    "    return Sigma_tilde"
   ]
  },
  {
   "cell_type": "raw",
   "id": "34112ece-cd03-40b6-b2ad-8f74c85d5292",
   "metadata": {},
   "source": [
    "import numpy as np\n",
    "from scipy.fft import rfft, irfft\n",
    "from tqdm import tqdm\n",
    "\n",
    "def fourier_domain_noise_covariance_fast_basic(Sn, w, dt):\n",
    "    N = len(w)\n",
    "    df = 1.0 / (N * dt)\n",
    "\n",
    "    # costruisci u (reale) dimensione N\n",
    "    u = np.zeros(N, dtype=float)\n",
    "    u[0:N//2+1] = Sn\n",
    "    if N//2+1 < N:\n",
    "        u[N//2+1:N] = Sn[1:-1][::-1]\n",
    "\n",
    "    # precomputi (solo una volta)\n",
    "    u_hat = rfft(u)            # lunghezza N//2+1\n",
    "    Sigma = np.zeros((N, N), dtype=np.complex128)\n",
    "\n",
    "    i = np.arange(N)\n",
    "    for diagonal in tqdm(range(N//2 + 1)):\n",
    "        w_shift = np.roll(w, -diagonal)\n",
    "        v = w * w_shift                      # reale\n",
    "        v_hat = rfft(v)\n",
    "        D = (df / 2.0) * irfft(u_hat * v_hat)  # vettore length N (reale)\n",
    "\n",
    "        j = (i + diagonal) % N\n",
    "        Sigma[i, j] = D                       # assegnazione vettorizzata\n",
    "        if diagonal != N//2:\n",
    "            Sigma[j, i] = np.conjugate(D)    # assegnazione vettorizzata mirroring\n",
    "\n",
    "    return Sigma\n"
   ]
  }
 ],
 "metadata": {
  "kernelspec": {
   "display_name": "Python (thesis)",
   "language": "python",
   "name": "thesis"
  },
  "language_info": {
   "codemirror_mode": {
    "name": "ipython",
    "version": 3
   },
   "file_extension": ".py",
   "mimetype": "text/x-python",
   "name": "python",
   "nbconvert_exporter": "python",
   "pygments_lexer": "ipython3",
   "version": "3.12.2"
  }
 },
 "nbformat": 4,
 "nbformat_minor": 5
}
